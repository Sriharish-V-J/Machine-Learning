{
 "cells": [
  {
   "cell_type": "code",
   "execution_count": 2,
   "metadata": {},
   "outputs": [
    {
     "name": "stdout",
     "output_type": "stream",
     "text": [
      "target\n",
      "1    437\n",
      "0    437\n",
      "Name: count, dtype: int64\n",
      "(874, 30)\n"
     ]
    }
   ],
   "source": [
    "import pandas as pd\n",
    "import numpy as np\n",
    "from imblearn.over_sampling import SMOTE\n",
    "\n",
    "def balance_binary_classes(df, target_col='target', random_state=42):\n",
    "    \"\"\"\n",
    "    Balances binary classification data by oversampling the minority class using SMOTE.\n",
    "    \n",
    "    Parameters:\n",
    "    - df: Input DataFrame with features and target\n",
    "    - target_col: Name of the target column (default: 'target')\n",
    "    - random_state: For reproducibility\n",
    "    \n",
    "    Returns:\n",
    "    - Balanced DataFrame with both classes having equal representation\n",
    "    \"\"\"\n",
    "    \n",
    "    X = df.drop(columns=[target_col])\n",
    "    y = df[target_col]\n",
    "    \n",
    "    # Find the majority and minority class\n",
    "    class_counts = y.value_counts()\n",
    "    majority_class = class_counts.idxmax()\n",
    "    minority_class = class_counts.idxmin()\n",
    "    \n",
    "    # Apply SMOTE to balance the dataset\n",
    "    smote = SMOTE(sampling_strategy='auto', random_state=random_state)\n",
    "    X_res, y_res = smote.fit_resample(X, y)\n",
    "    \n",
    "    # Create balanced DataFrame\n",
    "    balanced_df = pd.DataFrame(X_res, columns=X.columns)\n",
    "    balanced_df[target_col] = y_res\n",
    "    \n",
    "    return balanced_df\n",
    "\n",
    "# Usage:\n",
    "df = pd.read_csv(r'D:\\Machine-Learning\\ECG-Based Arrhythmia Detection\\Binary_Classification\\Binary.csv')\n",
    "balanced_df = balance_binary_classes(df)\n",
    "print(balanced_df['target'].value_counts())\n",
    "print(balanced_df.shape)\n"
   ]
  },
  {
   "cell_type": "code",
   "execution_count": 3,
   "metadata": {},
   "outputs": [],
   "source": [
    "balanced_df.to_csv('Balanced_binary.csv', index=False)"
   ]
  },
  {
   "cell_type": "code",
   "execution_count": null,
   "metadata": {},
   "outputs": [],
   "source": []
  }
 ],
 "metadata": {
  "kernelspec": {
   "display_name": "Python 3",
   "language": "python",
   "name": "python3"
  },
  "language_info": {
   "codemirror_mode": {
    "name": "ipython",
    "version": 3
   },
   "file_extension": ".py",
   "mimetype": "text/x-python",
   "name": "python",
   "nbconvert_exporter": "python",
   "pygments_lexer": "ipython3",
   "version": "3.10.11"
  }
 },
 "nbformat": 4,
 "nbformat_minor": 2
}
