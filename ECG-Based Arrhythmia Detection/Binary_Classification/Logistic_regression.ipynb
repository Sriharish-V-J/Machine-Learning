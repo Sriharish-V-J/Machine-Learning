{
 "cells": [
  {
   "cell_type": "markdown",
   "metadata": {},
   "source": [
    "**Importing Necessary Libraries**"
   ]
  },
  {
   "cell_type": "code",
   "execution_count": 1,
   "metadata": {},
   "outputs": [],
   "source": [
    "import pandas as pd\n",
    "import matplotlib.pyplot as plt\n",
    "import seaborn as sns\n",
    "from sklearn.model_selection import train_test_split\n",
    "from sklearn.preprocessing import StandardScaler\n",
    "from sklearn.linear_model import LogisticRegression\n",
    "from sklearn.metrics import accuracy_score, classification_report, confusion_matrix, roc_curve, auc,precision_score, recall_score, f1_score\n",
    "import numpy as np"
   ]
  },
  {
   "cell_type": "markdown",
   "metadata": {},
   "source": [
    "**Logistic Regression - Unbalanced Dataset**\n"
   ]
  },
  {
   "cell_type": "code",
   "execution_count": 2,
   "metadata": {},
   "outputs": [
    {
     "data": {
      "text/html": [
       "<div>\n",
       "<style scoped>\n",
       "    .dataframe tbody tr th:only-of-type {\n",
       "        vertical-align: middle;\n",
       "    }\n",
       "\n",
       "    .dataframe tbody tr th {\n",
       "        vertical-align: top;\n",
       "    }\n",
       "\n",
       "    .dataframe thead th {\n",
       "        text-align: right;\n",
       "    }\n",
       "</style>\n",
       "<table border=\"1\" class=\"dataframe\">\n",
       "  <thead>\n",
       "    <tr style=\"text-align: right;\">\n",
       "      <th></th>\n",
       "      <th>Feature1</th>\n",
       "      <th>Feature2</th>\n",
       "      <th>Feature3</th>\n",
       "      <th>Feature4</th>\n",
       "      <th>Feature5</th>\n",
       "      <th>Feature6</th>\n",
       "      <th>Feature7</th>\n",
       "      <th>Feature8</th>\n",
       "      <th>Feature9</th>\n",
       "      <th>Feature10</th>\n",
       "      <th>...</th>\n",
       "      <th>Feature21</th>\n",
       "      <th>Feature22</th>\n",
       "      <th>Feature23</th>\n",
       "      <th>Feature24</th>\n",
       "      <th>Feature25</th>\n",
       "      <th>Feature26</th>\n",
       "      <th>Feature27</th>\n",
       "      <th>Feature28</th>\n",
       "      <th>Feature29</th>\n",
       "      <th>target</th>\n",
       "    </tr>\n",
       "  </thead>\n",
       "  <tbody>\n",
       "    <tr>\n",
       "      <th>0</th>\n",
       "      <td>1.942833</td>\n",
       "      <td>1.793557</td>\n",
       "      <td>-6.121474</td>\n",
       "      <td>-1.031132</td>\n",
       "      <td>0.487107</td>\n",
       "      <td>-0.346116</td>\n",
       "      <td>0.242493</td>\n",
       "      <td>-0.255091</td>\n",
       "      <td>-1.933793</td>\n",
       "      <td>0.456129</td>\n",
       "      <td>...</td>\n",
       "      <td>0.021294</td>\n",
       "      <td>-0.876791</td>\n",
       "      <td>-2.804382</td>\n",
       "      <td>-0.772752</td>\n",
       "      <td>0.902250</td>\n",
       "      <td>-0.283821</td>\n",
       "      <td>1.158110</td>\n",
       "      <td>-0.703144</td>\n",
       "      <td>-1.142507</td>\n",
       "      <td>1</td>\n",
       "    </tr>\n",
       "    <tr>\n",
       "      <th>1</th>\n",
       "      <td>-0.498266</td>\n",
       "      <td>4.290355</td>\n",
       "      <td>0.924083</td>\n",
       "      <td>-1.281493</td>\n",
       "      <td>8.153378</td>\n",
       "      <td>-2.302476</td>\n",
       "      <td>0.615296</td>\n",
       "      <td>-3.871441</td>\n",
       "      <td>1.491185</td>\n",
       "      <td>3.666561</td>\n",
       "      <td>...</td>\n",
       "      <td>-0.030226</td>\n",
       "      <td>1.076776</td>\n",
       "      <td>-1.426662</td>\n",
       "      <td>0.743057</td>\n",
       "      <td>0.212868</td>\n",
       "      <td>1.043947</td>\n",
       "      <td>0.948273</td>\n",
       "      <td>0.706128</td>\n",
       "      <td>-0.491125</td>\n",
       "      <td>1</td>\n",
       "    </tr>\n",
       "    <tr>\n",
       "      <th>2</th>\n",
       "      <td>-1.027512</td>\n",
       "      <td>3.363755</td>\n",
       "      <td>1.828574</td>\n",
       "      <td>-0.495802</td>\n",
       "      <td>7.458820</td>\n",
       "      <td>-2.484852</td>\n",
       "      <td>0.378415</td>\n",
       "      <td>-2.248700</td>\n",
       "      <td>-1.301424</td>\n",
       "      <td>4.136351</td>\n",
       "      <td>...</td>\n",
       "      <td>0.472101</td>\n",
       "      <td>1.206932</td>\n",
       "      <td>-0.923404</td>\n",
       "      <td>0.566657</td>\n",
       "      <td>0.293071</td>\n",
       "      <td>-0.145078</td>\n",
       "      <td>1.759649</td>\n",
       "      <td>0.516351</td>\n",
       "      <td>0.492429</td>\n",
       "      <td>1</td>\n",
       "    </tr>\n",
       "    <tr>\n",
       "      <th>3</th>\n",
       "      <td>2.736756</td>\n",
       "      <td>-2.241731</td>\n",
       "      <td>0.404660</td>\n",
       "      <td>-0.167861</td>\n",
       "      <td>-0.125442</td>\n",
       "      <td>0.496706</td>\n",
       "      <td>1.664382</td>\n",
       "      <td>-1.271026</td>\n",
       "      <td>0.213782</td>\n",
       "      <td>0.962099</td>\n",
       "      <td>...</td>\n",
       "      <td>-1.376614</td>\n",
       "      <td>-0.559114</td>\n",
       "      <td>-0.335620</td>\n",
       "      <td>0.088591</td>\n",
       "      <td>0.080121</td>\n",
       "      <td>-0.085828</td>\n",
       "      <td>0.038390</td>\n",
       "      <td>-0.096909</td>\n",
       "      <td>-0.426436</td>\n",
       "      <td>1</td>\n",
       "    </tr>\n",
       "    <tr>\n",
       "      <th>4</th>\n",
       "      <td>0.685796</td>\n",
       "      <td>0.223385</td>\n",
       "      <td>-2.080131</td>\n",
       "      <td>-0.011414</td>\n",
       "      <td>4.090118</td>\n",
       "      <td>0.650177</td>\n",
       "      <td>2.411078</td>\n",
       "      <td>2.637664</td>\n",
       "      <td>-1.594057</td>\n",
       "      <td>0.283371</td>\n",
       "      <td>...</td>\n",
       "      <td>0.540901</td>\n",
       "      <td>0.354731</td>\n",
       "      <td>-0.933172</td>\n",
       "      <td>-0.888606</td>\n",
       "      <td>0.902017</td>\n",
       "      <td>0.506791</td>\n",
       "      <td>0.640292</td>\n",
       "      <td>0.129010</td>\n",
       "      <td>0.092228</td>\n",
       "      <td>1</td>\n",
       "    </tr>\n",
       "  </tbody>\n",
       "</table>\n",
       "<p>5 rows × 30 columns</p>\n",
       "</div>"
      ],
      "text/plain": [
       "   Feature1  Feature2  Feature3  Feature4  Feature5  Feature6  Feature7  \\\n",
       "0  1.942833  1.793557 -6.121474 -1.031132  0.487107 -0.346116  0.242493   \n",
       "1 -0.498266  4.290355  0.924083 -1.281493  8.153378 -2.302476  0.615296   \n",
       "2 -1.027512  3.363755  1.828574 -0.495802  7.458820 -2.484852  0.378415   \n",
       "3  2.736756 -2.241731  0.404660 -0.167861 -0.125442  0.496706  1.664382   \n",
       "4  0.685796  0.223385 -2.080131 -0.011414  4.090118  0.650177  2.411078   \n",
       "\n",
       "   Feature8  Feature9  Feature10  ...  Feature21  Feature22  Feature23  \\\n",
       "0 -0.255091 -1.933793   0.456129  ...   0.021294  -0.876791  -2.804382   \n",
       "1 -3.871441  1.491185   3.666561  ...  -0.030226   1.076776  -1.426662   \n",
       "2 -2.248700 -1.301424   4.136351  ...   0.472101   1.206932  -0.923404   \n",
       "3 -1.271026  0.213782   0.962099  ...  -1.376614  -0.559114  -0.335620   \n",
       "4  2.637664 -1.594057   0.283371  ...   0.540901   0.354731  -0.933172   \n",
       "\n",
       "   Feature24  Feature25  Feature26  Feature27  Feature28  Feature29  target  \n",
       "0  -0.772752   0.902250  -0.283821   1.158110  -0.703144  -1.142507       1  \n",
       "1   0.743057   0.212868   1.043947   0.948273   0.706128  -0.491125       1  \n",
       "2   0.566657   0.293071  -0.145078   1.759649   0.516351   0.492429       1  \n",
       "3   0.088591   0.080121  -0.085828   0.038390  -0.096909  -0.426436       1  \n",
       "4  -0.888606   0.902017   0.506791   0.640292   0.129010   0.092228       1  \n",
       "\n",
       "[5 rows x 30 columns]"
      ]
     },
     "execution_count": 2,
     "metadata": {},
     "output_type": "execute_result"
    }
   ],
   "source": [
    "# Load dataset\n",
    "df = pd.read_csv(\"../Datasets/Unbalanced_Binary.csv\")\n",
    "df.head()"
   ]
  },
  {
   "cell_type": "code",
   "execution_count": 3,
   "metadata": {},
   "outputs": [
    {
     "data": {
      "text/plain": [
       "target\n",
       "1    437\n",
       "0     80\n",
       "Name: count, dtype: int64"
      ]
     },
     "execution_count": 3,
     "metadata": {},
     "output_type": "execute_result"
    }
   ],
   "source": [
    "df['target'].value_counts()"
   ]
  },
  {
   "cell_type": "code",
   "execution_count": 4,
   "metadata": {},
   "outputs": [],
   "source": [
    "# Splitting features and target\n",
    "X = df.drop(columns=['target'])  # Replace 'target' with actual target column name\n",
    "y = df['target']"
   ]
  },
  {
   "cell_type": "code",
   "execution_count": 5,
   "metadata": {},
   "outputs": [],
   "source": [
    "# Train-test split\n",
    "X_train, X_test, y_train, y_test = train_test_split(X, y, test_size=0.2, random_state=42)"
   ]
  },
  {
   "cell_type": "code",
   "execution_count": 6,
   "metadata": {},
   "outputs": [],
   "source": [
    "scaler = StandardScaler()\n",
    "X_train_scaled = scaler.fit_transform(X_train)\n",
    "X_test_scaled = scaler.transform(X_test)"
   ]
  },
  {
   "cell_type": "code",
   "execution_count": 7,
   "metadata": {},
   "outputs": [],
   "source": [
    "#Initialize and train Logistic Regression model\n",
    "log_reg = LogisticRegression(\n",
    "    solver='lbfgs',       \n",
    "    max_iter=1000,        \n",
    "    class_weight='balanced', \n",
    "    random_state=42,\n",
    "    n_jobs=-1              \n",
    ")"
   ]
  },
  {
   "cell_type": "code",
   "execution_count": 8,
   "metadata": {},
   "outputs": [
    {
     "data": {
      "text/html": [
       "<style>#sk-container-id-1 {color: black;background-color: white;}#sk-container-id-1 pre{padding: 0;}#sk-container-id-1 div.sk-toggleable {background-color: white;}#sk-container-id-1 label.sk-toggleable__label {cursor: pointer;display: block;width: 100%;margin-bottom: 0;padding: 0.3em;box-sizing: border-box;text-align: center;}#sk-container-id-1 label.sk-toggleable__label-arrow:before {content: \"▸\";float: left;margin-right: 0.25em;color: #696969;}#sk-container-id-1 label.sk-toggleable__label-arrow:hover:before {color: black;}#sk-container-id-1 div.sk-estimator:hover label.sk-toggleable__label-arrow:before {color: black;}#sk-container-id-1 div.sk-toggleable__content {max-height: 0;max-width: 0;overflow: hidden;text-align: left;background-color: #f0f8ff;}#sk-container-id-1 div.sk-toggleable__content pre {margin: 0.2em;color: black;border-radius: 0.25em;background-color: #f0f8ff;}#sk-container-id-1 input.sk-toggleable__control:checked~div.sk-toggleable__content {max-height: 200px;max-width: 100%;overflow: auto;}#sk-container-id-1 input.sk-toggleable__control:checked~label.sk-toggleable__label-arrow:before {content: \"▾\";}#sk-container-id-1 div.sk-estimator input.sk-toggleable__control:checked~label.sk-toggleable__label {background-color: #d4ebff;}#sk-container-id-1 div.sk-label input.sk-toggleable__control:checked~label.sk-toggleable__label {background-color: #d4ebff;}#sk-container-id-1 input.sk-hidden--visually {border: 0;clip: rect(1px 1px 1px 1px);clip: rect(1px, 1px, 1px, 1px);height: 1px;margin: -1px;overflow: hidden;padding: 0;position: absolute;width: 1px;}#sk-container-id-1 div.sk-estimator {font-family: monospace;background-color: #f0f8ff;border: 1px dotted black;border-radius: 0.25em;box-sizing: border-box;margin-bottom: 0.5em;}#sk-container-id-1 div.sk-estimator:hover {background-color: #d4ebff;}#sk-container-id-1 div.sk-parallel-item::after {content: \"\";width: 100%;border-bottom: 1px solid gray;flex-grow: 1;}#sk-container-id-1 div.sk-label:hover label.sk-toggleable__label {background-color: #d4ebff;}#sk-container-id-1 div.sk-serial::before {content: \"\";position: absolute;border-left: 1px solid gray;box-sizing: border-box;top: 0;bottom: 0;left: 50%;z-index: 0;}#sk-container-id-1 div.sk-serial {display: flex;flex-direction: column;align-items: center;background-color: white;padding-right: 0.2em;padding-left: 0.2em;position: relative;}#sk-container-id-1 div.sk-item {position: relative;z-index: 1;}#sk-container-id-1 div.sk-parallel {display: flex;align-items: stretch;justify-content: center;background-color: white;position: relative;}#sk-container-id-1 div.sk-item::before, #sk-container-id-1 div.sk-parallel-item::before {content: \"\";position: absolute;border-left: 1px solid gray;box-sizing: border-box;top: 0;bottom: 0;left: 50%;z-index: -1;}#sk-container-id-1 div.sk-parallel-item {display: flex;flex-direction: column;z-index: 1;position: relative;background-color: white;}#sk-container-id-1 div.sk-parallel-item:first-child::after {align-self: flex-end;width: 50%;}#sk-container-id-1 div.sk-parallel-item:last-child::after {align-self: flex-start;width: 50%;}#sk-container-id-1 div.sk-parallel-item:only-child::after {width: 0;}#sk-container-id-1 div.sk-dashed-wrapped {border: 1px dashed gray;margin: 0 0.4em 0.5em 0.4em;box-sizing: border-box;padding-bottom: 0.4em;background-color: white;}#sk-container-id-1 div.sk-label label {font-family: monospace;font-weight: bold;display: inline-block;line-height: 1.2em;}#sk-container-id-1 div.sk-label-container {text-align: center;}#sk-container-id-1 div.sk-container {/* jupyter's `normalize.less` sets `[hidden] { display: none; }` but bootstrap.min.css set `[hidden] { display: none !important; }` so we also need the `!important` here to be able to override the default hidden behavior on the sphinx rendered scikit-learn.org. See: https://github.com/scikit-learn/scikit-learn/issues/21755 */display: inline-block !important;position: relative;}#sk-container-id-1 div.sk-text-repr-fallback {display: none;}</style><div id=\"sk-container-id-1\" class=\"sk-top-container\"><div class=\"sk-text-repr-fallback\"><pre>LogisticRegression(class_weight=&#x27;balanced&#x27;, max_iter=1000, n_jobs=-1,\n",
       "                   random_state=42)</pre><b>In a Jupyter environment, please rerun this cell to show the HTML representation or trust the notebook. <br />On GitHub, the HTML representation is unable to render, please try loading this page with nbviewer.org.</b></div><div class=\"sk-container\" hidden><div class=\"sk-item\"><div class=\"sk-estimator sk-toggleable\"><input class=\"sk-toggleable__control sk-hidden--visually\" id=\"sk-estimator-id-1\" type=\"checkbox\" checked><label for=\"sk-estimator-id-1\" class=\"sk-toggleable__label sk-toggleable__label-arrow\">LogisticRegression</label><div class=\"sk-toggleable__content\"><pre>LogisticRegression(class_weight=&#x27;balanced&#x27;, max_iter=1000, n_jobs=-1,\n",
       "                   random_state=42)</pre></div></div></div></div></div>"
      ],
      "text/plain": [
       "LogisticRegression(class_weight='balanced', max_iter=1000, n_jobs=-1,\n",
       "                   random_state=42)"
      ]
     },
     "execution_count": 8,
     "metadata": {},
     "output_type": "execute_result"
    }
   ],
   "source": [
    "log_reg.fit(X_train_scaled, y_train)"
   ]
  },
  {
   "cell_type": "code",
   "execution_count": 9,
   "metadata": {},
   "outputs": [],
   "source": [
    "y_pred = log_reg.predict(X_test_scaled)\n",
    "y_prob = log_reg.predict_proba(X_test_scaled)[:, 1]"
   ]
  },
  {
   "cell_type": "code",
   "execution_count": 10,
   "metadata": {},
   "outputs": [],
   "source": [
    "# Evaluation\n",
    "accuracy = accuracy_score(y_test, y_pred)\n",
    "precision = precision_score(y_test, y_pred)\n",
    "recall = recall_score(y_test, y_pred)\n",
    "f1 = f1_score(y_test, y_pred)"
   ]
  },
  {
   "cell_type": "code",
   "execution_count": 11,
   "metadata": {},
   "outputs": [
    {
     "name": "stdout",
     "output_type": "stream",
     "text": [
      "Precision: 0.9884\n",
      "Recall: 0.9341\n",
      "F1 Score: 0.9605\n"
     ]
    }
   ],
   "source": [
    "print(f\"Precision: {precision:.4f}\")\n",
    "print(f\"Recall: {recall:.4f}\")\n",
    "print(f\"F1 Score: {f1:.4f}\")"
   ]
  },
  {
   "cell_type": "code",
   "execution_count": 12,
   "metadata": {},
   "outputs": [
    {
     "name": "stdout",
     "output_type": "stream",
     "text": [
      "Accuracy: 0.9327\n",
      "              precision    recall  f1-score   support\n",
      "\n",
      "           0       0.67      0.92      0.77        13\n",
      "           1       0.99      0.93      0.96        91\n",
      "\n",
      "    accuracy                           0.93       104\n",
      "   macro avg       0.83      0.93      0.87       104\n",
      "weighted avg       0.95      0.93      0.94       104\n",
      "\n"
     ]
    }
   ],
   "source": [
    "print(f\"Accuracy: {accuracy:.4f}\")\n",
    "print(classification_report(y_test, y_pred))"
   ]
  },
  {
   "cell_type": "code",
   "execution_count": 13,
   "metadata": {},
   "outputs": [
    {
     "name": "stdout",
     "output_type": "stream",
     "text": [
      "Confusion Matrix:\n",
      " [[12  1]\n",
      " [ 6 85]]\n"
     ]
    }
   ],
   "source": [
    "# Evaluation Metrics\n",
    "cm = confusion_matrix(y_test, y_pred)\n",
    "print(\"Confusion Matrix:\\n\", cm)"
   ]
  },
  {
   "cell_type": "code",
   "execution_count": 14,
   "metadata": {},
   "outputs": [
    {
     "name": "stdout",
     "output_type": "stream",
     "text": [
      "Sensitivity: 0.9341\n",
      "Specificity: 0.9231\n"
     ]
    }
   ],
   "source": [
    "# Extract TP, TN, FP, FN\n",
    "TN, FP, FN, TP = cm.ravel()\n",
    "\n",
    "# Compute Sensitivity & Specificity\n",
    "sensitivity = TP / (TP + FN)\n",
    "specificity = TN / (TN + FP)\n",
    "\n",
    "print(f\"Sensitivity: {sensitivity:.4f}\")\n",
    "print(f\"Specificity: {specificity:.4f}\")"
   ]
  },
  {
   "cell_type": "code",
   "execution_count": 15,
   "metadata": {},
   "outputs": [
    {
     "data": {
      "text/plain": [
       "(array([0.5, 1.5]), [Text(0, 0.5, 'Negative'), Text(0, 1.5, 'Positive')])"
      ]
     },
     "execution_count": 15,
     "metadata": {},
     "output_type": "execute_result"
    },
    {
     "data": {
      "image/png": "[encoded data removed]",
      "text/plain": [
       "<Figure size 700x600 with 2 Axes>"
      ]
     },
     "metadata": {},
     "output_type": "display_data"
    }
   ],
   "source": [
    "# Plot Confusion Matrix\n",
    "plt.figure(figsize=(7,6))  # Increase figure size\n",
    "ax = sns.heatmap(cm, annot=True, fmt='.0f', cmap='Blues', \n",
    "                 linewidths=1.5, linecolor='black', \n",
    "                 annot_kws={\"size\": 14}, vmin=0, vmax=100,\n",
    "                 xticklabels=['Negative', 'Positive'], \n",
    "                 yticklabels=['Negative', 'Positive'])\n",
    "\n",
    "\n",
    "plt.xlabel(\"Predicted Label\", fontsize=14)\n",
    "plt.ylabel(\"True Label\", fontsize=14)\n",
    "plt.title(\"Confusion Matrix - Logistic Regression\", fontsize=16)\n",
    "plt.xticks(fontsize=12)\n",
    "plt.yticks(fontsize=12)"
   ]
  },
  {
   "cell_type": "code",
   "execution_count": 16,
   "metadata": {},
   "outputs": [
    {
     "data": {
      "image/png": "[encoded data removed]",
      "text/plain": [
       "<Figure size 640x480 with 1 Axes>"
      ]
     },
     "metadata": {},
     "output_type": "display_data"
    }
   ],
   "source": [
    "# ROC Curve\n",
    "fpr, tpr, _ = roc_curve(y_test, y_prob)\n",
    "roc_auc = auc(fpr, tpr)\n",
    "plt.plot(fpr, tpr, label=f\"AUC = {roc_auc:.2f}\")\n",
    "plt.plot([0,1], [0,1], linestyle='--', color='gray')\n",
    "plt.xlabel(\"False Positive Rate\")\n",
    "plt.ylabel(\"True Positive Rate\")\n",
    "plt.title(\"ROC Curve - Logistic Regression\")\n",
    "plt.legend()\n",
    "plt.show()"
   ]
  },
  {
   "cell_type": "markdown",
   "metadata": {},
   "source": [
    "**Logistic Regression - Balanced Dataset**"
   ]
  },
  {
   "cell_type": "code",
   "execution_count": 17,
   "metadata": {},
   "outputs": [
    {
     "data": {
      "text/html": [
       "<div>\n",
       "<style scoped>\n",
       "    .dataframe tbody tr th:only-of-type {\n",
       "        vertical-align: middle;\n",
       "    }\n",
       "\n",
       "    .dataframe tbody tr th {\n",
       "        vertical-align: top;\n",
       "    }\n",
       "\n",
       "    .dataframe thead th {\n",
       "        text-align: right;\n",
       "    }\n",
       "</style>\n",
       "<table border=\"1\" class=\"dataframe\">\n",
       "  <thead>\n",
       "    <tr style=\"text-align: right;\">\n",
       "      <th></th>\n",
       "      <th>Feature1</th>\n",
       "      <th>Feature2</th>\n",
       "      <th>Feature3</th>\n",
       "      <th>Feature4</th>\n",
       "      <th>Feature5</th>\n",
       "      <th>Feature6</th>\n",
       "      <th>Feature7</th>\n",
       "      <th>Feature8</th>\n",
       "      <th>Feature9</th>\n",
       "      <th>Feature10</th>\n",
       "      <th>...</th>\n",
       "      <th>Feature21</th>\n",
       "      <th>Feature22</th>\n",
       "      <th>Feature23</th>\n",
       "      <th>Feature24</th>\n",
       "      <th>Feature25</th>\n",
       "      <th>Feature26</th>\n",
       "      <th>Feature27</th>\n",
       "      <th>Feature28</th>\n",
       "      <th>Feature29</th>\n",
       "      <th>target</th>\n",
       "    </tr>\n",
       "  </thead>\n",
       "  <tbody>\n",
       "    <tr>\n",
       "      <th>0</th>\n",
       "      <td>1.942833</td>\n",
       "      <td>1.793557</td>\n",
       "      <td>-6.121474</td>\n",
       "      <td>-1.031132</td>\n",
       "      <td>0.487107</td>\n",
       "      <td>-0.346116</td>\n",
       "      <td>0.242493</td>\n",
       "      <td>-0.255091</td>\n",
       "      <td>-1.933793</td>\n",
       "      <td>0.456129</td>\n",
       "      <td>...</td>\n",
       "      <td>0.021294</td>\n",
       "      <td>-0.876791</td>\n",
       "      <td>-2.804382</td>\n",
       "      <td>-0.772752</td>\n",
       "      <td>0.902250</td>\n",
       "      <td>-0.283821</td>\n",
       "      <td>1.158110</td>\n",
       "      <td>-0.703144</td>\n",
       "      <td>-1.142507</td>\n",
       "      <td>1</td>\n",
       "    </tr>\n",
       "    <tr>\n",
       "      <th>1</th>\n",
       "      <td>-0.498266</td>\n",
       "      <td>4.290355</td>\n",
       "      <td>0.924083</td>\n",
       "      <td>-1.281493</td>\n",
       "      <td>8.153378</td>\n",
       "      <td>-2.302476</td>\n",
       "      <td>0.615296</td>\n",
       "      <td>-3.871441</td>\n",
       "      <td>1.491185</td>\n",
       "      <td>3.666561</td>\n",
       "      <td>...</td>\n",
       "      <td>-0.030226</td>\n",
       "      <td>1.076776</td>\n",
       "      <td>-1.426662</td>\n",
       "      <td>0.743057</td>\n",
       "      <td>0.212868</td>\n",
       "      <td>1.043947</td>\n",
       "      <td>0.948273</td>\n",
       "      <td>0.706128</td>\n",
       "      <td>-0.491125</td>\n",
       "      <td>1</td>\n",
       "    </tr>\n",
       "    <tr>\n",
       "      <th>2</th>\n",
       "      <td>-1.027512</td>\n",
       "      <td>3.363755</td>\n",
       "      <td>1.828574</td>\n",
       "      <td>-0.495802</td>\n",
       "      <td>7.458820</td>\n",
       "      <td>-2.484852</td>\n",
       "      <td>0.378415</td>\n",
       "      <td>-2.248700</td>\n",
       "      <td>-1.301424</td>\n",
       "      <td>4.136351</td>\n",
       "      <td>...</td>\n",
       "      <td>0.472101</td>\n",
       "      <td>1.206932</td>\n",
       "      <td>-0.923404</td>\n",
       "      <td>0.566657</td>\n",
       "      <td>0.293071</td>\n",
       "      <td>-0.145078</td>\n",
       "      <td>1.759649</td>\n",
       "      <td>0.516351</td>\n",
       "      <td>0.492429</td>\n",
       "      <td>1</td>\n",
       "    </tr>\n",
       "    <tr>\n",
       "      <th>3</th>\n",
       "      <td>2.736756</td>\n",
       "      <td>-2.241731</td>\n",
       "      <td>0.404660</td>\n",
       "      <td>-0.167861</td>\n",
       "      <td>-0.125442</td>\n",
       "      <td>0.496706</td>\n",
       "      <td>1.664382</td>\n",
       "      <td>-1.271026</td>\n",
       "      <td>0.213782</td>\n",
       "      <td>0.962099</td>\n",
       "      <td>...</td>\n",
       "      <td>-1.376614</td>\n",
       "      <td>-0.559114</td>\n",
       "      <td>-0.335620</td>\n",
       "      <td>0.088591</td>\n",
       "      <td>0.080121</td>\n",
       "      <td>-0.085828</td>\n",
       "      <td>0.038390</td>\n",
       "      <td>-0.096909</td>\n",
       "      <td>-0.426436</td>\n",
       "      <td>1</td>\n",
       "    </tr>\n",
       "    <tr>\n",
       "      <th>4</th>\n",
       "      <td>0.685796</td>\n",
       "      <td>0.223385</td>\n",
       "      <td>-2.080131</td>\n",
       "      <td>-0.011414</td>\n",
       "      <td>4.090118</td>\n",
       "      <td>0.650177</td>\n",
       "      <td>2.411078</td>\n",
       "      <td>2.637664</td>\n",
       "      <td>-1.594057</td>\n",
       "      <td>0.283371</td>\n",
       "      <td>...</td>\n",
       "      <td>0.540901</td>\n",
       "      <td>0.354731</td>\n",
       "      <td>-0.933172</td>\n",
       "      <td>-0.888606</td>\n",
       "      <td>0.902017</td>\n",
       "      <td>0.506791</td>\n",
       "      <td>0.640292</td>\n",
       "      <td>0.129010</td>\n",
       "      <td>0.092228</td>\n",
       "      <td>1</td>\n",
       "    </tr>\n",
       "  </tbody>\n",
       "</table>\n",
       "<p>5 rows × 30 columns</p>\n",
       "</div>"
      ],
      "text/plain": [
       "   Feature1  Feature2  Feature3  Feature4  Feature5  Feature6  Feature7  \\\n",
       "0  1.942833  1.793557 -6.121474 -1.031132  0.487107 -0.346116  0.242493   \n",
       "1 -0.498266  4.290355  0.924083 -1.281493  8.153378 -2.302476  0.615296   \n",
       "2 -1.027512  3.363755  1.828574 -0.495802  7.458820 -2.484852  0.378415   \n",
       "3  2.736756 -2.241731  0.404660 -0.167861 -0.125442  0.496706  1.664382   \n",
       "4  0.685796  0.223385 -2.080131 -0.011414  4.090118  0.650177  2.411078   \n",
       "\n",
       "   Feature8  Feature9  Feature10  ...  Feature21  Feature22  Feature23  \\\n",
       "0 -0.255091 -1.933793   0.456129  ...   0.021294  -0.876791  -2.804382   \n",
       "1 -3.871441  1.491185   3.666561  ...  -0.030226   1.076776  -1.426662   \n",
       "2 -2.248700 -1.301424   4.136351  ...   0.472101   1.206932  -0.923404   \n",
       "3 -1.271026  0.213782   0.962099  ...  -1.376614  -0.559114  -0.335620   \n",
       "4  2.637664 -1.594057   0.283371  ...   0.540901   0.354731  -0.933172   \n",
       "\n",
       "   Feature24  Feature25  Feature26  Feature27  Feature28  Feature29  target  \n",
       "0  -0.772752   0.902250  -0.283821   1.158110  -0.703144  -1.142507       1  \n",
       "1   0.743057   0.212868   1.043947   0.948273   0.706128  -0.491125       1  \n",
       "2   0.566657   0.293071  -0.145078   1.759649   0.516351   0.492429       1  \n",
       "3   0.088591   0.080121  -0.085828   0.038390  -0.096909  -0.426436       1  \n",
       "4  -0.888606   0.902017   0.506791   0.640292   0.129010   0.092228       1  \n",
       "\n",
       "[5 rows x 30 columns]"
      ]
     },
     "execution_count": 17,
     "metadata": {},
     "output_type": "execute_result"
    }
   ],
   "source": [
    "# Load dataset\n",
    "df = pd.read_csv(\"../Datasets/Balanced_Binary.csv\")\n",
    "df.head()"
   ]
  },
  {
   "cell_type": "code",
   "execution_count": 18,
   "metadata": {},
   "outputs": [
    {
     "data": {
      "text/plain": [
       "target\n",
       "1    437\n",
       "0    437\n",
       "Name: count, dtype: int64"
      ]
     },
     "execution_count": 18,
     "metadata": {},
     "output_type": "execute_result"
    }
   ],
   "source": [
    "df['target'].value_counts()"
   ]
  },
  {
   "cell_type": "code",
   "execution_count": 19,
   "metadata": {},
   "outputs": [],
   "source": [
    "# Splitting features and target\n",
    "X = df.drop(columns=['target'])  # Replace 'target' with actual target column name\n",
    "y = df['target']"
   ]
  },
  {
   "cell_type": "code",
   "execution_count": 20,
   "metadata": {},
   "outputs": [],
   "source": [
    "# Train-test split\n",
    "X_train, X_test, y_train, y_test = train_test_split(X, y, test_size=0.2, random_state=42)"
   ]
  },
  {
   "cell_type": "code",
   "execution_count": 21,
   "metadata": {},
   "outputs": [],
   "source": [
    "scaler = StandardScaler()\n",
    "X_train_scaled = scaler.fit_transform(X_train)\n",
    "X_test_scaled = scaler.transform(X_test)"
   ]
  },
  {
   "cell_type": "code",
   "execution_count": 22,
   "metadata": {},
   "outputs": [],
   "source": [
    "log_reg = LogisticRegression(\n",
    "    solver='lbfgs',       # Optimizer\n",
    "    max_iter=1000,        # Ensure convergence\n",
    "    class_weight='balanced', # Handles class imbalance\n",
    "    random_state=42,\n",
    "    n_jobs=-1              # Use all CPU cores\n",
    ")"
   ]
  },
  {
   "cell_type": "code",
   "execution_count": 23,
   "metadata": {},
   "outputs": [
    {
     "data": {
      "text/html": [
       "<style>#sk-container-id-2 {color: black;background-color: white;}#sk-container-id-2 pre{padding: 0;}#sk-container-id-2 div.sk-toggleable {background-color: white;}#sk-container-id-2 label.sk-toggleable__label {cursor: pointer;display: block;width: 100%;margin-bottom: 0;padding: 0.3em;box-sizing: border-box;text-align: center;}#sk-container-id-2 label.sk-toggleable__label-arrow:before {content: \"▸\";float: left;margin-right: 0.25em;color: #696969;}#sk-container-id-2 label.sk-toggleable__label-arrow:hover:before {color: black;}#sk-container-id-2 div.sk-estimator:hover label.sk-toggleable__label-arrow:before {color: black;}#sk-container-id-2 div.sk-toggleable__content {max-height: 0;max-width: 0;overflow: hidden;text-align: left;background-color: #f0f8ff;}#sk-container-id-2 div.sk-toggleable__content pre {margin: 0.2em;color: black;border-radius: 0.25em;background-color: #f0f8ff;}#sk-container-id-2 input.sk-toggleable__control:checked~div.sk-toggleable__content {max-height: 200px;max-width: 100%;overflow: auto;}#sk-container-id-2 input.sk-toggleable__control:checked~label.sk-toggleable__label-arrow:before {content: \"▾\";}#sk-container-id-2 div.sk-estimator input.sk-toggleable__control:checked~label.sk-toggleable__label {background-color: #d4ebff;}#sk-container-id-2 div.sk-label input.sk-toggleable__control:checked~label.sk-toggleable__label {background-color: #d4ebff;}#sk-container-id-2 input.sk-hidden--visually {border: 0;clip: rect(1px 1px 1px 1px);clip: rect(1px, 1px, 1px, 1px);height: 1px;margin: -1px;overflow: hidden;padding: 0;position: absolute;width: 1px;}#sk-container-id-2 div.sk-estimator {font-family: monospace;background-color: #f0f8ff;border: 1px dotted black;border-radius: 0.25em;box-sizing: border-box;margin-bottom: 0.5em;}#sk-container-id-2 div.sk-estimator:hover {background-color: #d4ebff;}#sk-container-id-2 div.sk-parallel-item::after {content: \"\";width: 100%;border-bottom: 1px solid gray;flex-grow: 1;}#sk-container-id-2 div.sk-label:hover label.sk-toggleable__label {background-color: #d4ebff;}#sk-container-id-2 div.sk-serial::before {content: \"\";position: absolute;border-left: 1px solid gray;box-sizing: border-box;top: 0;bottom: 0;left: 50%;z-index: 0;}#sk-container-id-2 div.sk-serial {display: flex;flex-direction: column;align-items: center;background-color: white;padding-right: 0.2em;padding-left: 0.2em;position: relative;}#sk-container-id-2 div.sk-item {position: relative;z-index: 1;}#sk-container-id-2 div.sk-parallel {display: flex;align-items: stretch;justify-content: center;background-color: white;position: relative;}#sk-container-id-2 div.sk-item::before, #sk-container-id-2 div.sk-parallel-item::before {content: \"\";position: absolute;border-left: 1px solid gray;box-sizing: border-box;top: 0;bottom: 0;left: 50%;z-index: -1;}#sk-container-id-2 div.sk-parallel-item {display: flex;flex-direction: column;z-index: 1;position: relative;background-color: white;}#sk-container-id-2 div.sk-parallel-item:first-child::after {align-self: flex-end;width: 50%;}#sk-container-id-2 div.sk-parallel-item:last-child::after {align-self: flex-start;width: 50%;}#sk-container-id-2 div.sk-parallel-item:only-child::after {width: 0;}#sk-container-id-2 div.sk-dashed-wrapped {border: 1px dashed gray;margin: 0 0.4em 0.5em 0.4em;box-sizing: border-box;padding-bottom: 0.4em;background-color: white;}#sk-container-id-2 div.sk-label label {font-family: monospace;font-weight: bold;display: inline-block;line-height: 1.2em;}#sk-container-id-2 div.sk-label-container {text-align: center;}#sk-container-id-2 div.sk-container {/* jupyter's `normalize.less` sets `[hidden] { display: none; }` but bootstrap.min.css set `[hidden] { display: none !important; }` so we also need the `!important` here to be able to override the default hidden behavior on the sphinx rendered scikit-learn.org. See: https://github.com/scikit-learn/scikit-learn/issues/21755 */display: inline-block !important;position: relative;}#sk-container-id-2 div.sk-text-repr-fallback {display: none;}</style><div id=\"sk-container-id-2\" class=\"sk-top-container\"><div class=\"sk-text-repr-fallback\"><pre>LogisticRegression(class_weight=&#x27;balanced&#x27;, max_iter=1000, n_jobs=-1,\n",
       "                   random_state=42)</pre><b>In a Jupyter environment, please rerun this cell to show the HTML representation or trust the notebook. <br />On GitHub, the HTML representation is unable to render, please try loading this page with nbviewer.org.</b></div><div class=\"sk-container\" hidden><div class=\"sk-item\"><div class=\"sk-estimator sk-toggleable\"><input class=\"sk-toggleable__control sk-hidden--visually\" id=\"sk-estimator-id-2\" type=\"checkbox\" checked><label for=\"sk-estimator-id-2\" class=\"sk-toggleable__label sk-toggleable__label-arrow\">LogisticRegression</label><div class=\"sk-toggleable__content\"><pre>LogisticRegression(class_weight=&#x27;balanced&#x27;, max_iter=1000, n_jobs=-1,\n",
       "                   random_state=42)</pre></div></div></div></div></div>"
      ],
      "text/plain": [
       "LogisticRegression(class_weight='balanced', max_iter=1000, n_jobs=-1,\n",
       "                   random_state=42)"
      ]
     },
     "execution_count": 23,
     "metadata": {},
     "output_type": "execute_result"
    }
   ],
   "source": [
    "log_reg.fit(X_train_scaled, y_train)"
   ]
  },
  {
   "cell_type": "code",
   "execution_count": 24,
   "metadata": {},
   "outputs": [],
   "source": [
    "y_pred = log_reg.predict(X_test_scaled)\n",
    "y_prob = log_reg.predict_proba(X_test_scaled)[:, 1]"
   ]
  },
  {
   "cell_type": "code",
   "execution_count": 25,
   "metadata": {},
   "outputs": [],
   "source": [
    "# Evaluation\n",
    "accuracy = accuracy_score(y_test, y_pred)\n",
    "precision = precision_score(y_test, y_pred)\n",
    "recall = recall_score(y_test, y_pred)\n",
    "f1 = f1_score(y_test, y_pred)"
   ]
  },
  {
   "cell_type": "code",
   "execution_count": 26,
   "metadata": {},
   "outputs": [
    {
     "name": "stdout",
     "output_type": "stream",
     "text": [
      "Precision: 0.9878\n",
      "Recall: 0.9529\n",
      "F1 Score: 0.9701\n"
     ]
    }
   ],
   "source": [
    "print(f\"Precision: {precision:.4f}\")\n",
    "print(f\"Recall: {recall:.4f}\")\n",
    "print(f\"F1 Score: {f1:.4f}\")"
   ]
  },
  {
   "cell_type": "code",
   "execution_count": 27,
   "metadata": {},
   "outputs": [
    {
     "name": "stdout",
     "output_type": "stream",
     "text": [
      "Accuracy: 0.9714\n",
      "              precision    recall  f1-score   support\n",
      "\n",
      "           0       0.96      0.99      0.97        90\n",
      "           1       0.99      0.95      0.97        85\n",
      "\n",
      "    accuracy                           0.97       175\n",
      "   macro avg       0.97      0.97      0.97       175\n",
      "weighted avg       0.97      0.97      0.97       175\n",
      "\n"
     ]
    }
   ],
   "source": [
    "print(f\"Accuracy: {accuracy:.4f}\")\n",
    "print(classification_report(y_test, y_pred))"
   ]
  },
  {
   "cell_type": "code",
   "execution_count": 28,
   "metadata": {},
   "outputs": [
    {
     "name": "stdout",
     "output_type": "stream",
     "text": [
      "Confusion Matrix:\n",
      " [[89  1]\n",
      " [ 4 81]]\n"
     ]
    }
   ],
   "source": [
    "# Evaluation Metrics\n",
    "cm = confusion_matrix(y_test, y_pred)\n",
    "print(\"Confusion Matrix:\\n\", cm)"
   ]
  },
  {
   "cell_type": "code",
   "execution_count": 29,
   "metadata": {},
   "outputs": [
    {
     "name": "stdout",
     "output_type": "stream",
     "text": [
      "Sensitivity: 0.9529\n",
      "Specificity: 0.9889\n"
     ]
    }
   ],
   "source": [
    "# Extract TP, TN, FP, FN\n",
    "TN, FP, FN, TP = cm.ravel()\n",
    "\n",
    "# Compute Sensitivity & Specificity\n",
    "sensitivity = TP / (TP + FN)\n",
    "specificity = TN / (TN + FP)\n",
    "\n",
    "print(f\"Sensitivity: {sensitivity:.4f}\")\n",
    "print(f\"Specificity: {specificity:.4f}\")"
   ]
  },
  {
   "cell_type": "code",
   "execution_count": 30,
   "metadata": {},
   "outputs": [
    {
     "data": {
      "text/plain": [
       "(array([0.5, 1.5]), [Text(0, 0.5, '0'), Text(0, 1.5, '1')])"
      ]
     },
     "execution_count": 30,
     "metadata": {},
     "output_type": "execute_result"
    },
    {
     "data": {
      "image/png": "[encoded data removed]",
      "text/plain": [
       "<Figure size 700x600 with 2 Axes>"
      ]
     },
     "metadata": {},
     "output_type": "display_data"
    }
   ],
   "source": [
    "cm = confusion_matrix(y_test, y_pred)\n",
    "# Plot Confusion Matrix\n",
    "plt.figure(figsize=(7,6))  # Increase figure size\n",
    "ax = sns.heatmap(cm, annot=True, fmt='.0f', cmap='Blues', \n",
    "                 linewidths=1.5, linecolor='black', \n",
    "                 annot_kws={\"size\": 14})  # Adjust annotation size\n",
    "\n",
    "plt.xlabel(\"Predicted Label\", fontsize=14)\n",
    "plt.ylabel(\"True Label\", fontsize=14)\n",
    "plt.title(\"Confusion Matrix - Logistic Regression\", fontsize=16)\n",
    "plt.xticks(fontsize=12)\n",
    "plt.yticks(fontsize=12)"
   ]
  },
  {
   "cell_type": "code",
   "execution_count": 31,
   "metadata": {},
   "outputs": [
    {
     "data": {
      "image/png": "[encoded data removed]",
      "text/plain": [
       "<Figure size 640x480 with 1 Axes>"
      ]
     },
     "metadata": {},
     "output_type": "display_data"
    }
   ],
   "source": [
    "# ROC Curve\n",
    "fpr, tpr, _ = roc_curve(y_test, y_prob)\n",
    "roc_auc = auc(fpr, tpr)\n",
    "plt.plot(fpr, tpr, label=f\"AUC = {roc_auc:.2f}\")\n",
    "plt.plot([0,1], [0,1], linestyle='--', color='gray')\n",
    "plt.xlabel(\"False Positive Rate\")\n",
    "plt.ylabel(\"True Positive Rate\")\n",
    "plt.title(\"ROC Curve - Logistic Regression\")\n",
    "plt.legend()\n",
    "plt.show()"
   ]
  },
  {
   "cell_type": "code",
   "execution_count": null,
   "metadata": {},
   "outputs": [],
   "source": []
  }
 ],
 "metadata": {
  "kernelspec": {
   "display_name": "base",
   "language": "python",
   "name": "python3"
  },
  "language_info": {
   "codemirror_mode": {
    "name": "ipython",
    "version": 3
   },
   "file_extension": ".py",
   "mimetype": "text/x-python",
   "name": "python",
   "nbconvert_exporter": "python",
   "pygments_lexer": "ipython3",
   "version": "3.11.7"
  }
 },
 "nbformat": 4,
 "nbformat_minor": 2
}
