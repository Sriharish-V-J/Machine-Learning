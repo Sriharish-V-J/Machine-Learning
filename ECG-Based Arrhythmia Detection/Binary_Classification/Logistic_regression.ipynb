{
 "cells": [
  {
   "cell_type": "markdown",
   "metadata": {},
   "source": [
    "**Importing Necessary Libraries**"
   ]
  },
  {
   "cell_type": "code",
   "execution_count": 1,
   "metadata": {},
   "outputs": [],
   "source": [
    "import pandas as pd\n",
    "import matplotlib.pyplot as plt\n",
    "import seaborn as sns\n",
    "from sklearn.model_selection import train_test_split\n",
    "from sklearn.preprocessing import StandardScaler\n",
    "from sklearn.linear_model import LogisticRegression\n",
    "from sklearn.metrics import accuracy_score, classification_report, confusion_matrix, roc_curve, auc"
   ]
  },
  {
   "cell_type": "code",
   "execution_count": 3,
   "metadata": {},
   "outputs": [
    {
     "data": {
      "text/html": [
       "<div>\n",
       "<style scoped>\n",
       "    .dataframe tbody tr th:only-of-type {\n",
       "        vertical-align: middle;\n",
       "    }\n",
       "\n",
       "    .dataframe tbody tr th {\n",
       "        vertical-align: top;\n",
       "    }\n",
       "\n",
       "    .dataframe thead th {\n",
       "        text-align: right;\n",
       "    }\n",
       "</style>\n",
       "<table border=\"1\" class=\"dataframe\">\n",
       "  <thead>\n",
       "    <tr style=\"text-align: right;\">\n",
       "      <th></th>\n",
       "      <th>Feature1</th>\n",
       "      <th>Feature2</th>\n",
       "      <th>Feature3</th>\n",
       "      <th>Feature4</th>\n",
       "      <th>Feature5</th>\n",
       "      <th>Feature6</th>\n",
       "      <th>Feature7</th>\n",
       "      <th>Feature8</th>\n",
       "      <th>Feature9</th>\n",
       "      <th>Feature10</th>\n",
       "      <th>...</th>\n",
       "      <th>Feature21</th>\n",
       "      <th>Feature22</th>\n",
       "      <th>Feature23</th>\n",
       "      <th>Feature24</th>\n",
       "      <th>Feature25</th>\n",
       "      <th>Feature26</th>\n",
       "      <th>Feature27</th>\n",
       "      <th>Feature28</th>\n",
       "      <th>Feature29</th>\n",
       "      <th>target</th>\n",
       "    </tr>\n",
       "  </thead>\n",
       "  <tbody>\n",
       "    <tr>\n",
       "      <th>0</th>\n",
       "      <td>-1.944044</td>\n",
       "      <td>1.891310</td>\n",
       "      <td>5.378017</td>\n",
       "      <td>-1.099764</td>\n",
       "      <td>0.319998</td>\n",
       "      <td>-0.107990</td>\n",
       "      <td>0.192998</td>\n",
       "      <td>-0.531588</td>\n",
       "      <td>-1.978358</td>\n",
       "      <td>0.505306</td>\n",
       "      <td>...</td>\n",
       "      <td>0.435838</td>\n",
       "      <td>-0.375777</td>\n",
       "      <td>-2.410484</td>\n",
       "      <td>1.307302</td>\n",
       "      <td>-0.447091</td>\n",
       "      <td>-1.205613</td>\n",
       "      <td>-0.758668</td>\n",
       "      <td>-1.115528</td>\n",
       "      <td>1.219782</td>\n",
       "      <td>1</td>\n",
       "    </tr>\n",
       "    <tr>\n",
       "      <th>1</th>\n",
       "      <td>0.548890</td>\n",
       "      <td>3.689146</td>\n",
       "      <td>-1.079215</td>\n",
       "      <td>-1.125497</td>\n",
       "      <td>6.892610</td>\n",
       "      <td>-0.114086</td>\n",
       "      <td>-0.129833</td>\n",
       "      <td>-4.471123</td>\n",
       "      <td>1.281707</td>\n",
       "      <td>2.509007</td>\n",
       "      <td>...</td>\n",
       "      <td>-0.515136</td>\n",
       "      <td>-1.814937</td>\n",
       "      <td>-0.659753</td>\n",
       "      <td>0.092014</td>\n",
       "      <td>1.173449</td>\n",
       "      <td>-0.887015</td>\n",
       "      <td>-0.657684</td>\n",
       "      <td>0.676340</td>\n",
       "      <td>0.379053</td>\n",
       "      <td>1</td>\n",
       "    </tr>\n",
       "    <tr>\n",
       "      <th>2</th>\n",
       "      <td>1.044743</td>\n",
       "      <td>2.804073</td>\n",
       "      <td>-1.779122</td>\n",
       "      <td>-0.358211</td>\n",
       "      <td>6.132624</td>\n",
       "      <td>-1.309396</td>\n",
       "      <td>-0.731316</td>\n",
       "      <td>-3.381683</td>\n",
       "      <td>-1.444734</td>\n",
       "      <td>3.028355</td>\n",
       "      <td>...</td>\n",
       "      <td>-0.928873</td>\n",
       "      <td>-1.592203</td>\n",
       "      <td>-0.389953</td>\n",
       "      <td>0.343527</td>\n",
       "      <td>0.740160</td>\n",
       "      <td>-0.244341</td>\n",
       "      <td>-1.337129</td>\n",
       "      <td>-0.168281</td>\n",
       "      <td>-0.464880</td>\n",
       "      <td>1</td>\n",
       "    </tr>\n",
       "    <tr>\n",
       "      <th>3</th>\n",
       "      <td>-2.848743</td>\n",
       "      <td>-2.220174</td>\n",
       "      <td>-0.498797</td>\n",
       "      <td>-0.054547</td>\n",
       "      <td>0.073406</td>\n",
       "      <td>0.927517</td>\n",
       "      <td>1.891807</td>\n",
       "      <td>-0.381548</td>\n",
       "      <td>0.017551</td>\n",
       "      <td>0.659493</td>\n",
       "      <td>...</td>\n",
       "      <td>0.662054</td>\n",
       "      <td>0.671306</td>\n",
       "      <td>-0.463003</td>\n",
       "      <td>-0.170516</td>\n",
       "      <td>0.249816</td>\n",
       "      <td>0.019505</td>\n",
       "      <td>-0.380889</td>\n",
       "      <td>-0.222127</td>\n",
       "      <td>0.364851</td>\n",
       "      <td>1</td>\n",
       "    </tr>\n",
       "    <tr>\n",
       "      <th>4</th>\n",
       "      <td>-0.715628</td>\n",
       "      <td>0.217362</td>\n",
       "      <td>2.032461</td>\n",
       "      <td>-0.144826</td>\n",
       "      <td>4.375660</td>\n",
       "      <td>-1.762026</td>\n",
       "      <td>1.335940</td>\n",
       "      <td>1.742721</td>\n",
       "      <td>-1.771379</td>\n",
       "      <td>0.819612</td>\n",
       "      <td>...</td>\n",
       "      <td>-0.428352</td>\n",
       "      <td>-0.511074</td>\n",
       "      <td>-0.346423</td>\n",
       "      <td>0.137622</td>\n",
       "      <td>-0.289325</td>\n",
       "      <td>-1.089344</td>\n",
       "      <td>-0.407556</td>\n",
       "      <td>-0.007071</td>\n",
       "      <td>0.117600</td>\n",
       "      <td>1</td>\n",
       "    </tr>\n",
       "  </tbody>\n",
       "</table>\n",
       "<p>5 rows × 30 columns</p>\n",
       "</div>"
      ],
      "text/plain": [
       "   Feature1  Feature2  Feature3  Feature4  Feature5  Feature6  Feature7  \\\n",
       "0 -1.944044  1.891310  5.378017 -1.099764  0.319998 -0.107990  0.192998   \n",
       "1  0.548890  3.689146 -1.079215 -1.125497  6.892610 -0.114086 -0.129833   \n",
       "2  1.044743  2.804073 -1.779122 -0.358211  6.132624 -1.309396 -0.731316   \n",
       "3 -2.848743 -2.220174 -0.498797 -0.054547  0.073406  0.927517  1.891807   \n",
       "4 -0.715628  0.217362  2.032461 -0.144826  4.375660 -1.762026  1.335940   \n",
       "\n",
       "   Feature8  Feature9  Feature10  ...  Feature21  Feature22  Feature23  \\\n",
       "0 -0.531588 -1.978358   0.505306  ...   0.435838  -0.375777  -2.410484   \n",
       "1 -4.471123  1.281707   2.509007  ...  -0.515136  -1.814937  -0.659753   \n",
       "2 -3.381683 -1.444734   3.028355  ...  -0.928873  -1.592203  -0.389953   \n",
       "3 -0.381548  0.017551   0.659493  ...   0.662054   0.671306  -0.463003   \n",
       "4  1.742721 -1.771379   0.819612  ...  -0.428352  -0.511074  -0.346423   \n",
       "\n",
       "   Feature24  Feature25  Feature26  Feature27  Feature28  Feature29  target  \n",
       "0   1.307302  -0.447091  -1.205613  -0.758668  -1.115528   1.219782       1  \n",
       "1   0.092014   1.173449  -0.887015  -0.657684   0.676340   0.379053       1  \n",
       "2   0.343527   0.740160  -0.244341  -1.337129  -0.168281  -0.464880       1  \n",
       "3  -0.170516   0.249816   0.019505  -0.380889  -0.222127   0.364851       1  \n",
       "4   0.137622  -0.289325  -1.089344  -0.407556  -0.007071   0.117600       1  \n",
       "\n",
       "[5 rows x 30 columns]"
      ]
     },
     "execution_count": 3,
     "metadata": {},
     "output_type": "execute_result"
    }
   ],
   "source": [
    "# Load dataset\n",
    "df = pd.read_csv(\"Binary.csv\")\n",
    "df.head()"
   ]
  },
  {
   "cell_type": "code",
   "execution_count": 4,
   "metadata": {},
   "outputs": [],
   "source": [
    "# Splitting features and target\n",
    "X = df.drop(columns=['target'])  # Replace 'target' with actual target column name\n",
    "y = df['target']"
   ]
  },
  {
   "cell_type": "code",
   "execution_count": 5,
   "metadata": {},
   "outputs": [],
   "source": [
    "# Train-test split\n",
    "X_train, X_test, y_train, y_test = train_test_split(X, y, test_size=0.2, random_state=42)"
   ]
  },
  {
   "cell_type": "code",
   "execution_count": 6,
   "metadata": {},
   "outputs": [],
   "source": [
    "# Standardizing features\n",
    "scaler = StandardScaler()\n",
    "X_train = scaler.fit_transform(X_train)\n",
    "X_test = scaler.transform(X_test)"
   ]
  },
  {
   "cell_type": "code",
   "execution_count": 7,
   "metadata": {},
   "outputs": [],
   "source": [
    "# Logistic Regression Model\n",
    "logistic_model = LogisticRegression()\n",
    "logistic_model.fit(X_train, y_train)\n",
    "y_pred = logistic_model.predict(X_test)\n",
    "y_prob = logistic_model.predict_proba(X_test)[:, 1]"
   ]
  },
  {
   "cell_type": "code",
   "execution_count": 15,
   "metadata": {},
   "outputs": [
    {
     "name": "stdout",
     "output_type": "stream",
     "text": [
      "Accuracy: 0.94\n",
      "              precision    recall  f1-score   support\n",
      "\n",
      "           0       0.91      0.67      0.77        15\n",
      "           1       0.95      0.99      0.97        94\n",
      "\n",
      "    accuracy                           0.94       109\n",
      "   macro avg       0.93      0.83      0.87       109\n",
      "weighted avg       0.94      0.94      0.94       109\n",
      "\n"
     ]
    }
   ],
   "source": [
    "# Evaluation\n",
    "print(f\"Accuracy: {accuracy_score(y_test, y_pred):.2f}\")\n",
    "print(classification_report(y_test, y_pred))"
   ]
  },
  {
   "cell_type": "code",
   "execution_count": null,
   "metadata": {},
   "outputs": [
    {
     "data": {
      "image/png": "[encoded data removed]",
      "text/plain": [
       "<Figure size 640x480 with 2 Axes>"
      ]
     },
     "metadata": {},
     "output_type": "display_data"
    }
   ],
   "source": [
    "cm = confusion_matrix(y_test, y_pred)\n",
    "sns.heatmap(cm, annot=True, fmt='d', cmap='Blues')\n",
    "plt.xlabel('Predicted')\n",
    "plt.ylabel('Actual')\n",
    "plt.title(\"Confusion Matrix - Logistic Regression\")\n",
    "plt.show()"
   ]
  },
  {
   "cell_type": "code",
   "execution_count": 13,
   "metadata": {},
   "outputs": [
    {
     "data": {
      "image/png": "[encoded data removed]",
      "text/plain": [
       "<Figure size 640x480 with 1 Axes>"
      ]
     },
     "metadata": {},
     "output_type": "display_data"
    }
   ],
   "source": [
    "# ROC Curve\n",
    "fpr, tpr, _ = roc_curve(y_test, y_prob)\n",
    "roc_auc = auc(fpr, tpr)\n",
    "plt.plot(fpr, tpr, label=f\"AUC = {roc_auc:.2f}\")\n",
    "plt.plot([0,1], [0,1], linestyle='--', color='gray')\n",
    "plt.xlabel(\"False Positive Rate\")\n",
    "plt.ylabel(\"True Positive Rate\")\n",
    "plt.title(\"ROC Curve - Logistic Regression\")\n",
    "plt.legend()\n",
    "plt.show()"
   ]
  }
 ],
 "metadata": {
  "kernelspec": {
   "display_name": "base",
   "language": "python",
   "name": "python3"
  },
  "language_info": {
   "codemirror_mode": {
    "name": "ipython",
    "version": 3
   },
   "file_extension": ".py",
   "mimetype": "text/x-python",
   "name": "python",
   "nbconvert_exporter": "python",
   "pygments_lexer": "ipython3",
   "version": "3.11.7"
  }
 },
 "nbformat": 4,
 "nbformat_minor": 2
}
