{
 "cells": [
  {
   "cell_type": "markdown",
   "metadata": {},
   "source": [
    "**Importing Necessary Libraries**"
   ]
  },
  {
   "cell_type": "code",
   "execution_count": 1,
   "metadata": {},
   "outputs": [],
   "source": [
    "import torch\n",
    "import torch.nn as nn\n",
    "import torch.optim as optim\n",
    "import torch.utils.data as data\n",
    "import numpy as np\n",
    "import matplotlib.pyplot as plt\n",
    "import seaborn as sns\n",
    "from sklearn.metrics import accuracy_score, precision_recall_fscore_support, confusion_matrix, roc_curve, auc,classification_report\n",
    "from sklearn.model_selection import train_test_split\n",
    "from sklearn.preprocessing import StandardScaler\n",
    "import pandas as pd"
   ]
  },
  {
   "cell_type": "markdown",
   "metadata": {},
   "source": [
    "**MLP - Unbalanced Dataset**"
   ]
  },
  {
   "cell_type": "code",
   "execution_count": 2,
   "metadata": {},
   "outputs": [
    {
     "data": {
      "text/html": [
       "<div>\n",
       "<style scoped>\n",
       "    .dataframe tbody tr th:only-of-type {\n",
       "        vertical-align: middle;\n",
       "    }\n",
       "\n",
       "    .dataframe tbody tr th {\n",
       "        vertical-align: top;\n",
       "    }\n",
       "\n",
       "    .dataframe thead th {\n",
       "        text-align: right;\n",
       "    }\n",
       "</style>\n",
       "<table border=\"1\" class=\"dataframe\">\n",
       "  <thead>\n",
       "    <tr style=\"text-align: right;\">\n",
       "      <th></th>\n",
       "      <th>Feature1</th>\n",
       "      <th>Feature2</th>\n",
       "      <th>Feature3</th>\n",
       "      <th>Feature4</th>\n",
       "      <th>Feature5</th>\n",
       "      <th>Feature6</th>\n",
       "      <th>Feature7</th>\n",
       "      <th>Feature8</th>\n",
       "      <th>Feature9</th>\n",
       "      <th>Feature10</th>\n",
       "      <th>...</th>\n",
       "      <th>Feature21</th>\n",
       "      <th>Feature22</th>\n",
       "      <th>Feature23</th>\n",
       "      <th>Feature24</th>\n",
       "      <th>Feature25</th>\n",
       "      <th>Feature26</th>\n",
       "      <th>Feature27</th>\n",
       "      <th>Feature28</th>\n",
       "      <th>Feature29</th>\n",
       "      <th>target</th>\n",
       "    </tr>\n",
       "  </thead>\n",
       "  <tbody>\n",
       "    <tr>\n",
       "      <th>0</th>\n",
       "      <td>1.942833</td>\n",
       "      <td>1.793557</td>\n",
       "      <td>-6.121474</td>\n",
       "      <td>-1.031132</td>\n",
       "      <td>0.487107</td>\n",
       "      <td>-0.346116</td>\n",
       "      <td>0.242493</td>\n",
       "      <td>-0.255091</td>\n",
       "      <td>-1.933793</td>\n",
       "      <td>0.456129</td>\n",
       "      <td>...</td>\n",
       "      <td>0.021294</td>\n",
       "      <td>-0.876791</td>\n",
       "      <td>-2.804382</td>\n",
       "      <td>-0.772752</td>\n",
       "      <td>0.902250</td>\n",
       "      <td>-0.283821</td>\n",
       "      <td>1.158110</td>\n",
       "      <td>-0.703144</td>\n",
       "      <td>-1.142507</td>\n",
       "      <td>1</td>\n",
       "    </tr>\n",
       "    <tr>\n",
       "      <th>1</th>\n",
       "      <td>-0.498266</td>\n",
       "      <td>4.290355</td>\n",
       "      <td>0.924083</td>\n",
       "      <td>-1.281493</td>\n",
       "      <td>8.153378</td>\n",
       "      <td>-2.302476</td>\n",
       "      <td>0.615296</td>\n",
       "      <td>-3.871441</td>\n",
       "      <td>1.491185</td>\n",
       "      <td>3.666561</td>\n",
       "      <td>...</td>\n",
       "      <td>-0.030226</td>\n",
       "      <td>1.076776</td>\n",
       "      <td>-1.426662</td>\n",
       "      <td>0.743057</td>\n",
       "      <td>0.212868</td>\n",
       "      <td>1.043947</td>\n",
       "      <td>0.948273</td>\n",
       "      <td>0.706128</td>\n",
       "      <td>-0.491125</td>\n",
       "      <td>1</td>\n",
       "    </tr>\n",
       "    <tr>\n",
       "      <th>2</th>\n",
       "      <td>-1.027512</td>\n",
       "      <td>3.363755</td>\n",
       "      <td>1.828574</td>\n",
       "      <td>-0.495802</td>\n",
       "      <td>7.458820</td>\n",
       "      <td>-2.484852</td>\n",
       "      <td>0.378415</td>\n",
       "      <td>-2.248700</td>\n",
       "      <td>-1.301424</td>\n",
       "      <td>4.136351</td>\n",
       "      <td>...</td>\n",
       "      <td>0.472101</td>\n",
       "      <td>1.206932</td>\n",
       "      <td>-0.923404</td>\n",
       "      <td>0.566657</td>\n",
       "      <td>0.293071</td>\n",
       "      <td>-0.145078</td>\n",
       "      <td>1.759649</td>\n",
       "      <td>0.516351</td>\n",
       "      <td>0.492429</td>\n",
       "      <td>1</td>\n",
       "    </tr>\n",
       "    <tr>\n",
       "      <th>3</th>\n",
       "      <td>2.736756</td>\n",
       "      <td>-2.241731</td>\n",
       "      <td>0.404660</td>\n",
       "      <td>-0.167861</td>\n",
       "      <td>-0.125442</td>\n",
       "      <td>0.496706</td>\n",
       "      <td>1.664382</td>\n",
       "      <td>-1.271026</td>\n",
       "      <td>0.213782</td>\n",
       "      <td>0.962099</td>\n",
       "      <td>...</td>\n",
       "      <td>-1.376614</td>\n",
       "      <td>-0.559114</td>\n",
       "      <td>-0.335620</td>\n",
       "      <td>0.088591</td>\n",
       "      <td>0.080121</td>\n",
       "      <td>-0.085828</td>\n",
       "      <td>0.038390</td>\n",
       "      <td>-0.096909</td>\n",
       "      <td>-0.426436</td>\n",
       "      <td>1</td>\n",
       "    </tr>\n",
       "    <tr>\n",
       "      <th>4</th>\n",
       "      <td>0.685796</td>\n",
       "      <td>0.223385</td>\n",
       "      <td>-2.080131</td>\n",
       "      <td>-0.011414</td>\n",
       "      <td>4.090118</td>\n",
       "      <td>0.650177</td>\n",
       "      <td>2.411078</td>\n",
       "      <td>2.637664</td>\n",
       "      <td>-1.594057</td>\n",
       "      <td>0.283371</td>\n",
       "      <td>...</td>\n",
       "      <td>0.540901</td>\n",
       "      <td>0.354731</td>\n",
       "      <td>-0.933172</td>\n",
       "      <td>-0.888606</td>\n",
       "      <td>0.902017</td>\n",
       "      <td>0.506791</td>\n",
       "      <td>0.640292</td>\n",
       "      <td>0.129010</td>\n",
       "      <td>0.092228</td>\n",
       "      <td>1</td>\n",
       "    </tr>\n",
       "  </tbody>\n",
       "</table>\n",
       "<p>5 rows × 30 columns</p>\n",
       "</div>"
      ],
      "text/plain": [
       "   Feature1  Feature2  Feature3  Feature4  Feature5  Feature6  Feature7  \\\n",
       "0  1.942833  1.793557 -6.121474 -1.031132  0.487107 -0.346116  0.242493   \n",
       "1 -0.498266  4.290355  0.924083 -1.281493  8.153378 -2.302476  0.615296   \n",
       "2 -1.027512  3.363755  1.828574 -0.495802  7.458820 -2.484852  0.378415   \n",
       "3  2.736756 -2.241731  0.404660 -0.167861 -0.125442  0.496706  1.664382   \n",
       "4  0.685796  0.223385 -2.080131 -0.011414  4.090118  0.650177  2.411078   \n",
       "\n",
       "   Feature8  Feature9  Feature10  ...  Feature21  Feature22  Feature23  \\\n",
       "0 -0.255091 -1.933793   0.456129  ...   0.021294  -0.876791  -2.804382   \n",
       "1 -3.871441  1.491185   3.666561  ...  -0.030226   1.076776  -1.426662   \n",
       "2 -2.248700 -1.301424   4.136351  ...   0.472101   1.206932  -0.923404   \n",
       "3 -1.271026  0.213782   0.962099  ...  -1.376614  -0.559114  -0.335620   \n",
       "4  2.637664 -1.594057   0.283371  ...   0.540901   0.354731  -0.933172   \n",
       "\n",
       "   Feature24  Feature25  Feature26  Feature27  Feature28  Feature29  target  \n",
       "0  -0.772752   0.902250  -0.283821   1.158110  -0.703144  -1.142507       1  \n",
       "1   0.743057   0.212868   1.043947   0.948273   0.706128  -0.491125       1  \n",
       "2   0.566657   0.293071  -0.145078   1.759649   0.516351   0.492429       1  \n",
       "3   0.088591   0.080121  -0.085828   0.038390  -0.096909  -0.426436       1  \n",
       "4  -0.888606   0.902017   0.506791   0.640292   0.129010   0.092228       1  \n",
       "\n",
       "[5 rows x 30 columns]"
      ]
     },
     "execution_count": 2,
     "metadata": {},
     "output_type": "execute_result"
    }
   ],
   "source": [
    "# Load Dataset\n",
    "df = pd.read_csv(\"../Datasets/Unbalanced_Binary.csv\")\n",
    "df.head()"
   ]
  },
  {
   "cell_type": "code",
   "execution_count": 3,
   "metadata": {},
   "outputs": [
    {
     "data": {
      "text/plain": [
       "target\n",
       "1    437\n",
       "0     80\n",
       "Name: count, dtype: int64"
      ]
     },
     "execution_count": 3,
     "metadata": {},
     "output_type": "execute_result"
    }
   ],
   "source": [
    "df['target'].value_counts()"
   ]
  },
  {
   "cell_type": "code",
   "execution_count": 4,
   "metadata": {},
   "outputs": [],
   "source": [
    "# Splitting Data\n",
    "X = df.drop(columns=[\"target\"])  # Features\n",
    "y = df[\"target\"].values          # Target Variable"
   ]
  },
  {
   "cell_type": "code",
   "execution_count": 5,
   "metadata": {},
   "outputs": [],
   "source": [
    "# Normalize Features\n",
    "scaler = StandardScaler()\n",
    "X = scaler.fit_transform(X)"
   ]
  },
  {
   "cell_type": "code",
   "execution_count": 6,
   "metadata": {},
   "outputs": [],
   "source": [
    "# Convert to PyTorch tensors\n",
    "X_train, X_test, y_train, y_test = train_test_split(X, y, test_size=0.2, random_state=42)"
   ]
  },
  {
   "cell_type": "code",
   "execution_count": 7,
   "metadata": {},
   "outputs": [],
   "source": [
    "X_train_tensor = torch.tensor(X_train, dtype=torch.float32)\n",
    "X_test_tensor = torch.tensor(X_test, dtype=torch.float32)\n",
    "y_train_tensor = torch.tensor(y_train, dtype=torch.float32).unsqueeze(1)\n",
    "y_test_tensor = torch.tensor(y_test, dtype=torch.float32).unsqueeze(1)"
   ]
  },
  {
   "cell_type": "code",
   "execution_count": 8,
   "metadata": {},
   "outputs": [],
   "source": [
    "# Create PyTorch Dataloader\n",
    "train_dataset = data.TensorDataset(X_train_tensor, y_train_tensor)\n",
    "test_dataset = data.TensorDataset(X_test_tensor, y_test_tensor)\n",
    "\n",
    "train_loader = data.DataLoader(train_dataset, batch_size=32, shuffle=True)\n",
    "test_loader = data.DataLoader(test_dataset, batch_size=32, shuffle=False)"
   ]
  },
  {
   "cell_type": "code",
   "execution_count": 9,
   "metadata": {},
   "outputs": [],
   "source": [
    "class OptimizedMLP(nn.Module):\n",
    "    def __init__(self, input_size):\n",
    "        super(OptimizedMLP, self).__init__()\n",
    "        self.fc1 = nn.Linear(input_size, 256)\n",
    "        self.fc2 = nn.Linear(256, 128)\n",
    "        self.fc3 = nn.Linear(128, 64)\n",
    "        self.fc4 = nn.Linear(64, 1) \n",
    "\n",
    "        self.relu = nn.ReLU()\n",
    "        self.dropout = nn.Dropout(0.3)  # Regularization\n",
    "        self.sigmoid = nn.Sigmoid()\n",
    "        \n",
    "    def forward(self, x):\n",
    "        x = self.relu(self.fc1(x))\n",
    "        x = self.dropout(x)\n",
    "        x = self.relu(self.fc2(x))\n",
    "        x = self.relu(self.fc3(x)) \n",
    "        x = self.fc4(x)  \n",
    "        return self.sigmoid(x) "
   ]
  },
  {
   "cell_type": "code",
   "execution_count": 10,
   "metadata": {},
   "outputs": [],
   "source": [
    "# Initialize Model\n",
    "device = torch.device(\"cuda\" if torch.cuda.is_available() else \"cpu\")\n",
    "model = OptimizedMLP(input_size=X_train.shape[1]).to(device)"
   ]
  },
  {
   "cell_type": "code",
   "execution_count": 12,
   "metadata": {},
   "outputs": [
    {
     "data": {
      "text/plain": [
       "device(type='cuda')"
      ]
     },
     "execution_count": 12,
     "metadata": {},
     "output_type": "execute_result"
    }
   ],
   "source": [
    "device"
   ]
  },
  {
   "cell_type": "code",
   "execution_count": 13,
   "metadata": {},
   "outputs": [],
   "source": [
    "# Loss and Optimizer\n",
    "criterion = nn.BCELoss()  # Binary Cross-Entropy Loss\n",
    "optimizer = optim.AdamW(model.parameters(), lr=0.0005, weight_decay=1e-5) # L2 Regularization\n",
    "scheduler = optim.lr_scheduler.StepLR(optimizer, step_size=10, gamma=0.1)  # Learning Rate Scheduler"
   ]
  },
  {
   "cell_type": "code",
   "execution_count": 14,
   "metadata": {},
   "outputs": [
    {
     "name": "stdout",
     "output_type": "stream",
     "text": [
      "Epoch [1/100], Loss: 0.6471, Val Loss: 0.5394\n",
      "Epoch [2/100], Loss: 0.4817, Val Loss: 0.3415\n",
      "Epoch [3/100], Loss: 0.3782, Val Loss: 0.2774\n",
      "Epoch [4/100], Loss: 0.3411, Val Loss: 0.2410\n",
      "Epoch [5/100], Loss: 0.2952, Val Loss: 0.2072\n",
      "Epoch [6/100], Loss: 0.2686, Val Loss: 0.1771\n",
      "Epoch [7/100], Loss: 0.2317, Val Loss: 0.1541\n",
      "Epoch [8/100], Loss: 0.2053, Val Loss: 0.1381\n",
      "Epoch [9/100], Loss: 0.1729, Val Loss: 0.1255\n",
      "Epoch [10/100], Loss: 0.1525, Val Loss: 0.1136\n",
      "Epoch [11/100], Loss: 0.1373, Val Loss: 0.1123\n",
      "Epoch [12/100], Loss: 0.1386, Val Loss: 0.1114\n",
      "Epoch [13/100], Loss: 0.1369, Val Loss: 0.1104\n",
      "Epoch [14/100], Loss: 0.1265, Val Loss: 0.1093\n",
      "Epoch [15/100], Loss: 0.1295, Val Loss: 0.1083\n",
      "Epoch [16/100], Loss: 0.1278, Val Loss: 0.1074\n",
      "Epoch [17/100], Loss: 0.1339, Val Loss: 0.1062\n",
      "Epoch [18/100], Loss: 0.1251, Val Loss: 0.1051\n",
      "Epoch [19/100], Loss: 0.1250, Val Loss: 0.1043\n",
      "Epoch [20/100], Loss: 0.1225, Val Loss: 0.1032\n",
      "Epoch [21/100], Loss: 0.1174, Val Loss: 0.1031\n",
      "Epoch [22/100], Loss: 0.1154, Val Loss: 0.1030\n",
      "Epoch [23/100], Loss: 0.1212, Val Loss: 0.1029\n",
      "Epoch [24/100], Loss: 0.1149, Val Loss: 0.1028\n",
      "Epoch [25/100], Loss: 0.1200, Val Loss: 0.1027\n",
      "Epoch [26/100], Loss: 0.1213, Val Loss: 0.1026\n",
      "Epoch [27/100], Loss: 0.1200, Val Loss: 0.1025\n",
      "Epoch [28/100], Loss: 0.1199, Val Loss: 0.1024\n",
      "Epoch [29/100], Loss: 0.1235, Val Loss: 0.1023\n",
      "Epoch [30/100], Loss: 0.1220, Val Loss: 0.1021\n",
      "Epoch [31/100], Loss: 0.1174, Val Loss: 0.1021\n",
      "Epoch [32/100], Loss: 0.1200, Val Loss: 0.1021\n",
      "Epoch [33/100], Loss: 0.1192, Val Loss: 0.1021\n",
      "Epoch [34/100], Loss: 0.1207, Val Loss: 0.1021\n",
      "Epoch [35/100], Loss: 0.1238, Val Loss: 0.1021\n",
      "Epoch [36/100], Loss: 0.1213, Val Loss: 0.1021\n",
      "Epoch [37/100], Loss: 0.1190, Val Loss: 0.1021\n",
      "Epoch [38/100], Loss: 0.1137, Val Loss: 0.1021\n",
      "Epoch [39/100], Loss: 0.1240, Val Loss: 0.1021\n",
      "Epoch [40/100], Loss: 0.1188, Val Loss: 0.1021\n",
      "Epoch [41/100], Loss: 0.1218, Val Loss: 0.1021\n",
      "Epoch [42/100], Loss: 0.1267, Val Loss: 0.1021\n",
      "Epoch [43/100], Loss: 0.1203, Val Loss: 0.1021\n",
      "Epoch [44/100], Loss: 0.1182, Val Loss: 0.1021\n",
      "Epoch [45/100], Loss: 0.1160, Val Loss: 0.1021\n",
      "Epoch [46/100], Loss: 0.1140, Val Loss: 0.1021\n",
      "Epoch [47/100], Loss: 0.1210, Val Loss: 0.1021\n",
      "Epoch [48/100], Loss: 0.1201, Val Loss: 0.1021\n",
      "Epoch [49/100], Loss: 0.1208, Val Loss: 0.1021\n",
      "Epoch [50/100], Loss: 0.1183, Val Loss: 0.1021\n",
      "Epoch [51/100], Loss: 0.1295, Val Loss: 0.1021\n",
      "Epoch [52/100], Loss: 0.1239, Val Loss: 0.1021\n",
      "Epoch [53/100], Loss: 0.1228, Val Loss: 0.1021\n",
      "Epoch [54/100], Loss: 0.1182, Val Loss: 0.1021\n",
      "Epoch [55/100], Loss: 0.1199, Val Loss: 0.1021\n",
      "Epoch [56/100], Loss: 0.1170, Val Loss: 0.1021\n",
      "Epoch [57/100], Loss: 0.1204, Val Loss: 0.1021\n",
      "Epoch [58/100], Loss: 0.1245, Val Loss: 0.1021\n",
      "Epoch [59/100], Loss: 0.1326, Val Loss: 0.1021\n",
      "Epoch [60/100], Loss: 0.1180, Val Loss: 0.1021\n",
      "Epoch [61/100], Loss: 0.1147, Val Loss: 0.1021\n",
      "Epoch [62/100], Loss: 0.1204, Val Loss: 0.1021\n",
      "Epoch [63/100], Loss: 0.1209, Val Loss: 0.1021\n",
      "Epoch [64/100], Loss: 0.1188, Val Loss: 0.1021\n",
      "Epoch [65/100], Loss: 0.1233, Val Loss: 0.1021\n",
      "Epoch [66/100], Loss: 0.1171, Val Loss: 0.1021\n",
      "Epoch [67/100], Loss: 0.1184, Val Loss: 0.1021\n",
      "Epoch [68/100], Loss: 0.1243, Val Loss: 0.1021\n",
      "Epoch [69/100], Loss: 0.1155, Val Loss: 0.1021\n",
      "Epoch [70/100], Loss: 0.1217, Val Loss: 0.1021\n",
      "Epoch [71/100], Loss: 0.1179, Val Loss: 0.1021\n",
      "Epoch [72/100], Loss: 0.1240, Val Loss: 0.1021\n",
      "Early stopping triggered.\n"
     ]
    }
   ],
   "source": [
    "# Training Loop with Early Stopping\n",
    "epochs = 100\n",
    "best_val_loss = float(\"inf\")\n",
    "patience = 10  # Stop if validation loss doesn't improve for 5 consecutive epochs\n",
    "patience_counter = 0\n",
    "\n",
    "for epoch in range(epochs):\n",
    "    model.train()\n",
    "    running_loss = 0.0\n",
    "    \n",
    "    for X_batch, y_batch in train_loader:\n",
    "        X_batch, y_batch = X_batch.to(device), y_batch.to(device)\n",
    "        \n",
    "        optimizer.zero_grad()\n",
    "        outputs = model(X_batch)\n",
    "        loss = criterion(outputs, y_batch)\n",
    "        loss.backward()\n",
    "        optimizer.step()\n",
    "        \n",
    "        running_loss += loss.item()\n",
    "    \n",
    "    scheduler.step()\n",
    "    \n",
    "    # Compute Validation Loss\n",
    "    model.eval()\n",
    "    with torch.no_grad():\n",
    "        val_outputs = model(X_test_tensor.to(device))\n",
    "        val_loss = criterion(val_outputs, y_test_tensor.to(device)).item()\n",
    "\n",
    "    print(f\"Epoch [{epoch+1}/{epochs}], Loss: {running_loss/len(train_loader):.4f}, Val Loss: {val_loss:.4f}\")\n",
    "    \n",
    "    # Early Stopping\n",
    "    if val_loss < best_val_loss:\n",
    "        best_val_loss = val_loss\n",
    "        patience_counter = 0\n",
    "    else:\n",
    "        patience_counter += 1\n",
    "        if patience_counter >= patience:\n",
    "            print(\"Early stopping triggered.\")\n",
    "            break"
   ]
  },
  {
   "cell_type": "code",
   "execution_count": 15,
   "metadata": {},
   "outputs": [],
   "source": [
    "# Model Evaluation\n",
    "model.eval()\n",
    "with torch.no_grad():\n",
    "    y_pred_probs = model(X_test_tensor.to(device)).cpu().numpy()\n",
    "    y_pred_binary = (y_pred_probs >= 0.5).astype(int)"
   ]
  },
  {
   "cell_type": "code",
   "execution_count": 16,
   "metadata": {},
   "outputs": [
    {
     "name": "stdout",
     "output_type": "stream",
     "text": [
      "Precision: 0.9785, Recall: 1.0000, F1-Score: 0.9891\n"
     ]
    }
   ],
   "source": [
    "# Compute Performance Metrics\n",
    "accuracy = accuracy_score(y_test, y_pred_binary)\n",
    "precision, recall, f1, _ = precision_recall_fscore_support(y_test, y_pred_binary, average=\"binary\")\n",
    "cm = confusion_matrix(y_test, y_pred_binary)\n",
    "\n",
    "print(f\"Precision: {precision:.4f}, Recall: {recall:.4f}, F1-Score: {f1:.4f}\")"
   ]
  },
  {
   "cell_type": "code",
   "execution_count": 17,
   "metadata": {},
   "outputs": [
    {
     "name": "stdout",
     "output_type": "stream",
     "text": [
      "Confusion Matrix:\n",
      " [[11  2]\n",
      " [ 0 91]]\n"
     ]
    }
   ],
   "source": [
    "print(\"Confusion Matrix:\\n\", cm)"
   ]
  },
  {
   "cell_type": "code",
   "execution_count": 20,
   "metadata": {},
   "outputs": [
    {
     "data": {
      "text/plain": [
       "(array([0.5, 1.5]), [Text(0, 0.5, 'Negative'), Text(0, 1.5, 'Positive')])"
      ]
     },
     "execution_count": 20,
     "metadata": {},
     "output_type": "execute_result"
    },
    {
     "data": {
      "image/png": "[encoded data removed]",
      "text/plain": [
       "<Figure size 700x600 with 2 Axes>"
      ]
     },
     "metadata": {},
     "output_type": "display_data"
    }
   ],
   "source": [
    "# Plot Confusion Matrix\n",
    "plt.figure(figsize=(7,6))  # Increase figure size\n",
    "ax = sns.heatmap(cm, annot=True, fmt='.0f', cmap='Blues', \n",
    "                 linewidths=1.5, linecolor='black', \n",
    "                 annot_kws={\"size\": 14}, vmin=0, vmax=100,\n",
    "                 xticklabels=['Negative', 'Positive'], \n",
    "                 yticklabels=['Negative', 'Positive'])\n",
    "\n",
    "\n",
    "plt.xlabel(\"Predicted Label\", fontsize=14)\n",
    "plt.ylabel(\"True Label\", fontsize=14)\n",
    "plt.title(\"Confusion Matrix - Neural Network\", fontsize=16)\n",
    "plt.xticks(fontsize=12)\n",
    "plt.yticks(fontsize=12)"
   ]
  },
  {
   "cell_type": "code",
   "execution_count": 18,
   "metadata": {},
   "outputs": [
    {
     "name": "stdout",
     "output_type": "stream",
     "text": [
      "Sensitivity: 1.0000\n",
      "Specificity: 0.8462\n"
     ]
    }
   ],
   "source": [
    "# Extract TP, TN, FP, FN\n",
    "TN, FP, FN, TP = cm.ravel()\n",
    "\n",
    "# Compute Sensitivity & Specificity\n",
    "sensitivity = TP / (TP + FN)\n",
    "specificity = TN / (TN + FP)\n",
    "\n",
    "print(f\"Sensitivity: {sensitivity:.4f}\")\n",
    "print(f\"Specificity: {specificity:.4f}\")"
   ]
  },
  {
   "cell_type": "code",
   "execution_count": 19,
   "metadata": {},
   "outputs": [
    {
     "name": "stdout",
     "output_type": "stream",
     "text": [
      "Accuracy: 0.9808\n",
      "              precision    recall  f1-score   support\n",
      "\n",
      "           0       1.00      0.85      0.92        13\n",
      "           1       0.98      1.00      0.99        91\n",
      "\n",
      "    accuracy                           0.98       104\n",
      "   macro avg       0.99      0.92      0.95       104\n",
      "weighted avg       0.98      0.98      0.98       104\n",
      "\n"
     ]
    }
   ],
   "source": [
    "print(f\"Accuracy: {accuracy:.4f}\")\n",
    "print(classification_report(y_test, y_pred_binary))"
   ]
  },
  {
   "cell_type": "code",
   "execution_count": 21,
   "metadata": {},
   "outputs": [
    {
     "data": {
      "image/png": "[encoded data removed]",
      "text/plain": [
       "<Figure size 600x400 with 1 Axes>"
      ]
     },
     "metadata": {},
     "output_type": "display_data"
    }
   ],
   "source": [
    "# ROC Curve\n",
    "fpr, tpr, _ = roc_curve(y_test, y_pred_probs)\n",
    "roc_auc = auc(fpr, tpr)\n",
    "\n",
    "plt.figure(figsize=(6,4))\n",
    "plt.plot(fpr, tpr, color=\"blue\", lw=2, label=f\"ROC Curve (AUC = {roc_auc:.2f})\")\n",
    "plt.plot([0,1], [0,1], color=\"grey\", linestyle=\"--\")\n",
    "plt.xlabel(\"False Positive Rate\")\n",
    "plt.ylabel(\"True Positive Rate\")\n",
    "plt.title(\"ROC Curve - Neural Network\")\n",
    "plt.legend(loc=\"lower right\")\n",
    "plt.show()"
   ]
  },
  {
   "cell_type": "markdown",
   "metadata": {},
   "source": [
    "**MLP - Balanced Dataset**"
   ]
  },
  {
   "cell_type": "code",
   "execution_count": 22,
   "metadata": {},
   "outputs": [
    {
     "data": {
      "text/html": [
       "<div>\n",
       "<style scoped>\n",
       "    .dataframe tbody tr th:only-of-type {\n",
       "        vertical-align: middle;\n",
       "    }\n",
       "\n",
       "    .dataframe tbody tr th {\n",
       "        vertical-align: top;\n",
       "    }\n",
       "\n",
       "    .dataframe thead th {\n",
       "        text-align: right;\n",
       "    }\n",
       "</style>\n",
       "<table border=\"1\" class=\"dataframe\">\n",
       "  <thead>\n",
       "    <tr style=\"text-align: right;\">\n",
       "      <th></th>\n",
       "      <th>Feature1</th>\n",
       "      <th>Feature2</th>\n",
       "      <th>Feature3</th>\n",
       "      <th>Feature4</th>\n",
       "      <th>Feature5</th>\n",
       "      <th>Feature6</th>\n",
       "      <th>Feature7</th>\n",
       "      <th>Feature8</th>\n",
       "      <th>Feature9</th>\n",
       "      <th>Feature10</th>\n",
       "      <th>...</th>\n",
       "      <th>Feature21</th>\n",
       "      <th>Feature22</th>\n",
       "      <th>Feature23</th>\n",
       "      <th>Feature24</th>\n",
       "      <th>Feature25</th>\n",
       "      <th>Feature26</th>\n",
       "      <th>Feature27</th>\n",
       "      <th>Feature28</th>\n",
       "      <th>Feature29</th>\n",
       "      <th>target</th>\n",
       "    </tr>\n",
       "  </thead>\n",
       "  <tbody>\n",
       "    <tr>\n",
       "      <th>0</th>\n",
       "      <td>1.942833</td>\n",
       "      <td>1.793557</td>\n",
       "      <td>-6.121474</td>\n",
       "      <td>-1.031132</td>\n",
       "      <td>0.487107</td>\n",
       "      <td>-0.346116</td>\n",
       "      <td>0.242493</td>\n",
       "      <td>-0.255091</td>\n",
       "      <td>-1.933793</td>\n",
       "      <td>0.456129</td>\n",
       "      <td>...</td>\n",
       "      <td>0.021294</td>\n",
       "      <td>-0.876791</td>\n",
       "      <td>-2.804382</td>\n",
       "      <td>-0.772752</td>\n",
       "      <td>0.902250</td>\n",
       "      <td>-0.283821</td>\n",
       "      <td>1.158110</td>\n",
       "      <td>-0.703144</td>\n",
       "      <td>-1.142507</td>\n",
       "      <td>1</td>\n",
       "    </tr>\n",
       "    <tr>\n",
       "      <th>1</th>\n",
       "      <td>-0.498266</td>\n",
       "      <td>4.290355</td>\n",
       "      <td>0.924083</td>\n",
       "      <td>-1.281493</td>\n",
       "      <td>8.153378</td>\n",
       "      <td>-2.302476</td>\n",
       "      <td>0.615296</td>\n",
       "      <td>-3.871441</td>\n",
       "      <td>1.491185</td>\n",
       "      <td>3.666561</td>\n",
       "      <td>...</td>\n",
       "      <td>-0.030226</td>\n",
       "      <td>1.076776</td>\n",
       "      <td>-1.426662</td>\n",
       "      <td>0.743057</td>\n",
       "      <td>0.212868</td>\n",
       "      <td>1.043947</td>\n",
       "      <td>0.948273</td>\n",
       "      <td>0.706128</td>\n",
       "      <td>-0.491125</td>\n",
       "      <td>1</td>\n",
       "    </tr>\n",
       "    <tr>\n",
       "      <th>2</th>\n",
       "      <td>-1.027512</td>\n",
       "      <td>3.363755</td>\n",
       "      <td>1.828574</td>\n",
       "      <td>-0.495802</td>\n",
       "      <td>7.458820</td>\n",
       "      <td>-2.484852</td>\n",
       "      <td>0.378415</td>\n",
       "      <td>-2.248700</td>\n",
       "      <td>-1.301424</td>\n",
       "      <td>4.136351</td>\n",
       "      <td>...</td>\n",
       "      <td>0.472101</td>\n",
       "      <td>1.206932</td>\n",
       "      <td>-0.923404</td>\n",
       "      <td>0.566657</td>\n",
       "      <td>0.293071</td>\n",
       "      <td>-0.145078</td>\n",
       "      <td>1.759649</td>\n",
       "      <td>0.516351</td>\n",
       "      <td>0.492429</td>\n",
       "      <td>1</td>\n",
       "    </tr>\n",
       "    <tr>\n",
       "      <th>3</th>\n",
       "      <td>2.736756</td>\n",
       "      <td>-2.241731</td>\n",
       "      <td>0.404660</td>\n",
       "      <td>-0.167861</td>\n",
       "      <td>-0.125442</td>\n",
       "      <td>0.496706</td>\n",
       "      <td>1.664382</td>\n",
       "      <td>-1.271026</td>\n",
       "      <td>0.213782</td>\n",
       "      <td>0.962099</td>\n",
       "      <td>...</td>\n",
       "      <td>-1.376614</td>\n",
       "      <td>-0.559114</td>\n",
       "      <td>-0.335620</td>\n",
       "      <td>0.088591</td>\n",
       "      <td>0.080121</td>\n",
       "      <td>-0.085828</td>\n",
       "      <td>0.038390</td>\n",
       "      <td>-0.096909</td>\n",
       "      <td>-0.426436</td>\n",
       "      <td>1</td>\n",
       "    </tr>\n",
       "    <tr>\n",
       "      <th>4</th>\n",
       "      <td>0.685796</td>\n",
       "      <td>0.223385</td>\n",
       "      <td>-2.080131</td>\n",
       "      <td>-0.011414</td>\n",
       "      <td>4.090118</td>\n",
       "      <td>0.650177</td>\n",
       "      <td>2.411078</td>\n",
       "      <td>2.637664</td>\n",
       "      <td>-1.594057</td>\n",
       "      <td>0.283371</td>\n",
       "      <td>...</td>\n",
       "      <td>0.540901</td>\n",
       "      <td>0.354731</td>\n",
       "      <td>-0.933172</td>\n",
       "      <td>-0.888606</td>\n",
       "      <td>0.902017</td>\n",
       "      <td>0.506791</td>\n",
       "      <td>0.640292</td>\n",
       "      <td>0.129010</td>\n",
       "      <td>0.092228</td>\n",
       "      <td>1</td>\n",
       "    </tr>\n",
       "  </tbody>\n",
       "</table>\n",
       "<p>5 rows × 30 columns</p>\n",
       "</div>"
      ],
      "text/plain": [
       "   Feature1  Feature2  Feature3  Feature4  Feature5  Feature6  Feature7  \\\n",
       "0  1.942833  1.793557 -6.121474 -1.031132  0.487107 -0.346116  0.242493   \n",
       "1 -0.498266  4.290355  0.924083 -1.281493  8.153378 -2.302476  0.615296   \n",
       "2 -1.027512  3.363755  1.828574 -0.495802  7.458820 -2.484852  0.378415   \n",
       "3  2.736756 -2.241731  0.404660 -0.167861 -0.125442  0.496706  1.664382   \n",
       "4  0.685796  0.223385 -2.080131 -0.011414  4.090118  0.650177  2.411078   \n",
       "\n",
       "   Feature8  Feature9  Feature10  ...  Feature21  Feature22  Feature23  \\\n",
       "0 -0.255091 -1.933793   0.456129  ...   0.021294  -0.876791  -2.804382   \n",
       "1 -3.871441  1.491185   3.666561  ...  -0.030226   1.076776  -1.426662   \n",
       "2 -2.248700 -1.301424   4.136351  ...   0.472101   1.206932  -0.923404   \n",
       "3 -1.271026  0.213782   0.962099  ...  -1.376614  -0.559114  -0.335620   \n",
       "4  2.637664 -1.594057   0.283371  ...   0.540901   0.354731  -0.933172   \n",
       "\n",
       "   Feature24  Feature25  Feature26  Feature27  Feature28  Feature29  target  \n",
       "0  -0.772752   0.902250  -0.283821   1.158110  -0.703144  -1.142507       1  \n",
       "1   0.743057   0.212868   1.043947   0.948273   0.706128  -0.491125       1  \n",
       "2   0.566657   0.293071  -0.145078   1.759649   0.516351   0.492429       1  \n",
       "3   0.088591   0.080121  -0.085828   0.038390  -0.096909  -0.426436       1  \n",
       "4  -0.888606   0.902017   0.506791   0.640292   0.129010   0.092228       1  \n",
       "\n",
       "[5 rows x 30 columns]"
      ]
     },
     "execution_count": 22,
     "metadata": {},
     "output_type": "execute_result"
    }
   ],
   "source": [
    "# Load Dataset\n",
    "df = pd.read_csv(\"../Datasets/Balanced_Binary.csv\")\n",
    "df.head()"
   ]
  },
  {
   "cell_type": "code",
   "execution_count": 23,
   "metadata": {},
   "outputs": [
    {
     "data": {
      "text/plain": [
       "target\n",
       "1    437\n",
       "0    437\n",
       "Name: count, dtype: int64"
      ]
     },
     "execution_count": 23,
     "metadata": {},
     "output_type": "execute_result"
    }
   ],
   "source": [
    "df['target'].value_counts()"
   ]
  },
  {
   "cell_type": "code",
   "execution_count": 24,
   "metadata": {},
   "outputs": [],
   "source": [
    "# Splitting Data\n",
    "X = df.drop(columns=[\"target\"])  # Features\n",
    "y = df[\"target\"].values          # Target Variable"
   ]
  },
  {
   "cell_type": "code",
   "execution_count": 25,
   "metadata": {},
   "outputs": [],
   "source": [
    "# Normalize Features\n",
    "scaler = StandardScaler()\n",
    "X = scaler.fit_transform(X)"
   ]
  },
  {
   "cell_type": "code",
   "execution_count": 26,
   "metadata": {},
   "outputs": [],
   "source": [
    "# Convert to PyTorch tensors\n",
    "X_train, X_test, y_train, y_test = train_test_split(X, y, test_size=0.2, random_state=42)"
   ]
  },
  {
   "cell_type": "code",
   "execution_count": 27,
   "metadata": {},
   "outputs": [],
   "source": [
    "X_train_tensor = torch.tensor(X_train, dtype=torch.float32)\n",
    "X_test_tensor = torch.tensor(X_test, dtype=torch.float32)\n",
    "y_train_tensor = torch.tensor(y_train, dtype=torch.float32).unsqueeze(1)\n",
    "y_test_tensor = torch.tensor(y_test, dtype=torch.float32).unsqueeze(1)"
   ]
  },
  {
   "cell_type": "code",
   "execution_count": 28,
   "metadata": {},
   "outputs": [],
   "source": [
    "# Create PyTorch Dataloader\n",
    "train_dataset = data.TensorDataset(X_train_tensor, y_train_tensor)\n",
    "test_dataset = data.TensorDataset(X_test_tensor, y_test_tensor)\n",
    "\n",
    "train_loader = data.DataLoader(train_dataset, batch_size=32, shuffle=True)\n",
    "test_loader = data.DataLoader(test_dataset, batch_size=32, shuffle=False)"
   ]
  },
  {
   "cell_type": "code",
   "execution_count": 29,
   "metadata": {},
   "outputs": [],
   "source": [
    "class OptimizedMLP(nn.Module):\n",
    "    def __init__(self, input_size):\n",
    "        super(OptimizedMLP, self).__init__()\n",
    "        self.fc1 = nn.Linear(input_size, 256)\n",
    "        self.fc2 = nn.Linear(256, 128)\n",
    "        self.fc3 = nn.Linear(128, 64)\n",
    "        self.fc4 = nn.Linear(64, 1) \n",
    "\n",
    "        self.relu = nn.ReLU()\n",
    "        self.dropout = nn.Dropout(0.3)  # Regularization\n",
    "        self.sigmoid = nn.Sigmoid()\n",
    "        \n",
    "    def forward(self, x):\n",
    "        x = self.relu(self.fc1(x))\n",
    "        x = self.dropout(x)\n",
    "        x = self.relu(self.fc2(x))\n",
    "        x = self.relu(self.fc3(x)) \n",
    "        x = self.fc4(x)  \n",
    "        return self.sigmoid(x) "
   ]
  },
  {
   "cell_type": "code",
   "execution_count": 30,
   "metadata": {},
   "outputs": [],
   "source": [
    "# Initialize Model\n",
    "device = torch.device(\"cuda\" if torch.cuda.is_available() else \"cpu\")\n",
    "model = OptimizedMLP(input_size=X_train.shape[1]).to(device)"
   ]
  },
  {
   "cell_type": "code",
   "execution_count": 31,
   "metadata": {},
   "outputs": [
    {
     "data": {
      "text/plain": [
       "device(type='cuda')"
      ]
     },
     "execution_count": 31,
     "metadata": {},
     "output_type": "execute_result"
    }
   ],
   "source": [
    "device"
   ]
  },
  {
   "cell_type": "code",
   "execution_count": 32,
   "metadata": {},
   "outputs": [],
   "source": [
    "# Loss and Optimizer\n",
    "criterion = nn.BCELoss()  # Binary Cross-Entropy Loss\n",
    "optimizer = optim.AdamW(model.parameters(), lr=0.0005, weight_decay=1e-5) # L2 Regularization\n",
    "scheduler = optim.lr_scheduler.StepLR(optimizer, step_size=10, gamma=0.1)  # Learning Rate Scheduler"
   ]
  },
  {
   "cell_type": "code",
   "execution_count": 33,
   "metadata": {},
   "outputs": [
    {
     "name": "stdout",
     "output_type": "stream",
     "text": [
      "Epoch [1/100], Loss: 0.6590, Val Loss: 0.6023\n",
      "Epoch [2/100], Loss: 0.4980, Val Loss: 0.3409\n",
      "Epoch [3/100], Loss: 0.2417, Val Loss: 0.1438\n",
      "Epoch [4/100], Loss: 0.1246, Val Loss: 0.0763\n",
      "Epoch [5/100], Loss: 0.0847, Val Loss: 0.0769\n",
      "Epoch [6/100], Loss: 0.0515, Val Loss: 0.0537\n",
      "Epoch [7/100], Loss: 0.0427, Val Loss: 0.0535\n",
      "Epoch [8/100], Loss: 0.0469, Val Loss: 0.0540\n",
      "Epoch [9/100], Loss: 0.0308, Val Loss: 0.0442\n",
      "Epoch [10/100], Loss: 0.0252, Val Loss: 0.0431\n",
      "Epoch [11/100], Loss: 0.0251, Val Loss: 0.0430\n",
      "Epoch [12/100], Loss: 0.0243, Val Loss: 0.0426\n",
      "Epoch [13/100], Loss: 0.0200, Val Loss: 0.0421\n",
      "Epoch [14/100], Loss: 0.0210, Val Loss: 0.0421\n",
      "Epoch [15/100], Loss: 0.0144, Val Loss: 0.0427\n",
      "Epoch [16/100], Loss: 0.0136, Val Loss: 0.0426\n",
      "Epoch [17/100], Loss: 0.0276, Val Loss: 0.0413\n",
      "Epoch [18/100], Loss: 0.0183, Val Loss: 0.0398\n",
      "Epoch [19/100], Loss: 0.0202, Val Loss: 0.0400\n",
      "Epoch [20/100], Loss: 0.0150, Val Loss: 0.0402\n",
      "Epoch [21/100], Loss: 0.0137, Val Loss: 0.0401\n",
      "Epoch [22/100], Loss: 0.0148, Val Loss: 0.0401\n",
      "Epoch [23/100], Loss: 0.0149, Val Loss: 0.0401\n",
      "Epoch [24/100], Loss: 0.0164, Val Loss: 0.0401\n",
      "Epoch [25/100], Loss: 0.0162, Val Loss: 0.0400\n",
      "Epoch [26/100], Loss: 0.0154, Val Loss: 0.0400\n",
      "Epoch [27/100], Loss: 0.0195, Val Loss: 0.0399\n",
      "Epoch [28/100], Loss: 0.0138, Val Loss: 0.0398\n",
      "Early stopping triggered.\n"
     ]
    }
   ],
   "source": [
    "# Training Loop with Early Stopping\n",
    "epochs = 100\n",
    "best_val_loss = float(\"inf\")\n",
    "patience = 10  # Stop if validation loss doesn't improve for 5 consecutive epochs\n",
    "patience_counter = 0\n",
    "\n",
    "for epoch in range(epochs):\n",
    "    model.train()\n",
    "    running_loss = 0.0\n",
    "    \n",
    "    for X_batch, y_batch in train_loader:\n",
    "        X_batch, y_batch = X_batch.to(device), y_batch.to(device)\n",
    "        \n",
    "        optimizer.zero_grad()\n",
    "        outputs = model(X_batch)\n",
    "        loss = criterion(outputs, y_batch)\n",
    "        loss.backward()\n",
    "        optimizer.step()\n",
    "        \n",
    "        running_loss += loss.item()\n",
    "    \n",
    "    scheduler.step()\n",
    "    \n",
    "    # Compute Validation Loss\n",
    "    model.eval()\n",
    "    with torch.no_grad():\n",
    "        val_outputs = model(X_test_tensor.to(device))\n",
    "        val_loss = criterion(val_outputs, y_test_tensor.to(device)).item()\n",
    "\n",
    "    print(f\"Epoch [{epoch+1}/{epochs}], Loss: {running_loss/len(train_loader):.4f}, Val Loss: {val_loss:.4f}\")\n",
    "    \n",
    "    # Early Stopping\n",
    "    if val_loss < best_val_loss:\n",
    "        best_val_loss = val_loss\n",
    "        patience_counter = 0\n",
    "    else:\n",
    "        patience_counter += 1\n",
    "        if patience_counter >= patience:\n",
    "            print(\"Early stopping triggered.\")\n",
    "            break"
   ]
  },
  {
   "cell_type": "code",
   "execution_count": 34,
   "metadata": {},
   "outputs": [],
   "source": [
    "# Model Evaluation\n",
    "model.eval()\n",
    "with torch.no_grad():\n",
    "    y_pred_probs = model(X_test_tensor.to(device)).cpu().numpy()\n",
    "    y_pred_binary = (y_pred_probs >= 0.5).astype(int)"
   ]
  },
  {
   "cell_type": "code",
   "execution_count": 35,
   "metadata": {},
   "outputs": [
    {
     "name": "stdout",
     "output_type": "stream",
     "text": [
      "Precision: 0.9881, Recall: 0.9765, F1-Score: 0.9822\n"
     ]
    }
   ],
   "source": [
    "# Compute Performance Metrics\n",
    "accuracy = accuracy_score(y_test, y_pred_binary)\n",
    "precision, recall, f1, _ = precision_recall_fscore_support(y_test, y_pred_binary, average=\"binary\")\n",
    "cm = confusion_matrix(y_test, y_pred_binary)\n",
    "\n",
    "print(f\"Precision: {precision:.4f}, Recall: {recall:.4f}, F1-Score: {f1:.4f}\")"
   ]
  },
  {
   "cell_type": "code",
   "execution_count": 36,
   "metadata": {},
   "outputs": [
    {
     "name": "stdout",
     "output_type": "stream",
     "text": [
      "Confusion Matrix:\n",
      " [[89  1]\n",
      " [ 2 83]]\n"
     ]
    }
   ],
   "source": [
    "print(\"Confusion Matrix:\\n\", cm)"
   ]
  },
  {
   "cell_type": "code",
   "execution_count": 37,
   "metadata": {},
   "outputs": [
    {
     "data": {
      "text/plain": [
       "(array([0.5, 1.5]), [Text(0, 0.5, 'Negative'), Text(0, 1.5, 'Positive')])"
      ]
     },
     "execution_count": 37,
     "metadata": {},
     "output_type": "execute_result"
    },
    {
     "data": {
      "image/png": "[encoded data removed]",
      "text/plain": [
       "<Figure size 700x600 with 2 Axes>"
      ]
     },
     "metadata": {},
     "output_type": "display_data"
    }
   ],
   "source": [
    "# Plot Confusion Matrix\n",
    "plt.figure(figsize=(7,6))  # Increase figure size\n",
    "ax = sns.heatmap(cm, annot=True, fmt='.0f', cmap='Blues', \n",
    "                 linewidths=1.5, linecolor='black', \n",
    "                 annot_kws={\"size\": 14}, vmin=0, vmax=100,\n",
    "                 xticklabels=['Negative', 'Positive'], \n",
    "                 yticklabels=['Negative', 'Positive'])\n",
    "\n",
    "\n",
    "plt.xlabel(\"Predicted Label\", fontsize=14)\n",
    "plt.ylabel(\"True Label\", fontsize=14)\n",
    "plt.title(\"Confusion Matrix - Neural Network\", fontsize=16)\n",
    "plt.xticks(fontsize=12)\n",
    "plt.yticks(fontsize=12)"
   ]
  },
  {
   "cell_type": "code",
   "execution_count": 38,
   "metadata": {},
   "outputs": [
    {
     "name": "stdout",
     "output_type": "stream",
     "text": [
      "Sensitivity: 0.9765\n",
      "Specificity: 0.9889\n"
     ]
    }
   ],
   "source": [
    "# Extract TP, TN, FP, FN\n",
    "TN, FP, FN, TP = cm.ravel()\n",
    "\n",
    "# Compute Sensitivity & Specificity\n",
    "sensitivity = TP / (TP + FN)\n",
    "specificity = TN / (TN + FP)\n",
    "\n",
    "print(f\"Sensitivity: {sensitivity:.4f}\")\n",
    "print(f\"Specificity: {specificity:.4f}\")"
   ]
  },
  {
   "cell_type": "code",
   "execution_count": 39,
   "metadata": {},
   "outputs": [
    {
     "name": "stdout",
     "output_type": "stream",
     "text": [
      "Accuracy: 0.9829\n",
      "              precision    recall  f1-score   support\n",
      "\n",
      "           0       0.98      0.99      0.98        90\n",
      "           1       0.99      0.98      0.98        85\n",
      "\n",
      "    accuracy                           0.98       175\n",
      "   macro avg       0.98      0.98      0.98       175\n",
      "weighted avg       0.98      0.98      0.98       175\n",
      "\n"
     ]
    }
   ],
   "source": [
    "print(f\"Accuracy: {accuracy:.4f}\")\n",
    "print(classification_report(y_test, y_pred_binary))"
   ]
  },
  {
   "cell_type": "code",
   "execution_count": 40,
   "metadata": {},
   "outputs": [
    {
     "data": {
      "image/png": "[encoded data removed]",
      "text/plain": [
       "<Figure size 600x400 with 1 Axes>"
      ]
     },
     "metadata": {},
     "output_type": "display_data"
    }
   ],
   "source": [
    "# ROC Curve\n",
    "fpr, tpr, _ = roc_curve(y_test, y_pred_probs)\n",
    "roc_auc = auc(fpr, tpr)\n",
    "\n",
    "plt.figure(figsize=(6,4))\n",
    "plt.plot(fpr, tpr, color=\"blue\", lw=2, label=f\"ROC Curve (AUC = {roc_auc:.2f})\")\n",
    "plt.plot([0,1], [0,1], color=\"grey\", linestyle=\"--\")\n",
    "plt.xlabel(\"False Positive Rate\")\n",
    "plt.ylabel(\"True Positive Rate\")\n",
    "plt.title(\"ROC Curve - Neural Network\")\n",
    "plt.legend(loc=\"lower right\")\n",
    "plt.show()"
   ]
  },
  {
   "cell_type": "code",
   "execution_count": null,
   "metadata": {},
   "outputs": [],
   "source": []
  }
 ],
 "metadata": {
  "kernelspec": {
   "display_name": "base",
   "language": "python",
   "name": "python3"
  },
  "language_info": {
   "codemirror_mode": {
    "name": "ipython",
    "version": 3
   },
   "file_extension": ".py",
   "mimetype": "text/x-python",
   "name": "python",
   "nbconvert_exporter": "python",
   "pygments_lexer": "ipython3",
   "version": "3.12.3"
  }
 },
 "nbformat": 4,
 "nbformat_minor": 2
}
