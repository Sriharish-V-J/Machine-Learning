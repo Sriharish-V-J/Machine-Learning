{
 "cells": [
  {
   "cell_type": "code",
   "execution_count": 3,
   "metadata": {},
   "outputs": [],
   "source": [
    "import torch\n",
    "import torch.nn as nn\n",
    "import torch.optim as optim\n",
    "import torch.utils.data as data\n",
    "import numpy as np\n",
    "import matplotlib.pyplot as plt\n",
    "import seaborn as sns\n",
    "from sklearn.metrics import accuracy_score, precision_recall_fscore_support, confusion_matrix, roc_curve, auc,classification_report\n",
    "from sklearn.model_selection import train_test_split\n",
    "from sklearn.preprocessing import StandardScaler\n",
    "import pandas as pd"
   ]
  },
  {
   "cell_type": "code",
   "execution_count": null,
   "metadata": {},
   "outputs": [],
   "source": [
    "# Load Dataset\n",
    "df = pd.read_csv(\"../Datasets/Unbalanced_Binary.csv\")"
   ]
  },
  {
   "cell_type": "code",
   "execution_count": 5,
   "metadata": {},
   "outputs": [],
   "source": [
    "# Splitting Data\n",
    "X = df.drop(columns=[\"target\"])  # Features\n",
    "y = df[\"target\"].values          # Target Variable"
   ]
  },
  {
   "cell_type": "code",
   "execution_count": 6,
   "metadata": {},
   "outputs": [],
   "source": [
    "# Normalize Features\n",
    "scaler = StandardScaler()\n",
    "X = scaler.fit_transform(X)"
   ]
  },
  {
   "cell_type": "code",
   "execution_count": 7,
   "metadata": {},
   "outputs": [],
   "source": [
    "# Convert to PyTorch tensors\n",
    "X_train, X_test, y_train, y_test = train_test_split(X, y, test_size=0.2, random_state=42)"
   ]
  },
  {
   "cell_type": "code",
   "execution_count": 8,
   "metadata": {},
   "outputs": [],
   "source": [
    "X_train_tensor = torch.tensor(X_train, dtype=torch.float32)\n",
    "X_test_tensor = torch.tensor(X_test, dtype=torch.float32)\n",
    "y_train_tensor = torch.tensor(y_train, dtype=torch.float32).unsqueeze(1)\n",
    "y_test_tensor = torch.tensor(y_test, dtype=torch.float32).unsqueeze(1)"
   ]
  },
  {
   "cell_type": "code",
   "execution_count": 9,
   "metadata": {},
   "outputs": [],
   "source": [
    "# Create PyTorch Dataloader\n",
    "train_dataset = data.TensorDataset(X_train_tensor, y_train_tensor)\n",
    "test_dataset = data.TensorDataset(X_test_tensor, y_test_tensor)\n",
    "\n",
    "train_loader = data.DataLoader(train_dataset, batch_size=32, shuffle=True)\n",
    "test_loader = data.DataLoader(test_dataset, batch_size=32, shuffle=False)"
   ]
  },
  {
   "cell_type": "code",
   "execution_count": 10,
   "metadata": {},
   "outputs": [],
   "source": [
    "class OptimizedMLP(nn.Module):\n",
    "    def __init__(self, input_size):\n",
    "        super(OptimizedMLP, self).__init__()\n",
    "        self.fc1 = nn.Linear(input_size, 256)\n",
    "        self.fc2 = nn.Linear(256, 128)\n",
    "        self.fc3 = nn.Linear(128, 64)\n",
    "        self.fc4 = nn.Linear(64, 1) \n",
    "\n",
    "        self.relu = nn.ReLU()\n",
    "        self.dropout = nn.Dropout(0.3)  # Regularization\n",
    "        self.sigmoid = nn.Sigmoid()\n",
    "        \n",
    "    def forward(self, x):\n",
    "        x = self.relu(self.fc1(x))\n",
    "        x = self.dropout(x)\n",
    "        x = self.relu(self.fc2(x))\n",
    "        x = self.relu(self.fc3(x)) \n",
    "        x = self.fc4(x)  \n",
    "        return self.sigmoid(x) "
   ]
  },
  {
   "cell_type": "code",
   "execution_count": 11,
   "metadata": {},
   "outputs": [],
   "source": [
    "# Initialize Model\n",
    "device = torch.device(\"cuda\" if torch.cuda.is_available() else \"cpu\")\n",
    "model = OptimizedMLP(input_size=X_train.shape[1]).to(device)"
   ]
  },
  {
   "cell_type": "code",
   "execution_count": 12,
   "metadata": {},
   "outputs": [],
   "source": [
    "# Loss and Optimizer\n",
    "criterion = nn.BCELoss()  # Binary Cross-Entropy Loss\n",
    "optimizer = optim.AdamW(model.parameters(), lr=0.0005, weight_decay=1e-5) # L2 Regularization\n",
    "scheduler = optim.lr_scheduler.StepLR(optimizer, step_size=10, gamma=0.1)  # Learning Rate Scheduler"
   ]
  },
  {
   "cell_type": "code",
   "execution_count": 13,
   "metadata": {},
   "outputs": [
    {
     "name": "stdout",
     "output_type": "stream",
     "text": [
      "Epoch [1/100], Loss: 0.6207, Val Loss: 0.5292\n",
      "Epoch [2/100], Loss: 0.4836, Val Loss: 0.3502\n",
      "Epoch [3/100], Loss: 0.3876, Val Loss: 0.2870\n",
      "Epoch [4/100], Loss: 0.3501, Val Loss: 0.2559\n",
      "Epoch [5/100], Loss: 0.3159, Val Loss: 0.2300\n",
      "Epoch [6/100], Loss: 0.2827, Val Loss: 0.2005\n",
      "Epoch [7/100], Loss: 0.2599, Val Loss: 0.1809\n",
      "Epoch [8/100], Loss: 0.2274, Val Loss: 0.1661\n",
      "Epoch [9/100], Loss: 0.2090, Val Loss: 0.1556\n",
      "Epoch [10/100], Loss: 0.1820, Val Loss: 0.1460\n",
      "Epoch [11/100], Loss: 0.1697, Val Loss: 0.1452\n",
      "Epoch [12/100], Loss: 0.1662, Val Loss: 0.1445\n",
      "Epoch [13/100], Loss: 0.1589, Val Loss: 0.1439\n",
      "Epoch [14/100], Loss: 0.1606, Val Loss: 0.1431\n",
      "Epoch [15/100], Loss: 0.1654, Val Loss: 0.1424\n",
      "Epoch [16/100], Loss: 0.1500, Val Loss: 0.1421\n",
      "Epoch [17/100], Loss: 0.1630, Val Loss: 0.1414\n",
      "Epoch [18/100], Loss: 0.1513, Val Loss: 0.1405\n",
      "Epoch [19/100], Loss: 0.1530, Val Loss: 0.1396\n",
      "Epoch [20/100], Loss: 0.1510, Val Loss: 0.1388\n",
      "Epoch [21/100], Loss: 0.1426, Val Loss: 0.1387\n",
      "Epoch [22/100], Loss: 0.1492, Val Loss: 0.1386\n",
      "Epoch [23/100], Loss: 0.1492, Val Loss: 0.1385\n",
      "Epoch [24/100], Loss: 0.1527, Val Loss: 0.1384\n",
      "Epoch [25/100], Loss: 0.1461, Val Loss: 0.1383\n",
      "Epoch [26/100], Loss: 0.1490, Val Loss: 0.1383\n",
      "Epoch [27/100], Loss: 0.1494, Val Loss: 0.1382\n",
      "Epoch [28/100], Loss: 0.1428, Val Loss: 0.1381\n",
      "Epoch [29/100], Loss: 0.1429, Val Loss: 0.1380\n",
      "Epoch [30/100], Loss: 0.1473, Val Loss: 0.1379\n",
      "Epoch [31/100], Loss: 0.1456, Val Loss: 0.1379\n",
      "Epoch [32/100], Loss: 0.1484, Val Loss: 0.1379\n",
      "Epoch [33/100], Loss: 0.1485, Val Loss: 0.1379\n",
      "Epoch [34/100], Loss: 0.1445, Val Loss: 0.1379\n",
      "Epoch [35/100], Loss: 0.1455, Val Loss: 0.1379\n",
      "Epoch [36/100], Loss: 0.1446, Val Loss: 0.1379\n",
      "Epoch [37/100], Loss: 0.1488, Val Loss: 0.1379\n",
      "Epoch [38/100], Loss: 0.1416, Val Loss: 0.1379\n",
      "Epoch [39/100], Loss: 0.1471, Val Loss: 0.1379\n",
      "Epoch [40/100], Loss: 0.1441, Val Loss: 0.1379\n",
      "Epoch [41/100], Loss: 0.1461, Val Loss: 0.1379\n",
      "Epoch [42/100], Loss: 0.1484, Val Loss: 0.1379\n",
      "Epoch [43/100], Loss: 0.1516, Val Loss: 0.1379\n",
      "Epoch [44/100], Loss: 0.1444, Val Loss: 0.1379\n",
      "Epoch [45/100], Loss: 0.1459, Val Loss: 0.1379\n",
      "Epoch [46/100], Loss: 0.1513, Val Loss: 0.1379\n",
      "Epoch [47/100], Loss: 0.1393, Val Loss: 0.1379\n",
      "Epoch [48/100], Loss: 0.1497, Val Loss: 0.1379\n",
      "Epoch [49/100], Loss: 0.1468, Val Loss: 0.1379\n",
      "Epoch [50/100], Loss: 0.1518, Val Loss: 0.1379\n",
      "Epoch [51/100], Loss: 0.1468, Val Loss: 0.1379\n",
      "Epoch [52/100], Loss: 0.1459, Val Loss: 0.1379\n",
      "Epoch [53/100], Loss: 0.1409, Val Loss: 0.1379\n",
      "Epoch [54/100], Loss: 0.1496, Val Loss: 0.1379\n",
      "Epoch [55/100], Loss: 0.1447, Val Loss: 0.1379\n",
      "Epoch [56/100], Loss: 0.1523, Val Loss: 0.1379\n",
      "Epoch [57/100], Loss: 0.1539, Val Loss: 0.1379\n",
      "Epoch [58/100], Loss: 0.1475, Val Loss: 0.1379\n",
      "Epoch [59/100], Loss: 0.1458, Val Loss: 0.1379\n",
      "Epoch [60/100], Loss: 0.1450, Val Loss: 0.1379\n",
      "Epoch [61/100], Loss: 0.1518, Val Loss: 0.1379\n",
      "Epoch [62/100], Loss: 0.1461, Val Loss: 0.1379\n",
      "Epoch [63/100], Loss: 0.1464, Val Loss: 0.1379\n",
      "Epoch [64/100], Loss: 0.1460, Val Loss: 0.1379\n",
      "Epoch [65/100], Loss: 0.1470, Val Loss: 0.1379\n",
      "Epoch [66/100], Loss: 0.1456, Val Loss: 0.1379\n",
      "Epoch [67/100], Loss: 0.1435, Val Loss: 0.1379\n",
      "Epoch [68/100], Loss: 0.1479, Val Loss: 0.1379\n",
      "Epoch [69/100], Loss: 0.1431, Val Loss: 0.1379\n",
      "Epoch [70/100], Loss: 0.1419, Val Loss: 0.1379\n",
      "Epoch [71/100], Loss: 0.1469, Val Loss: 0.1379\n",
      "Epoch [72/100], Loss: 0.1463, Val Loss: 0.1379\n",
      "Epoch [73/100], Loss: 0.1554, Val Loss: 0.1379\n",
      "Epoch [74/100], Loss: 0.1466, Val Loss: 0.1379\n",
      "Epoch [75/100], Loss: 0.1512, Val Loss: 0.1379\n",
      "Epoch [76/100], Loss: 0.1439, Val Loss: 0.1379\n",
      "Epoch [77/100], Loss: 0.1504, Val Loss: 0.1379\n",
      "Epoch [78/100], Loss: 0.1433, Val Loss: 0.1379\n",
      "Epoch [79/100], Loss: 0.1456, Val Loss: 0.1379\n",
      "Early stopping triggered.\n"
     ]
    }
   ],
   "source": [
    "# Training Loop with Early Stopping\n",
    "epochs = 100\n",
    "best_val_loss = float(\"inf\")\n",
    "patience = 10  # Stop if validation loss doesn't improve for 5 consecutive epochs\n",
    "patience_counter = 0\n",
    "\n",
    "for epoch in range(epochs):\n",
    "    model.train()\n",
    "    running_loss = 0.0\n",
    "    \n",
    "    for X_batch, y_batch in train_loader:\n",
    "        X_batch, y_batch = X_batch.to(device), y_batch.to(device)\n",
    "        \n",
    "        optimizer.zero_grad()\n",
    "        outputs = model(X_batch)\n",
    "        loss = criterion(outputs, y_batch)\n",
    "        loss.backward()\n",
    "        optimizer.step()\n",
    "        \n",
    "        running_loss += loss.item()\n",
    "    \n",
    "    scheduler.step()\n",
    "    \n",
    "    # Compute Validation Loss\n",
    "    model.eval()\n",
    "    with torch.no_grad():\n",
    "        val_outputs = model(X_test_tensor.to(device))\n",
    "        val_loss = criterion(val_outputs, y_test_tensor.to(device)).item()\n",
    "\n",
    "    print(f\"Epoch [{epoch+1}/{epochs}], Loss: {running_loss/len(train_loader):.4f}, Val Loss: {val_loss:.4f}\")\n",
    "    \n",
    "    # Early Stopping\n",
    "    if val_loss < best_val_loss:\n",
    "        best_val_loss = val_loss\n",
    "        patience_counter = 0\n",
    "    else:\n",
    "        patience_counter += 1\n",
    "        if patience_counter >= patience:\n",
    "            print(\"Early stopping triggered.\")\n",
    "            break"
   ]
  },
  {
   "cell_type": "code",
   "execution_count": 14,
   "metadata": {},
   "outputs": [],
   "source": [
    "# Model Evaluation\n",
    "model.eval()\n",
    "with torch.no_grad():\n",
    "    y_pred_probs = model(X_test_tensor.to(device)).cpu().numpy()\n",
    "    y_pred_binary = (y_pred_probs >= 0.5).astype(int)"
   ]
  },
  {
   "cell_type": "code",
   "execution_count": 15,
   "metadata": {},
   "outputs": [
    {
     "name": "stdout",
     "output_type": "stream",
     "text": [
      "Precision: 0.9579, Recall: 1.0000, F1-Score: 0.9785\n"
     ]
    }
   ],
   "source": [
    "# Compute Performance Metrics\n",
    "accuracy = accuracy_score(y_test, y_pred_binary)\n",
    "precision, recall, f1, _ = precision_recall_fscore_support(y_test, y_pred_binary, average=\"binary\")\n",
    "cm = confusion_matrix(y_test, y_pred_binary)\n",
    "\n",
    "print(f\"Precision: {precision:.4f}, Recall: {recall:.4f}, F1-Score: {f1:.4f}\")"
   ]
  },
  {
   "cell_type": "code",
   "execution_count": 16,
   "metadata": {},
   "outputs": [
    {
     "name": "stdout",
     "output_type": "stream",
     "text": [
      "Confusion Matrix:\n",
      " [[ 9  4]\n",
      " [ 0 91]]\n"
     ]
    }
   ],
   "source": [
    "print(\"Confusion Matrix:\\n\", cm)"
   ]
  },
  {
   "cell_type": "code",
   "execution_count": 17,
   "metadata": {},
   "outputs": [
    {
     "name": "stdout",
     "output_type": "stream",
     "text": [
      "Sensitivity: 1.0000\n",
      "Specificity: 0.6923\n"
     ]
    }
   ],
   "source": [
    "# Extract TP, TN, FP, FN\n",
    "TN, FP, FN, TP = cm.ravel()\n",
    "\n",
    "# Compute Sensitivity & Specificity\n",
    "sensitivity = TP / (TP + FN)\n",
    "specificity = TN / (TN + FP)\n",
    "\n",
    "print(f\"Sensitivity: {sensitivity:.4f}\")\n",
    "print(f\"Specificity: {specificity:.4f}\")"
   ]
  },
  {
   "cell_type": "code",
   "execution_count": 18,
   "metadata": {},
   "outputs": [
    {
     "name": "stdout",
     "output_type": "stream",
     "text": [
      "Accuracy: 0.9615\n",
      "              precision    recall  f1-score   support\n",
      "\n",
      "           0       1.00      0.69      0.82        13\n",
      "           1       0.96      1.00      0.98        91\n",
      "\n",
      "    accuracy                           0.96       104\n",
      "   macro avg       0.98      0.85      0.90       104\n",
      "weighted avg       0.96      0.96      0.96       104\n",
      "\n"
     ]
    }
   ],
   "source": [
    "print(f\"Accuracy: {accuracy:.4f}\")\n",
    "print(classification_report(y_test, y_pred_binary))"
   ]
  },
  {
   "cell_type": "code",
   "execution_count": 19,
   "metadata": {},
   "outputs": [
    {
     "data": {
      "text/plain": [
       "(array([0.5, 1.5]), [Text(0, 0.5, 'Negative'), Text(0, 1.5, 'Positive')])"
      ]
     },
     "execution_count": 19,
     "metadata": {},
     "output_type": "execute_result"
    },
    {
     "data": {
      "image/png": "[encoded data removed]",
      "text/plain": [
       "<Figure size 700x600 with 2 Axes>"
      ]
     },
     "metadata": {},
     "output_type": "display_data"
    }
   ],
   "source": [
    "# Plot Confusion Matrix\n",
    "plt.figure(figsize=(7,6))  # Increase figure size\n",
    "ax = sns.heatmap(cm, annot=True, fmt='.0f', cmap='Blues', \n",
    "                 linewidths=1.5, linecolor='black', \n",
    "                 annot_kws={\"size\": 14}, vmin=0, vmax=100,\n",
    "                 xticklabels=['Negative', 'Positive'], \n",
    "                 yticklabels=['Negative', 'Positive'])\n",
    "\n",
    "\n",
    "plt.xlabel(\"Predicted Label\", fontsize=14)\n",
    "plt.ylabel(\"True Label\", fontsize=14)\n",
    "plt.title(\"Confusion Matrix - Neural Network\", fontsize=16)\n",
    "plt.xticks(fontsize=12)\n",
    "plt.yticks(fontsize=12)"
   ]
  },
  {
   "cell_type": "code",
   "execution_count": 20,
   "metadata": {},
   "outputs": [
    {
     "data": {
      "image/png": "[encoded data removed]",
      "text/plain": [
       "<Figure size 600x400 with 1 Axes>"
      ]
     },
     "metadata": {},
     "output_type": "display_data"
    }
   ],
   "source": [
    "# ROC Curve\n",
    "fpr, tpr, _ = roc_curve(y_test, y_pred_probs)\n",
    "roc_auc = auc(fpr, tpr)\n",
    "\n",
    "plt.figure(figsize=(6,4))\n",
    "plt.plot(fpr, tpr, color=\"blue\", lw=2, label=f\"ROC Curve (AUC = {roc_auc:.2f})\")\n",
    "plt.plot([0,1], [0,1], color=\"grey\", linestyle=\"--\")\n",
    "plt.xlabel(\"False Positive Rate\")\n",
    "plt.ylabel(\"True Positive Rate\")\n",
    "plt.title(\"ROC Curve - Neural Network\")\n",
    "plt.legend(loc=\"lower right\")\n",
    "plt.show()"
   ]
  },
  {
   "cell_type": "code",
   "execution_count": null,
   "metadata": {},
   "outputs": [],
   "source": []
  }
 ],
 "metadata": {
  "kernelspec": {
   "display_name": "Python 3",
   "language": "python",
   "name": "python3"
  },
  "language_info": {
   "codemirror_mode": {
    "name": "ipython",
    "version": 3
   },
   "file_extension": ".py",
   "mimetype": "text/x-python",
   "name": "python",
   "nbconvert_exporter": "python",
   "pygments_lexer": "ipython3",
   "version": "3.10.11"
  }
 },
 "nbformat": 4,
 "nbformat_minor": 2
}
