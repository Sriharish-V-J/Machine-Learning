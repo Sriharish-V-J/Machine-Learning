{
 "cells": [
  {
   "cell_type": "code",
   "execution_count": 1,
   "metadata": {},
   "outputs": [],
   "source": [
    "import pandas as pd\n",
    "import numpy as np\n",
    "import matplotlib.pyplot as plt\n",
    "import seaborn as sns\n",
    "from sklearn.model_selection import train_test_split\n",
    "from sklearn.preprocessing import StandardScaler\n",
    "from sklearn.ensemble import RandomForestClassifier\n",
    "from sklearn.metrics import accuracy_score, classification_report, confusion_matrix, roc_curve, auc\n",
    "import numpy as np"
   ]
  },
  {
   "cell_type": "markdown",
   "metadata": {},
   "source": [
    "**Unbalanced Binary**"
   ]
  },
  {
   "cell_type": "code",
   "execution_count": null,
   "metadata": {},
   "outputs": [
    {
     "data": {
      "text/html": [
       "<div>\n",
       "<style scoped>\n",
       "    .dataframe tbody tr th:only-of-type {\n",
       "        vertical-align: middle;\n",
       "    }\n",
       "\n",
       "    .dataframe tbody tr th {\n",
       "        vertical-align: top;\n",
       "    }\n",
       "\n",
       "    .dataframe thead th {\n",
       "        text-align: right;\n",
       "    }\n",
       "</style>\n",
       "<table border=\"1\" class=\"dataframe\">\n",
       "  <thead>\n",
       "    <tr style=\"text-align: right;\">\n",
       "      <th></th>\n",
       "      <th>Feature1</th>\n",
       "      <th>Feature2</th>\n",
       "      <th>Feature3</th>\n",
       "      <th>Feature4</th>\n",
       "      <th>Feature5</th>\n",
       "      <th>Feature6</th>\n",
       "      <th>Feature7</th>\n",
       "      <th>Feature8</th>\n",
       "      <th>Feature9</th>\n",
       "      <th>Feature10</th>\n",
       "      <th>...</th>\n",
       "      <th>Feature21</th>\n",
       "      <th>Feature22</th>\n",
       "      <th>Feature23</th>\n",
       "      <th>Feature24</th>\n",
       "      <th>Feature25</th>\n",
       "      <th>Feature26</th>\n",
       "      <th>Feature27</th>\n",
       "      <th>Feature28</th>\n",
       "      <th>Feature29</th>\n",
       "      <th>target</th>\n",
       "    </tr>\n",
       "  </thead>\n",
       "  <tbody>\n",
       "    <tr>\n",
       "      <th>0</th>\n",
       "      <td>1.942833</td>\n",
       "      <td>1.793557</td>\n",
       "      <td>-6.121474</td>\n",
       "      <td>-1.031132</td>\n",
       "      <td>0.487107</td>\n",
       "      <td>-0.346116</td>\n",
       "      <td>0.242493</td>\n",
       "      <td>-0.255091</td>\n",
       "      <td>-1.933793</td>\n",
       "      <td>0.456129</td>\n",
       "      <td>...</td>\n",
       "      <td>0.021294</td>\n",
       "      <td>-0.876791</td>\n",
       "      <td>-2.804382</td>\n",
       "      <td>-0.772752</td>\n",
       "      <td>0.902250</td>\n",
       "      <td>-0.283821</td>\n",
       "      <td>1.158110</td>\n",
       "      <td>-0.703144</td>\n",
       "      <td>-1.142507</td>\n",
       "      <td>1</td>\n",
       "    </tr>\n",
       "    <tr>\n",
       "      <th>1</th>\n",
       "      <td>-0.498266</td>\n",
       "      <td>4.290355</td>\n",
       "      <td>0.924083</td>\n",
       "      <td>-1.281493</td>\n",
       "      <td>8.153378</td>\n",
       "      <td>-2.302476</td>\n",
       "      <td>0.615296</td>\n",
       "      <td>-3.871441</td>\n",
       "      <td>1.491185</td>\n",
       "      <td>3.666561</td>\n",
       "      <td>...</td>\n",
       "      <td>-0.030226</td>\n",
       "      <td>1.076776</td>\n",
       "      <td>-1.426662</td>\n",
       "      <td>0.743057</td>\n",
       "      <td>0.212868</td>\n",
       "      <td>1.043947</td>\n",
       "      <td>0.948273</td>\n",
       "      <td>0.706128</td>\n",
       "      <td>-0.491125</td>\n",
       "      <td>1</td>\n",
       "    </tr>\n",
       "    <tr>\n",
       "      <th>2</th>\n",
       "      <td>-1.027512</td>\n",
       "      <td>3.363755</td>\n",
       "      <td>1.828574</td>\n",
       "      <td>-0.495802</td>\n",
       "      <td>7.458820</td>\n",
       "      <td>-2.484852</td>\n",
       "      <td>0.378415</td>\n",
       "      <td>-2.248700</td>\n",
       "      <td>-1.301424</td>\n",
       "      <td>4.136351</td>\n",
       "      <td>...</td>\n",
       "      <td>0.472101</td>\n",
       "      <td>1.206932</td>\n",
       "      <td>-0.923404</td>\n",
       "      <td>0.566657</td>\n",
       "      <td>0.293071</td>\n",
       "      <td>-0.145078</td>\n",
       "      <td>1.759649</td>\n",
       "      <td>0.516351</td>\n",
       "      <td>0.492429</td>\n",
       "      <td>1</td>\n",
       "    </tr>\n",
       "    <tr>\n",
       "      <th>3</th>\n",
       "      <td>2.736756</td>\n",
       "      <td>-2.241731</td>\n",
       "      <td>0.404660</td>\n",
       "      <td>-0.167861</td>\n",
       "      <td>-0.125442</td>\n",
       "      <td>0.496706</td>\n",
       "      <td>1.664382</td>\n",
       "      <td>-1.271026</td>\n",
       "      <td>0.213782</td>\n",
       "      <td>0.962099</td>\n",
       "      <td>...</td>\n",
       "      <td>-1.376614</td>\n",
       "      <td>-0.559114</td>\n",
       "      <td>-0.335620</td>\n",
       "      <td>0.088591</td>\n",
       "      <td>0.080121</td>\n",
       "      <td>-0.085828</td>\n",
       "      <td>0.038390</td>\n",
       "      <td>-0.096909</td>\n",
       "      <td>-0.426436</td>\n",
       "      <td>1</td>\n",
       "    </tr>\n",
       "    <tr>\n",
       "      <th>4</th>\n",
       "      <td>0.685796</td>\n",
       "      <td>0.223385</td>\n",
       "      <td>-2.080131</td>\n",
       "      <td>-0.011414</td>\n",
       "      <td>4.090118</td>\n",
       "      <td>0.650177</td>\n",
       "      <td>2.411078</td>\n",
       "      <td>2.637664</td>\n",
       "      <td>-1.594057</td>\n",
       "      <td>0.283371</td>\n",
       "      <td>...</td>\n",
       "      <td>0.540901</td>\n",
       "      <td>0.354731</td>\n",
       "      <td>-0.933172</td>\n",
       "      <td>-0.888606</td>\n",
       "      <td>0.902017</td>\n",
       "      <td>0.506791</td>\n",
       "      <td>0.640292</td>\n",
       "      <td>0.129010</td>\n",
       "      <td>0.092228</td>\n",
       "      <td>1</td>\n",
       "    </tr>\n",
       "  </tbody>\n",
       "</table>\n",
       "<p>5 rows × 30 columns</p>\n",
       "</div>"
      ],
      "text/plain": [
       "   Feature1  Feature2  Feature3  Feature4  Feature5  Feature6  Feature7  \\\n",
       "0  1.942833  1.793557 -6.121474 -1.031132  0.487107 -0.346116  0.242493   \n",
       "1 -0.498266  4.290355  0.924083 -1.281493  8.153378 -2.302476  0.615296   \n",
       "2 -1.027512  3.363755  1.828574 -0.495802  7.458820 -2.484852  0.378415   \n",
       "3  2.736756 -2.241731  0.404660 -0.167861 -0.125442  0.496706  1.664382   \n",
       "4  0.685796  0.223385 -2.080131 -0.011414  4.090118  0.650177  2.411078   \n",
       "\n",
       "   Feature8  Feature9  Feature10  ...  Feature21  Feature22  Feature23  \\\n",
       "0 -0.255091 -1.933793   0.456129  ...   0.021294  -0.876791  -2.804382   \n",
       "1 -3.871441  1.491185   3.666561  ...  -0.030226   1.076776  -1.426662   \n",
       "2 -2.248700 -1.301424   4.136351  ...   0.472101   1.206932  -0.923404   \n",
       "3 -1.271026  0.213782   0.962099  ...  -1.376614  -0.559114  -0.335620   \n",
       "4  2.637664 -1.594057   0.283371  ...   0.540901   0.354731  -0.933172   \n",
       "\n",
       "   Feature24  Feature25  Feature26  Feature27  Feature28  Feature29  target  \n",
       "0  -0.772752   0.902250  -0.283821   1.158110  -0.703144  -1.142507       1  \n",
       "1   0.743057   0.212868   1.043947   0.948273   0.706128  -0.491125       1  \n",
       "2   0.566657   0.293071  -0.145078   1.759649   0.516351   0.492429       1  \n",
       "3   0.088591   0.080121  -0.085828   0.038390  -0.096909  -0.426436       1  \n",
       "4  -0.888606   0.902017   0.506791   0.640292   0.129010   0.092228       1  \n",
       "\n",
       "[5 rows x 30 columns]"
      ]
     },
     "execution_count": 2,
     "metadata": {},
     "output_type": "execute_result"
    }
   ],
   "source": [
    "# Load dataset\n",
    "df = pd.read_csv(\"../Datasets/Unbalanced_Binary.csv\")\n",
    "df.head()"
   ]
  },
  {
   "cell_type": "code",
   "execution_count": 3,
   "metadata": {},
   "outputs": [],
   "source": [
    "# Splitting features and target\n",
    "X = df.drop(columns=['target'])  # Replace 'target' with actual target column name\n",
    "y = df['target']"
   ]
  },
  {
   "cell_type": "code",
   "execution_count": 4,
   "metadata": {},
   "outputs": [],
   "source": [
    "# Train-test split\n",
    "X_train, X_test, y_train, y_test = train_test_split(X, y, test_size=0.2, random_state=38)"
   ]
  },
  {
   "cell_type": "markdown",
   "metadata": {},
   "source": [
    "Random Forest - Sklearn Library"
   ]
  },
  {
   "cell_type": "code",
   "execution_count": 5,
   "metadata": {},
   "outputs": [
    {
     "name": "stdout",
     "output_type": "stream",
     "text": [
      "Model Accuracy: 0.8846\n"
     ]
    }
   ],
   "source": [
    "# Initialize and train the Random Forest model\n",
    "rf_model = RandomForestClassifier(n_estimators=100, random_state=38)\n",
    "rf_model.fit(X_train, y_train)\n",
    "\n",
    "# Make predictions\n",
    "y_pred = rf_model.predict(X_test)\n",
    "\n",
    "# Evaluate the model\n",
    "accuracy = accuracy_score(y_test, y_pred)\n",
    "print(f\"Model Accuracy: {accuracy:.4f}\")\n"
   ]
  },
  {
   "cell_type": "code",
   "execution_count": 6,
   "metadata": {},
   "outputs": [
    {
     "name": "stdout",
     "output_type": "stream",
     "text": [
      "Accuracy: 0.88\n",
      "              precision    recall  f1-score   support\n",
      "\n",
      "           0       1.00      0.40      0.57        20\n",
      "           1       0.88      1.00      0.93        84\n",
      "\n",
      "    accuracy                           0.88       104\n",
      "   macro avg       0.94      0.70      0.75       104\n",
      "weighted avg       0.90      0.88      0.86       104\n",
      "\n"
     ]
    }
   ],
   "source": [
    "# Evaluation\n",
    "print(f\"Accuracy: {accuracy_score(y_test, y_pred):.2f}\")\n",
    "print(classification_report(y_test, y_pred))"
   ]
  },
  {
   "cell_type": "code",
   "execution_count": 7,
   "metadata": {},
   "outputs": [
    {
     "data": {
      "text/plain": [
       "(array([0.5, 1.5]), [Text(0, 0.5, '0'), Text(0, 1.5, '1')])"
      ]
     },
     "execution_count": 7,
     "metadata": {},
     "output_type": "execute_result"
    },
    {
     "data": {
      "image/png": "[encoded data removed]",
      "text/plain": [
       "<Figure size 700x600 with 2 Axes>"
      ]
     },
     "metadata": {},
     "output_type": "display_data"
    }
   ],
   "source": [
    "cm = confusion_matrix(y_test, y_pred)\n",
    "# Plot Confusion Matrix\n",
    "plt.figure(figsize=(7,6))  # Increase figure size\n",
    "ax = sns.heatmap(cm, annot=True, fmt='.0f', cmap='Blues', \n",
    "                 linewidths=1.5, linecolor='black', \n",
    "                 annot_kws={\"size\": 14})  # Adjust annotation size\n",
    "\n",
    "plt.xlabel(\"Predicted Label\", fontsize=14)\n",
    "plt.ylabel(\"True Label\", fontsize=14)\n",
    "plt.title(\"Confusion Matrix - Random Forest\", fontsize=16)\n",
    "plt.xticks(fontsize=12)\n",
    "plt.yticks(fontsize=12)"
   ]
  },
  {
   "cell_type": "code",
   "execution_count": 8,
   "metadata": {},
   "outputs": [
    {
     "name": "stdout",
     "output_type": "stream",
     "text": [
      "Sensitivity: 1.0000\n",
      "Specificity: 0.4000\n"
     ]
    }
   ],
   "source": [
    "# Extract TP, TN, FP, FN\n",
    "TN, FP, FN, TP = cm.ravel()\n",
    "\n",
    "# Compute Sensitivity & Specificity\n",
    "sensitivity = TP / (TP + FN)\n",
    "specificity = TN / (TN + FP)\n",
    "\n",
    "print(f\"Sensitivity: {sensitivity:.4f}\")\n",
    "print(f\"Specificity: {specificity:.4f}\")"
   ]
  },
  {
   "cell_type": "code",
   "execution_count": 9,
   "metadata": {},
   "outputs": [
    {
     "data": {
      "image/png": "[encoded data removed]",
      "text/plain": [
       "<Figure size 640x480 with 1 Axes>"
      ]
     },
     "metadata": {},
     "output_type": "display_data"
    }
   ],
   "source": [
    "# ROC Curve\n",
    "fpr, tpr, _ = roc_curve(y_test, y_pred)\n",
    "roc_auc = auc(fpr, tpr)\n",
    "plt.plot(fpr, tpr, label=f\"AUC = {roc_auc:.2f}\")\n",
    "plt.plot([0,1], [0,1], linestyle='--', color='gray')\n",
    "plt.xlabel(\"False Positive Rate\")\n",
    "plt.ylabel(\"True Positive Rate\")\n",
    "plt.title(\"ROC Curve - Random Forest\")\n",
    "plt.legend()\n",
    "plt.show()"
   ]
  },
  {
   "cell_type": "markdown",
   "metadata": {},
   "source": [
    "**Balanced Binary** "
   ]
  },
  {
   "cell_type": "code",
   "execution_count": null,
   "metadata": {},
   "outputs": [
    {
     "data": {
      "text/html": [
       "<div>\n",
       "<style scoped>\n",
       "    .dataframe tbody tr th:only-of-type {\n",
       "        vertical-align: middle;\n",
       "    }\n",
       "\n",
       "    .dataframe tbody tr th {\n",
       "        vertical-align: top;\n",
       "    }\n",
       "\n",
       "    .dataframe thead th {\n",
       "        text-align: right;\n",
       "    }\n",
       "</style>\n",
       "<table border=\"1\" class=\"dataframe\">\n",
       "  <thead>\n",
       "    <tr style=\"text-align: right;\">\n",
       "      <th></th>\n",
       "      <th>Feature1</th>\n",
       "      <th>Feature2</th>\n",
       "      <th>Feature3</th>\n",
       "      <th>Feature4</th>\n",
       "      <th>Feature5</th>\n",
       "      <th>Feature6</th>\n",
       "      <th>Feature7</th>\n",
       "      <th>Feature8</th>\n",
       "      <th>Feature9</th>\n",
       "      <th>Feature10</th>\n",
       "      <th>...</th>\n",
       "      <th>Feature21</th>\n",
       "      <th>Feature22</th>\n",
       "      <th>Feature23</th>\n",
       "      <th>Feature24</th>\n",
       "      <th>Feature25</th>\n",
       "      <th>Feature26</th>\n",
       "      <th>Feature27</th>\n",
       "      <th>Feature28</th>\n",
       "      <th>Feature29</th>\n",
       "      <th>target</th>\n",
       "    </tr>\n",
       "  </thead>\n",
       "  <tbody>\n",
       "    <tr>\n",
       "      <th>0</th>\n",
       "      <td>1.942833</td>\n",
       "      <td>1.793557</td>\n",
       "      <td>-6.121474</td>\n",
       "      <td>-1.031132</td>\n",
       "      <td>0.487107</td>\n",
       "      <td>-0.346116</td>\n",
       "      <td>0.242493</td>\n",
       "      <td>-0.255091</td>\n",
       "      <td>-1.933793</td>\n",
       "      <td>0.456129</td>\n",
       "      <td>...</td>\n",
       "      <td>0.021294</td>\n",
       "      <td>-0.876791</td>\n",
       "      <td>-2.804382</td>\n",
       "      <td>-0.772752</td>\n",
       "      <td>0.902250</td>\n",
       "      <td>-0.283821</td>\n",
       "      <td>1.158110</td>\n",
       "      <td>-0.703144</td>\n",
       "      <td>-1.142507</td>\n",
       "      <td>1</td>\n",
       "    </tr>\n",
       "    <tr>\n",
       "      <th>1</th>\n",
       "      <td>-0.498266</td>\n",
       "      <td>4.290355</td>\n",
       "      <td>0.924083</td>\n",
       "      <td>-1.281493</td>\n",
       "      <td>8.153378</td>\n",
       "      <td>-2.302476</td>\n",
       "      <td>0.615296</td>\n",
       "      <td>-3.871441</td>\n",
       "      <td>1.491185</td>\n",
       "      <td>3.666561</td>\n",
       "      <td>...</td>\n",
       "      <td>-0.030226</td>\n",
       "      <td>1.076776</td>\n",
       "      <td>-1.426662</td>\n",
       "      <td>0.743057</td>\n",
       "      <td>0.212868</td>\n",
       "      <td>1.043947</td>\n",
       "      <td>0.948273</td>\n",
       "      <td>0.706128</td>\n",
       "      <td>-0.491125</td>\n",
       "      <td>1</td>\n",
       "    </tr>\n",
       "    <tr>\n",
       "      <th>2</th>\n",
       "      <td>-1.027512</td>\n",
       "      <td>3.363755</td>\n",
       "      <td>1.828574</td>\n",
       "      <td>-0.495802</td>\n",
       "      <td>7.458820</td>\n",
       "      <td>-2.484852</td>\n",
       "      <td>0.378415</td>\n",
       "      <td>-2.248700</td>\n",
       "      <td>-1.301424</td>\n",
       "      <td>4.136351</td>\n",
       "      <td>...</td>\n",
       "      <td>0.472101</td>\n",
       "      <td>1.206932</td>\n",
       "      <td>-0.923404</td>\n",
       "      <td>0.566657</td>\n",
       "      <td>0.293071</td>\n",
       "      <td>-0.145078</td>\n",
       "      <td>1.759649</td>\n",
       "      <td>0.516351</td>\n",
       "      <td>0.492429</td>\n",
       "      <td>1</td>\n",
       "    </tr>\n",
       "    <tr>\n",
       "      <th>3</th>\n",
       "      <td>2.736756</td>\n",
       "      <td>-2.241731</td>\n",
       "      <td>0.404660</td>\n",
       "      <td>-0.167861</td>\n",
       "      <td>-0.125442</td>\n",
       "      <td>0.496706</td>\n",
       "      <td>1.664382</td>\n",
       "      <td>-1.271026</td>\n",
       "      <td>0.213782</td>\n",
       "      <td>0.962099</td>\n",
       "      <td>...</td>\n",
       "      <td>-1.376614</td>\n",
       "      <td>-0.559114</td>\n",
       "      <td>-0.335620</td>\n",
       "      <td>0.088591</td>\n",
       "      <td>0.080121</td>\n",
       "      <td>-0.085828</td>\n",
       "      <td>0.038390</td>\n",
       "      <td>-0.096909</td>\n",
       "      <td>-0.426436</td>\n",
       "      <td>1</td>\n",
       "    </tr>\n",
       "    <tr>\n",
       "      <th>4</th>\n",
       "      <td>0.685796</td>\n",
       "      <td>0.223385</td>\n",
       "      <td>-2.080131</td>\n",
       "      <td>-0.011414</td>\n",
       "      <td>4.090118</td>\n",
       "      <td>0.650177</td>\n",
       "      <td>2.411078</td>\n",
       "      <td>2.637664</td>\n",
       "      <td>-1.594057</td>\n",
       "      <td>0.283371</td>\n",
       "      <td>...</td>\n",
       "      <td>0.540901</td>\n",
       "      <td>0.354731</td>\n",
       "      <td>-0.933172</td>\n",
       "      <td>-0.888606</td>\n",
       "      <td>0.902017</td>\n",
       "      <td>0.506791</td>\n",
       "      <td>0.640292</td>\n",
       "      <td>0.129010</td>\n",
       "      <td>0.092228</td>\n",
       "      <td>1</td>\n",
       "    </tr>\n",
       "  </tbody>\n",
       "</table>\n",
       "<p>5 rows × 30 columns</p>\n",
       "</div>"
      ],
      "text/plain": [
       "   Feature1  Feature2  Feature3  Feature4  Feature5  Feature6  Feature7  \\\n",
       "0  1.942833  1.793557 -6.121474 -1.031132  0.487107 -0.346116  0.242493   \n",
       "1 -0.498266  4.290355  0.924083 -1.281493  8.153378 -2.302476  0.615296   \n",
       "2 -1.027512  3.363755  1.828574 -0.495802  7.458820 -2.484852  0.378415   \n",
       "3  2.736756 -2.241731  0.404660 -0.167861 -0.125442  0.496706  1.664382   \n",
       "4  0.685796  0.223385 -2.080131 -0.011414  4.090118  0.650177  2.411078   \n",
       "\n",
       "   Feature8  Feature9  Feature10  ...  Feature21  Feature22  Feature23  \\\n",
       "0 -0.255091 -1.933793   0.456129  ...   0.021294  -0.876791  -2.804382   \n",
       "1 -3.871441  1.491185   3.666561  ...  -0.030226   1.076776  -1.426662   \n",
       "2 -2.248700 -1.301424   4.136351  ...   0.472101   1.206932  -0.923404   \n",
       "3 -1.271026  0.213782   0.962099  ...  -1.376614  -0.559114  -0.335620   \n",
       "4  2.637664 -1.594057   0.283371  ...   0.540901   0.354731  -0.933172   \n",
       "\n",
       "   Feature24  Feature25  Feature26  Feature27  Feature28  Feature29  target  \n",
       "0  -0.772752   0.902250  -0.283821   1.158110  -0.703144  -1.142507       1  \n",
       "1   0.743057   0.212868   1.043947   0.948273   0.706128  -0.491125       1  \n",
       "2   0.566657   0.293071  -0.145078   1.759649   0.516351   0.492429       1  \n",
       "3   0.088591   0.080121  -0.085828   0.038390  -0.096909  -0.426436       1  \n",
       "4  -0.888606   0.902017   0.506791   0.640292   0.129010   0.092228       1  \n",
       "\n",
       "[5 rows x 30 columns]"
      ]
     },
     "execution_count": 10,
     "metadata": {},
     "output_type": "execute_result"
    }
   ],
   "source": [
    "# Load dataset\n",
    "df = pd.read_csv(\"../Datasets/Balanced_Binary.csv\")\n",
    "df.head()"
   ]
  },
  {
   "cell_type": "code",
   "execution_count": 11,
   "metadata": {},
   "outputs": [],
   "source": [
    "# Splitting features and target\n",
    "X = df.drop(columns=['target'])  # Replace 'target' with actual target column name\n",
    "y = df['target']"
   ]
  },
  {
   "cell_type": "code",
   "execution_count": 12,
   "metadata": {},
   "outputs": [],
   "source": [
    "# Train-test split\n",
    "X_train, X_test, y_train, y_test = train_test_split(X, y, test_size=0.2, random_state=38)"
   ]
  },
  {
   "cell_type": "code",
   "execution_count": 13,
   "metadata": {},
   "outputs": [
    {
     "name": "stdout",
     "output_type": "stream",
     "text": [
      "Model Accuracy: 0.9714\n"
     ]
    }
   ],
   "source": [
    "# Initialize and train the Random Forest model\n",
    "rf_model = RandomForestClassifier(n_estimators=100, random_state=38)\n",
    "rf_model.fit(X_train, y_train)\n",
    "\n",
    "# Make predictions\n",
    "y_pred = rf_model.predict(X_test)\n",
    "\n",
    "# Evaluate the model\n",
    "accuracy = accuracy_score(y_test, y_pred)\n",
    "print(f\"Model Accuracy: {accuracy:.4f}\")\n"
   ]
  },
  {
   "cell_type": "code",
   "execution_count": 14,
   "metadata": {},
   "outputs": [
    {
     "name": "stdout",
     "output_type": "stream",
     "text": [
      "Accuracy: 0.97\n",
      "              precision    recall  f1-score   support\n",
      "\n",
      "           0       0.98      0.97      0.97        90\n",
      "           1       0.97      0.98      0.97        85\n",
      "\n",
      "    accuracy                           0.97       175\n",
      "   macro avg       0.97      0.97      0.97       175\n",
      "weighted avg       0.97      0.97      0.97       175\n",
      "\n"
     ]
    }
   ],
   "source": [
    "# Evaluation\n",
    "print(f\"Accuracy: {accuracy_score(y_test, y_pred):.2f}\")\n",
    "print(classification_report(y_test, y_pred))"
   ]
  },
  {
   "cell_type": "code",
   "execution_count": 15,
   "metadata": {},
   "outputs": [
    {
     "data": {
      "text/plain": [
       "(array([0.5, 1.5]), [Text(0, 0.5, '0'), Text(0, 1.5, '1')])"
      ]
     },
     "execution_count": 15,
     "metadata": {},
     "output_type": "execute_result"
    },
    {
     "data": {
      "image/png": "[encoded data removed]",
      "text/plain": [
       "<Figure size 700x600 with 2 Axes>"
      ]
     },
     "metadata": {},
     "output_type": "display_data"
    }
   ],
   "source": [
    "cm = confusion_matrix(y_test, y_pred)\n",
    "# Plot Confusion Matrix\n",
    "plt.figure(figsize=(7,6))  # Increase figure size\n",
    "ax = sns.heatmap(cm, annot=True, fmt='.0f', cmap='Blues', \n",
    "                 linewidths=1.5, linecolor='black', \n",
    "                 annot_kws={\"size\": 14})  # Adjust annotation size\n",
    "\n",
    "plt.xlabel(\"Predicted Label\", fontsize=14)\n",
    "plt.ylabel(\"True Label\", fontsize=14)\n",
    "plt.title(\"Confusion Matrix - Random Forest\", fontsize=16)\n",
    "plt.xticks(fontsize=12)\n",
    "plt.yticks(fontsize=12)"
   ]
  },
  {
   "cell_type": "code",
   "execution_count": 16,
   "metadata": {},
   "outputs": [
    {
     "name": "stdout",
     "output_type": "stream",
     "text": [
      "Sensitivity: 0.9765\n",
      "Specificity: 0.9667\n"
     ]
    }
   ],
   "source": [
    "# Extract TP, TN, FP, FN\n",
    "TN, FP, FN, TP = cm.ravel()\n",
    "\n",
    "# Compute Sensitivity & Specificity\n",
    "sensitivity = TP / (TP + FN)\n",
    "specificity = TN / (TN + FP)\n",
    "\n",
    "print(f\"Sensitivity: {sensitivity:.4f}\")\n",
    "print(f\"Specificity: {specificity:.4f}\")"
   ]
  },
  {
   "cell_type": "code",
   "execution_count": 17,
   "metadata": {},
   "outputs": [
    {
     "data": {
      "image/png": "[encoded data removed]",
      "text/plain": [
       "<Figure size 640x480 with 1 Axes>"
      ]
     },
     "metadata": {},
     "output_type": "display_data"
    }
   ],
   "source": [
    "# ROC Curve\n",
    "fpr, tpr, _ = roc_curve(y_test, y_pred)\n",
    "roc_auc = auc(fpr, tpr)\n",
    "plt.plot(fpr, tpr, label=f\"AUC = {roc_auc:.2f}\")\n",
    "plt.plot([0,1], [0,1], linestyle='--', color='gray')\n",
    "plt.xlabel(\"False Positive Rate\")\n",
    "plt.ylabel(\"True Positive Rate\")\n",
    "plt.title(\"ROC Curve - Random Forest\")\n",
    "plt.legend()\n",
    "plt.show()"
   ]
  },
  {
   "cell_type": "code",
   "execution_count": null,
   "metadata": {},
   "outputs": [],
   "source": []
  }
 ],
 "metadata": {
  "kernelspec": {
   "display_name": "Python 3",
   "language": "python",
   "name": "python3"
  },
  "language_info": {
   "codemirror_mode": {
    "name": "ipython",
    "version": 3
   },
   "file_extension": ".py",
   "mimetype": "text/x-python",
   "name": "python",
   "nbconvert_exporter": "python",
   "pygments_lexer": "ipython3",
   "version": "3.10.11"
  }
 },
 "nbformat": 4,
 "nbformat_minor": 2
}
