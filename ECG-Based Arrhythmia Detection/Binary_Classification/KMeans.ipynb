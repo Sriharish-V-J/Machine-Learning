{
 "cells": [
  {
   "cell_type": "code",
   "execution_count": 98,
   "metadata": {},
   "outputs": [],
   "source": [
    "import pandas as pd\n",
    "import matplotlib.pyplot as plt\n",
    "import seaborn as sns\n",
    "from sklearn.model_selection import train_test_split\n",
    "from sklearn.preprocessing import StandardScaler\n",
    "from sklearn.cluster import KMeans\n",
    "from sklearn.metrics import accuracy_score, confusion_matrix, roc_curve, auc, classification_report\n",
    "import numpy as np"
   ]
  },
  {
   "cell_type": "code",
   "execution_count": 99,
   "metadata": {},
   "outputs": [],
   "source": [
    "# Set random seed for reproducibility\n",
    "np.random.seed(42)  # <-- Added random seed"
   ]
  },
  {
   "cell_type": "markdown",
   "metadata": {},
   "source": [
    "UNBALANCED DATASET"
   ]
  },
  {
   "cell_type": "code",
   "execution_count": 100,
   "metadata": {},
   "outputs": [
    {
     "data": {
      "text/html": [
       "<div>\n",
       "<style scoped>\n",
       "    .dataframe tbody tr th:only-of-type {\n",
       "        vertical-align: middle;\n",
       "    }\n",
       "\n",
       "    .dataframe tbody tr th {\n",
       "        vertical-align: top;\n",
       "    }\n",
       "\n",
       "    .dataframe thead th {\n",
       "        text-align: right;\n",
       "    }\n",
       "</style>\n",
       "<table border=\"1\" class=\"dataframe\">\n",
       "  <thead>\n",
       "    <tr style=\"text-align: right;\">\n",
       "      <th></th>\n",
       "      <th>Feature1</th>\n",
       "      <th>Feature2</th>\n",
       "      <th>Feature3</th>\n",
       "      <th>Feature4</th>\n",
       "      <th>Feature5</th>\n",
       "      <th>Feature6</th>\n",
       "      <th>Feature7</th>\n",
       "      <th>Feature8</th>\n",
       "      <th>Feature9</th>\n",
       "      <th>Feature10</th>\n",
       "      <th>...</th>\n",
       "      <th>Feature21</th>\n",
       "      <th>Feature22</th>\n",
       "      <th>Feature23</th>\n",
       "      <th>Feature24</th>\n",
       "      <th>Feature25</th>\n",
       "      <th>Feature26</th>\n",
       "      <th>Feature27</th>\n",
       "      <th>Feature28</th>\n",
       "      <th>Feature29</th>\n",
       "      <th>target</th>\n",
       "    </tr>\n",
       "  </thead>\n",
       "  <tbody>\n",
       "    <tr>\n",
       "      <th>0</th>\n",
       "      <td>-1.944044</td>\n",
       "      <td>1.891310</td>\n",
       "      <td>5.378017</td>\n",
       "      <td>-1.099764</td>\n",
       "      <td>0.319998</td>\n",
       "      <td>-0.107990</td>\n",
       "      <td>0.192998</td>\n",
       "      <td>-0.531588</td>\n",
       "      <td>-1.978358</td>\n",
       "      <td>0.505306</td>\n",
       "      <td>...</td>\n",
       "      <td>0.435838</td>\n",
       "      <td>-0.375777</td>\n",
       "      <td>-2.410484</td>\n",
       "      <td>1.307302</td>\n",
       "      <td>-0.447091</td>\n",
       "      <td>-1.205613</td>\n",
       "      <td>-0.758668</td>\n",
       "      <td>-1.115528</td>\n",
       "      <td>1.219782</td>\n",
       "      <td>1</td>\n",
       "    </tr>\n",
       "    <tr>\n",
       "      <th>1</th>\n",
       "      <td>0.548890</td>\n",
       "      <td>3.689146</td>\n",
       "      <td>-1.079215</td>\n",
       "      <td>-1.125497</td>\n",
       "      <td>6.892610</td>\n",
       "      <td>-0.114086</td>\n",
       "      <td>-0.129833</td>\n",
       "      <td>-4.471123</td>\n",
       "      <td>1.281707</td>\n",
       "      <td>2.509007</td>\n",
       "      <td>...</td>\n",
       "      <td>-0.515136</td>\n",
       "      <td>-1.814937</td>\n",
       "      <td>-0.659753</td>\n",
       "      <td>0.092014</td>\n",
       "      <td>1.173449</td>\n",
       "      <td>-0.887015</td>\n",
       "      <td>-0.657684</td>\n",
       "      <td>0.676340</td>\n",
       "      <td>0.379053</td>\n",
       "      <td>1</td>\n",
       "    </tr>\n",
       "    <tr>\n",
       "      <th>2</th>\n",
       "      <td>1.044743</td>\n",
       "      <td>2.804073</td>\n",
       "      <td>-1.779122</td>\n",
       "      <td>-0.358211</td>\n",
       "      <td>6.132624</td>\n",
       "      <td>-1.309396</td>\n",
       "      <td>-0.731316</td>\n",
       "      <td>-3.381683</td>\n",
       "      <td>-1.444734</td>\n",
       "      <td>3.028355</td>\n",
       "      <td>...</td>\n",
       "      <td>-0.928873</td>\n",
       "      <td>-1.592203</td>\n",
       "      <td>-0.389953</td>\n",
       "      <td>0.343527</td>\n",
       "      <td>0.740160</td>\n",
       "      <td>-0.244341</td>\n",
       "      <td>-1.337129</td>\n",
       "      <td>-0.168281</td>\n",
       "      <td>-0.464880</td>\n",
       "      <td>1</td>\n",
       "    </tr>\n",
       "    <tr>\n",
       "      <th>3</th>\n",
       "      <td>-2.848743</td>\n",
       "      <td>-2.220174</td>\n",
       "      <td>-0.498797</td>\n",
       "      <td>-0.054547</td>\n",
       "      <td>0.073406</td>\n",
       "      <td>0.927517</td>\n",
       "      <td>1.891807</td>\n",
       "      <td>-0.381548</td>\n",
       "      <td>0.017551</td>\n",
       "      <td>0.659493</td>\n",
       "      <td>...</td>\n",
       "      <td>0.662054</td>\n",
       "      <td>0.671306</td>\n",
       "      <td>-0.463003</td>\n",
       "      <td>-0.170516</td>\n",
       "      <td>0.249816</td>\n",
       "      <td>0.019505</td>\n",
       "      <td>-0.380889</td>\n",
       "      <td>-0.222127</td>\n",
       "      <td>0.364851</td>\n",
       "      <td>1</td>\n",
       "    </tr>\n",
       "    <tr>\n",
       "      <th>4</th>\n",
       "      <td>-0.715628</td>\n",
       "      <td>0.217362</td>\n",
       "      <td>2.032461</td>\n",
       "      <td>-0.144826</td>\n",
       "      <td>4.375660</td>\n",
       "      <td>-1.762026</td>\n",
       "      <td>1.335940</td>\n",
       "      <td>1.742721</td>\n",
       "      <td>-1.771379</td>\n",
       "      <td>0.819612</td>\n",
       "      <td>...</td>\n",
       "      <td>-0.428352</td>\n",
       "      <td>-0.511074</td>\n",
       "      <td>-0.346423</td>\n",
       "      <td>0.137622</td>\n",
       "      <td>-0.289325</td>\n",
       "      <td>-1.089344</td>\n",
       "      <td>-0.407556</td>\n",
       "      <td>-0.007071</td>\n",
       "      <td>0.117600</td>\n",
       "      <td>1</td>\n",
       "    </tr>\n",
       "  </tbody>\n",
       "</table>\n",
       "<p>5 rows × 30 columns</p>\n",
       "</div>"
      ],
      "text/plain": [
       "   Feature1  Feature2  Feature3  Feature4  Feature5  Feature6  Feature7  \\\n",
       "0 -1.944044  1.891310  5.378017 -1.099764  0.319998 -0.107990  0.192998   \n",
       "1  0.548890  3.689146 -1.079215 -1.125497  6.892610 -0.114086 -0.129833   \n",
       "2  1.044743  2.804073 -1.779122 -0.358211  6.132624 -1.309396 -0.731316   \n",
       "3 -2.848743 -2.220174 -0.498797 -0.054547  0.073406  0.927517  1.891807   \n",
       "4 -0.715628  0.217362  2.032461 -0.144826  4.375660 -1.762026  1.335940   \n",
       "\n",
       "   Feature8  Feature9  Feature10  ...  Feature21  Feature22  Feature23  \\\n",
       "0 -0.531588 -1.978358   0.505306  ...   0.435838  -0.375777  -2.410484   \n",
       "1 -4.471123  1.281707   2.509007  ...  -0.515136  -1.814937  -0.659753   \n",
       "2 -3.381683 -1.444734   3.028355  ...  -0.928873  -1.592203  -0.389953   \n",
       "3 -0.381548  0.017551   0.659493  ...   0.662054   0.671306  -0.463003   \n",
       "4  1.742721 -1.771379   0.819612  ...  -0.428352  -0.511074  -0.346423   \n",
       "\n",
       "   Feature24  Feature25  Feature26  Feature27  Feature28  Feature29  target  \n",
       "0   1.307302  -0.447091  -1.205613  -0.758668  -1.115528   1.219782       1  \n",
       "1   0.092014   1.173449  -0.887015  -0.657684   0.676340   0.379053       1  \n",
       "2   0.343527   0.740160  -0.244341  -1.337129  -0.168281  -0.464880       1  \n",
       "3  -0.170516   0.249816   0.019505  -0.380889  -0.222127   0.364851       1  \n",
       "4   0.137622  -0.289325  -1.089344  -0.407556  -0.007071   0.117600       1  \n",
       "\n",
       "[5 rows x 30 columns]"
      ]
     },
     "execution_count": 100,
     "metadata": {},
     "output_type": "execute_result"
    }
   ],
   "source": [
    "# Load dataset\n",
    "df = pd.read_csv(\"./Binary.csv\")\n",
    "df.head()"
   ]
  },
  {
   "cell_type": "code",
   "execution_count": 101,
   "metadata": {},
   "outputs": [
    {
     "data": {
      "text/plain": [
       "target\n",
       "1    464\n",
       "0     80\n",
       "Name: count, dtype: int64"
      ]
     },
     "execution_count": 101,
     "metadata": {},
     "output_type": "execute_result"
    }
   ],
   "source": [
    "df['target'].value_counts()"
   ]
  },
  {
   "cell_type": "code",
   "execution_count": 102,
   "metadata": {},
   "outputs": [],
   "source": [
    "# Splitting features and target\n",
    "X = df.drop(columns=['target'])\n",
    "y = df['target']"
   ]
  },
  {
   "cell_type": "code",
   "execution_count": 103,
   "metadata": {},
   "outputs": [],
   "source": [
    "# Train-test split\n",
    "X_train, X_test, y_train, y_test = train_test_split(X, y, test_size=0.2, random_state=42)"
   ]
  },
  {
   "cell_type": "code",
   "execution_count": 104,
   "metadata": {},
   "outputs": [],
   "source": [
    "# Standardizing features\n",
    "#scaler = StandardScaler()\n",
    "#X_train = scaler.fit_transform(X_train)\n",
    "#X_test = scaler.transform(X_test)"
   ]
  },
  {
   "cell_type": "code",
   "execution_count": 105,
   "metadata": {},
   "outputs": [
    {
     "name": "stdout",
     "output_type": "stream",
     "text": [
      "      Feature1  Feature2  Feature3  Feature4  Feature5  Feature6  Feature7  \\\n",
      "210  -0.461089  0.075409  1.888977 -0.484330  0.707574 -0.188558 -2.806557   \n",
      "185   5.210060 -3.111209  1.128084 -0.652360  2.044874 -1.574047  1.644005   \n",
      "370  11.243971  0.480778  0.270929 -0.710973  1.890476  1.498616 -3.016179   \n",
      "543  -1.522715 -0.470032  0.216200  0.189280  3.281084 -0.535764  0.675322   \n",
      "396   6.250068  7.194109 -4.892123  0.045739 -0.119997 -2.542205 -1.327247   \n",
      "..         ...       ...       ...       ...       ...       ...       ...   \n",
      "71    2.035770  2.914155 -4.494952  0.062381 -1.598468 -0.846123 -1.723795   \n",
      "106  -4.474164 -1.057187 -0.128397 -0.000579 -0.928599  0.743064 -0.191390   \n",
      "270   2.313735 -3.286137 -0.815655  0.106625 -0.320584 -0.741618  0.855343   \n",
      "435  -1.001063 -1.155005  1.358055  0.291555  2.218388  0.467883 -2.580336   \n",
      "102  -5.536224  0.952368 -0.309354 -0.009523  1.918022  0.726667  2.548353   \n",
      "\n",
      "     Feature8  Feature9  Feature10  ...  Feature20  Feature21  Feature22  \\\n",
      "210 -0.402190 -2.164370   0.039149  ...  -0.551732   0.830575   1.037350   \n",
      "185  0.480786 -0.356278  -0.781458  ...   0.561138   0.620252   0.241172   \n",
      "370 -1.266219  1.173300   0.240464  ...   0.926666   1.873860   0.151246   \n",
      "543  0.100142 -0.918287   1.219438  ...  -0.070380   0.036792   0.501107   \n",
      "396  2.973006 -3.403836   0.697731  ...  -1.378064  -0.244750   0.290358   \n",
      "..        ...       ...        ...  ...        ...        ...        ...   \n",
      "71  -0.628962 -0.902655  -0.432284  ...   0.598897  -0.079925  -0.425772   \n",
      "106  0.257644 -0.218590   1.315977  ...   0.642946  -0.185841  -0.551643   \n",
      "270 -0.088130 -0.522090   0.421569  ...   0.158544   0.148010  -0.372661   \n",
      "435  1.041048 -0.545045   1.769360  ...   1.044250  -1.009913  -0.164914   \n",
      "102  0.054465  1.150948   0.641307  ...  -1.156264  -0.931858   0.794209   \n",
      "\n",
      "     Feature23  Feature24  Feature25  Feature26  Feature27  Feature28  \\\n",
      "210  -0.250157  -0.147280  -0.632247   0.698160   0.232399   0.015600   \n",
      "185  -1.266408  -0.093251   0.375464  -1.712387   0.840264  -1.363336   \n",
      "370   0.896649  -0.966274  -0.593978   0.148974  -0.998913  -0.747642   \n",
      "543   0.166069   1.456497   0.139521  -0.626061  -1.094678  -0.763847   \n",
      "396   0.190792   1.350026   0.413594   0.836458   0.001763  -0.192240   \n",
      "..         ...        ...        ...        ...        ...        ...   \n",
      "71   -0.812511  -0.767437  -0.798403  -0.339211   0.118933  -0.002427   \n",
      "106   0.190151  -0.069646  -0.751788   0.000154   1.077379   0.177885   \n",
      "270   0.347053  -0.839362  -0.154389   0.337323   0.353605   0.099830   \n",
      "435  -0.845700   0.913228   0.250506   0.434257  -0.225684  -0.926513   \n",
      "102   1.223747  -0.769503  -0.363180   0.435495   0.199480   0.322515   \n",
      "\n",
      "     Feature29  \n",
      "210  -0.584104  \n",
      "185  -0.718886  \n",
      "370   0.201528  \n",
      "543  -0.865899  \n",
      "396  -1.141154  \n",
      "..         ...  \n",
      "71    0.106661  \n",
      "106   0.309669  \n",
      "270   0.377324  \n",
      "435  -0.939277  \n",
      "102  -0.831265  \n",
      "\n",
      "[435 rows x 29 columns]\n",
      "     Feature1  Feature2  Feature3  Feature4  Feature5  Feature6  Feature7  \\\n",
      "457 -2.694286 -0.638074  0.813849 -0.337964  0.139892  1.928842 -0.172252   \n",
      "257 -2.563034  0.116721  0.246748  0.428632 -1.143152 -0.463219  0.445888   \n",
      "357  1.131839 -0.057299  5.673428 -0.798674  0.988979  0.755829  1.578684   \n",
      "532  3.725955  5.804818 -2.143378 -0.394919 -2.830311 -0.405011 -0.802361   \n",
      "542 -0.555926 -1.293902  0.853252 -0.209530  1.266155  1.641207 -0.673541   \n",
      "..        ...       ...       ...       ...       ...       ...       ...   \n",
      "506  2.149169  5.001684 -4.175701  0.945360  1.949675 -0.580594  1.012163   \n",
      "278  1.342856 -2.399153  1.202685  0.228578 -0.817400  0.339315  1.409767   \n",
      "46  -2.347837 -0.141642 -1.550517  0.095466 -0.221995  0.550816 -1.255158   \n",
      "93  -6.636067  0.847840 -0.507348 -0.037624 -2.210341  0.210901 -0.056955   \n",
      "332 -3.588507  2.848224  4.334260 -0.366994  0.204747  0.105041 -2.769166   \n",
      "\n",
      "     Feature8  Feature9  Feature10  ...  Feature20  Feature21  Feature22  \\\n",
      "457 -0.333205  3.034318  -0.826050  ...  -0.892701  -0.557958  -0.164062   \n",
      "257 -1.614107 -1.975598  -0.794694  ...  -2.337744   0.776005  -0.679857   \n",
      "357 -0.445979  0.104645   0.653681  ...   2.079298   0.108069  -1.516685   \n",
      "532 -0.110443  0.127027   0.678301  ...   0.484149   0.434677  -0.305625   \n",
      "542 -0.229037  0.290973  -2.976010  ...   0.931152  -0.283745  -0.395657   \n",
      "..        ...       ...        ...  ...        ...        ...        ...   \n",
      "506  1.846146 -0.180185   0.559831  ...  -1.670595   0.006590  -1.473020   \n",
      "278 -0.404905  0.336863  -0.548639  ...  -0.586365  -0.880136   0.985401   \n",
      "46  -1.700402 -0.603652   0.798038  ...   0.392489   0.077851  -1.889604   \n",
      "93  -0.909389 -1.593507   0.610638  ...   0.399067   0.967175  -1.154549   \n",
      "332  1.046978 -0.579223  -0.683454  ...  -0.602630   0.430742  -0.694811   \n",
      "\n",
      "     Feature23  Feature24  Feature25  Feature26  Feature27  Feature28  \\\n",
      "457  -0.269106   0.182613   0.440751   0.280475  -0.094140  -0.224475   \n",
      "257   0.017648   0.289176   0.817466   0.367242  -0.850668  -0.490552   \n",
      "357   2.068753  -0.881586   0.278552   1.300130   0.322079  -0.729494   \n",
      "532   0.057237  -0.220020  -0.051138   0.476268  -0.550211  -0.642055   \n",
      "542   0.081419  -0.149491   1.161881   0.176575   0.008501  -0.023705   \n",
      "..         ...        ...        ...        ...        ...        ...   \n",
      "506   4.256166  -0.997958  -1.169247  -0.387724  -0.840747  -0.497766   \n",
      "278   0.114508   0.497391   0.001920   0.462050  -0.447571  -0.104500   \n",
      "46    1.839779  -0.207862  -0.607722  -0.402600   0.823800   0.631066   \n",
      "93    0.038484   1.672681  -0.919638  -1.164099  -0.067986   0.551596   \n",
      "332   0.304329   0.302650   0.208086  -0.295791  -0.130798  -0.554764   \n",
      "\n",
      "     Feature29  \n",
      "457   0.324665  \n",
      "257   0.354224  \n",
      "357  -0.835740  \n",
      "532   0.130349  \n",
      "542   0.631651  \n",
      "..         ...  \n",
      "506  -0.438863  \n",
      "278  -0.896227  \n",
      "46    0.814952  \n",
      "93    0.669546  \n",
      "332   0.714857  \n",
      "\n",
      "[109 rows x 29 columns]\n"
     ]
    }
   ],
   "source": [
    "print(X_train)\n",
    "print(X_test)"
   ]
  },
  {
   "cell_type": "markdown",
   "metadata": {},
   "source": [
    "KMeans - sklearn"
   ]
  },
  {
   "cell_type": "code",
   "execution_count": 106,
   "metadata": {},
   "outputs": [
    {
     "name": "stderr",
     "output_type": "stream",
     "text": [
      "c:\\Users\\rajit\\anaconda3\\envs\\ml_env\\lib\\site-packages\\sklearn\\cluster\\_kmeans.py:1419: UserWarning: KMeans is known to have a memory leak on Windows with MKL, when there are less chunks than available threads. You can avoid it by setting the environment variable OMP_NUM_THREADS=2.\n",
      "  warnings.warn(\n"
     ]
    },
    {
     "name": "stdout",
     "output_type": "stream",
     "text": [
      "Final Centroids: [[ 3.52442143 -0.60665474  0.12833647 -0.01104569 -0.20848902 -0.20975213\n",
      "   0.08849175  0.04836243 -0.01379837 -0.0588924   0.06793345 -0.05304744\n",
      "  -0.048981   -0.00590573  0.08483408  0.02480177 -0.05498668 -0.03358888\n",
      "   0.06938319 -0.00466599 -0.01899761  0.05530294 -0.01613436  0.02319395\n",
      "  -0.01360807 -0.0294634   0.01964017  0.03381459  0.0126604 ]\n",
      " [-3.0537729   0.28562698 -0.13902036  0.12010643  0.10665871  0.20634751\n",
      "  -0.17682922 -0.03630866 -0.01042675  0.07586021 -0.08232907  0.06697149\n",
      "   0.04296212 -0.02536317 -0.05238313 -0.02326053  0.0451878   0.02825553\n",
      "  -0.07480348 -0.0562765   0.05716916  0.02848228  0.04317732 -0.0066191\n",
      "   0.03169778  0.02906454  0.01048395 -0.01639777 -0.02318615]]\n",
      "Cluster Assignments: [1 1 0 0 1 1 1 1 1 0 1 0 1 0 1 0 0 0 1 1 1 0 1 0 1 1 1 1 1 0 1 1 1 0 1 1 0\n",
      " 0 0 0 0 1 1 1 0 0 0 1 1 1 0 1 1 0 0 0 1 0 0 1 1 1 0 1 0 1 1 1 0 0 1 0 1 1\n",
      " 1 0 0 0 0 1 1 0 1 1 1 1 0 0 1 1 0 1 1 1 1 0 1 0 0 1 0 1 1 1 0 0 1 1 1]\n",
      "\n",
      "Accuracy: 61.468%\n"
     ]
    }
   ],
   "source": [
    "#kmeans = KMeans(n_clusters=2, random_state=42)\n",
    "kmeans = KMeans(n_clusters=2, init='random', n_init=20, random_state=42)\n",
    "kmeans.fit(X_train)\n",
    "predictions = kmeans.predict(X_test)\n",
    "    \n",
    "# Adjust cluster labels to match ground truth\n",
    "if np.sum(predictions == y_test) < np.sum(predictions != y_test):\n",
    "    predictions = 1 - predictions  # Inverting labels if they are flipped\n",
    "    \n",
    "# Calculate accuracy\n",
    "accuracy = accuracy_score(y_test, predictions)\n",
    "    \n",
    "print(\"Final Centroids:\", kmeans.cluster_centers_)\n",
    "print(\"Cluster Assignments:\", predictions)\n",
    "print(f\"\\nAccuracy: {accuracy*100:.3f}%\")"
   ]
  },
  {
   "cell_type": "code",
   "execution_count": 107,
   "metadata": {},
   "outputs": [
    {
     "name": "stdout",
     "output_type": "stream",
     "text": [
      "              precision    recall  f1-score   support\n",
      "\n",
      "           0       0.20      0.60      0.30        15\n",
      "           1       0.91      0.62      0.73        94\n",
      "\n",
      "    accuracy                           0.61       109\n",
      "   macro avg       0.55      0.61      0.52       109\n",
      "weighted avg       0.81      0.61      0.67       109\n",
      "\n"
     ]
    }
   ],
   "source": [
    "print(classification_report(y_test, predictions))"
   ]
  },
  {
   "cell_type": "code",
   "execution_count": 108,
   "metadata": {},
   "outputs": [
    {
     "name": "stdout",
     "output_type": "stream",
     "text": [
      "Confusion Matrix: [[ 9  6]\n",
      " [36 58]]\n"
     ]
    },
    {
     "data": {
      "image/png": "[encoded data removed]",
      "text/plain": [
       "<Figure size 600x500 with 2 Axes>"
      ]
     },
     "metadata": {},
     "output_type": "display_data"
    }
   ],
   "source": [
    "# Compute confusion matrix\n",
    "cm = confusion_matrix(y_test, predictions)\n",
    "print(\"Confusion Matrix:\", cm)\n",
    "plt.figure(figsize=(6, 5))\n",
    "sns.heatmap(cm, annot=True, fmt=\"d\", cmap=\"Blues\", xticklabels=[\"Class 0\", \"Class 1\"], yticklabels=[\"Class 0\", \"Class 1\"])\n",
    "plt.xlabel(\"Predicted Label\")\n",
    "plt.ylabel(\"True Label\")\n",
    "plt.title(\"Confusion Matrix\")\n",
    "plt.show()"
   ]
  },
  {
   "cell_type": "code",
   "execution_count": 109,
   "metadata": {},
   "outputs": [
    {
     "name": "stdout",
     "output_type": "stream",
     "text": [
      "Sensitivity: 0.6170\n",
      "Specificity: 0.6000\n"
     ]
    }
   ],
   "source": [
    "# Extract TP, TN, FP, FN\n",
    "TN, FP, FN, TP = cm.ravel()\n",
    "\n",
    "# Compute Sensitivity & Specificity\n",
    "sensitivity = TP / (TP + FN)\n",
    "specificity = TN / (TN + FP)\n",
    "\n",
    "print(f\"Sensitivity: {sensitivity:.4f}\")\n",
    "print(f\"Specificity: {specificity:.4f}\")"
   ]
  },
  {
   "cell_type": "markdown",
   "metadata": {},
   "source": [
    "PROBABLITY PREDICTION METHOD"
   ]
  },
  {
   "cell_type": "code",
   "execution_count": 110,
   "metadata": {},
   "outputs": [
    {
     "data": {
      "text/plain": [
       "'\\n# Decision scores (distance differences) naturally align with K-means\\' geometry.\\n# Avoids artificial probability conversion, which could distort results.\\n\\n# Compute ROC curve\\ndef predict_proba(X):\\n    X_np = X.to_numpy()  # Convert DataFrame to NumPy array\\n    distances = np.linalg.norm(X_np[:, np.newaxis] - kmeans.cluster_centers_, axis=2)\\n    inverted_distances = 1 / (1 + distances)\\n    smoothed_probs = inverted_distances / inverted_distances.sum(axis=1, keepdims=True)\\n    return smoothed_probs[:, 1]  # Probability of belonging to cluster 1\\n\\n\\n# ROC Curve with more thresholds\\nsklearn_probs = predict_proba(X_test)\\nfpr, tpr, _ = roc_curve(y_test, sklearn_probs)\\nroc_auc = auc(fpr, tpr)\\n\\n# Interpolating to smoothen the curve\\nfrom scipy.interpolate import interp1d\\nx_smooth = np.linspace(0, 1, 500)  # Create finer points for smoothing\\nfpr_interpolator = interp1d(fpr, tpr, kind=\\'linear\\', fill_value=\"extrapolate\")\\ntpr_smooth = fpr_interpolator(x_smooth)\\n\\n# Plotting the smoothed ROC Curve\\nplt.plot(x_smooth, tpr_smooth, color=\\'blue\\', label=f\\'Smoothed ROC curve (area = {roc_auc:.2f})\\')\\nplt.plot([0, 1], [0, 1], color=\\'gray\\', linestyle=\\'--\\')\\nplt.xlabel(\\'False Positive Rate\\')\\nplt.ylabel(\\'True Positive Rate\\')\\nplt.title(\\'Smoothed Receiver Operating Characteristic (ROC) Curve\\')\\nplt.legend()\\nplt.grid(True)\\nplt.show()\"\\n'"
      ]
     },
     "execution_count": 110,
     "metadata": {},
     "output_type": "execute_result"
    }
   ],
   "source": [
    "\"\"\"\n",
    "# Decision scores (distance differences) naturally align with K-means' geometry.\n",
    "# Avoids artificial probability conversion, which could distort results.\n",
    "\n",
    "# Compute ROC curve\n",
    "def predict_proba(X):\n",
    "    X_np = X.to_numpy()  # Convert DataFrame to NumPy array\n",
    "    distances = np.linalg.norm(X_np[:, np.newaxis] - kmeans.cluster_centers_, axis=2)\n",
    "    inverted_distances = 1 / (1 + distances)\n",
    "    smoothed_probs = inverted_distances / inverted_distances.sum(axis=1, keepdims=True)\n",
    "    return smoothed_probs[:, 1]  # Probability of belonging to cluster 1\n",
    "\n",
    "\n",
    "# ROC Curve with more thresholds\n",
    "sklearn_probs = predict_proba(X_test)\n",
    "fpr, tpr, _ = roc_curve(y_test, sklearn_probs)\n",
    "roc_auc = auc(fpr, tpr)\n",
    "\n",
    "# Interpolating to smoothen the curve\n",
    "from scipy.interpolate import interp1d\n",
    "x_smooth = np.linspace(0, 1, 500)  # Create finer points for smoothing\n",
    "fpr_interpolator = interp1d(fpr, tpr, kind='linear', fill_value=\"extrapolate\")\n",
    "tpr_smooth = fpr_interpolator(x_smooth)\n",
    "\n",
    "# Plotting the smoothed ROC Curve\n",
    "plt.plot(x_smooth, tpr_smooth, color='blue', label=f'Smoothed ROC curve (area = {roc_auc:.2f})')\n",
    "plt.plot([0, 1], [0, 1], color='gray', linestyle='--')\n",
    "plt.xlabel('False Positive Rate')\n",
    "plt.ylabel('True Positive Rate')\n",
    "plt.title('Smoothed Receiver Operating Characteristic (ROC) Curve')\n",
    "plt.legend()\n",
    "plt.grid(True)\n",
    "plt.show()\"\n",
    "\"\"\"\n"
   ]
  },
  {
   "cell_type": "markdown",
   "metadata": {},
   "source": [
    "DECISION SCORES METHOD (distance)"
   ]
  },
  {
   "cell_type": "code",
   "execution_count": 111,
   "metadata": {},
   "outputs": [
    {
     "name": "stderr",
     "output_type": "stream",
     "text": [
      "c:\\Users\\rajit\\anaconda3\\envs\\ml_env\\lib\\site-packages\\scipy\\interpolate\\_interpolate.py:479: RuntimeWarning: divide by zero encountered in divide\n",
      "  slope = (y_hi - y_lo) / (x_hi - x_lo)[:, None]\n",
      "c:\\Users\\rajit\\anaconda3\\envs\\ml_env\\lib\\site-packages\\scipy\\interpolate\\_interpolate.py:482: RuntimeWarning: invalid value encountered in multiply\n",
      "  y_new = slope*(x_new - x_lo)[:, None] + y_lo\n"
     ]
    },
    {
     "data": {
      "image/png": "[encoded data removed]",
      "text/plain": [
       "<Figure size 800x600 with 1 Axes>"
      ]
     },
     "metadata": {},
     "output_type": "display_data"
    }
   ],
   "source": [
    "from scipy.interpolate import interp1d\n",
    "\n",
    "def decision_scores(X):\n",
    "    # Convert to numpy array if it's a DataFrame\n",
    "    if hasattr(X, 'to_numpy'):\n",
    "        X = X.to_numpy()\n",
    "    elif hasattr(X, 'values'):\n",
    "        X = X.values\n",
    "    \n",
    "    # Calculate distances to each cluster center\n",
    "    # Reshape X to (n_samples, 1, n_features) for broadcasting\n",
    "    X_reshaped = X.reshape(X.shape[0], 1, -1)\n",
    "    centers = kmeans.cluster_centers_.reshape(1, -1, X.shape[1])\n",
    "    \n",
    "    distances = np.linalg.norm(X_reshaped - centers, axis=2)\n",
    "    \n",
    "    # Return score as difference in distances\n",
    "    return distances[:, 0] - distances[:, 1]\n",
    "\n",
    "# Compute decision scores\n",
    "scores = decision_scores(X_test)\n",
    "\n",
    "# ROC Curve calculation\n",
    "fpr, tpr, thresholds = roc_curve(y_test, scores)\n",
    "roc_auc = auc(fpr, tpr)\n",
    "\n",
    "# Interpolating to smoothen the curve\n",
    "x_smooth = np.linspace(0, 1, 500)  # Create finer points for smoothing\n",
    "fpr_interpolator = interp1d(fpr, tpr, kind='linear', fill_value=\"extrapolate\")\n",
    "tpr_smooth = fpr_interpolator(x_smooth)\n",
    "\n",
    "# Plotting the smoothed ROC Curve\n",
    "plt.figure(figsize=(8, 6))\n",
    "plt.plot(x_smooth, tpr_smooth, color='blue', label=f'Smoothed ROC curve (area = {roc_auc:.2f})')\n",
    "plt.plot([0, 1], [0, 1], color='gray', linestyle='--', label='Random classifier')\n",
    "plt.xlabel('False Positive Rate')\n",
    "plt.ylabel('True Positive Rate')\n",
    "plt.title('ROC Curve Based on Cluster Distance Scores')\n",
    "plt.legend(loc='lower right')\n",
    "plt.grid(True)\n",
    "plt.show()"
   ]
  },
  {
   "cell_type": "markdown",
   "metadata": {},
   "source": [
    "KMeans - from Scratch"
   ]
  },
  {
   "cell_type": "code",
   "execution_count": 112,
   "metadata": {},
   "outputs": [],
   "source": [
    "class KMeans:\n",
    "    def __init__(self, n_clusters=2, max_iters=100, random_state=42):\n",
    "        self.n_clusters = n_clusters\n",
    "        self.max_iters = max_iters\n",
    "        self.random_state = random_state\n",
    "        self.centroids = None\n",
    "        self.labels_ = None\n",
    "        self.cluster_centers_ = None  # sklearn-compatible attribute\n",
    "\n",
    "    def fit(self, X):\n",
    "        X_np = X.to_numpy() if isinstance(X, pd.DataFrame) else X\n",
    "        np.random.seed(self.random_state)\n",
    "        self.centroids = X_np[np.random.choice(X_np.shape[0], self.n_clusters, replace=False)]\n",
    "        self.cluster_centers_ = self.centroids  # Align with sklearn interface\n",
    "        \n",
    "        for _ in range(self.max_iters):\n",
    "            distances = np.linalg.norm(X_np[:, np.newaxis] - self.centroids, axis=2)\n",
    "            self.labels_ = np.argmin(distances, axis=1)\n",
    "            \n",
    "            new_centroids = np.array([X_np[self.labels_ == i].mean(axis=0) for i in range(self.n_clusters)])\n",
    "            if np.all(self.centroids == new_centroids):\n",
    "                break\n",
    "            self.centroids = new_centroids\n",
    "            self.cluster_centers_ = self.centroids\n",
    "\n",
    "    def predict(self, X):\n",
    "        X_np = X.to_numpy() if isinstance(X, pd.DataFrame) else X\n",
    "        distances = np.linalg.norm(X_np[:, np.newaxis] - self.centroids, axis=2)\n",
    "        return np.argmin(distances, axis=1)"
   ]
  },
  {
   "cell_type": "code",
   "execution_count": 113,
   "metadata": {},
   "outputs": [
    {
     "name": "stdout",
     "output_type": "stream",
     "text": [
      "Clustering Accuracy: 61.468%\n"
     ]
    }
   ],
   "source": [
    "custom_kmeans = KMeans(n_clusters=2)\n",
    "custom_kmeans.fit(X_train)\n",
    "labels_train = custom_kmeans.labels_\n",
    "labels_test = custom_kmeans.predict(X_test)\n",
    "\n",
    "# Map cluster labels to actual target values\n",
    "if accuracy_score(y_train, labels_train) < 0.5:\n",
    "    labels_train = 1 - labels_train\n",
    "    labels_test = 1 - labels_test\n",
    "\n",
    "accuracy = accuracy_score(y_test, labels_test)\n",
    "print(f'Clustering Accuracy: {accuracy*100:.3f}%')"
   ]
  },
  {
   "cell_type": "code",
   "execution_count": 114,
   "metadata": {},
   "outputs": [
    {
     "name": "stdout",
     "output_type": "stream",
     "text": [
      "              precision    recall  f1-score   support\n",
      "\n",
      "           0       0.20      0.60      0.30        15\n",
      "           1       0.91      0.62      0.73        94\n",
      "\n",
      "    accuracy                           0.61       109\n",
      "   macro avg       0.55      0.61      0.52       109\n",
      "weighted avg       0.81      0.61      0.67       109\n",
      "\n"
     ]
    }
   ],
   "source": [
    "print(classification_report(y_test, labels_test))"
   ]
  },
  {
   "cell_type": "code",
   "execution_count": 115,
   "metadata": {},
   "outputs": [
    {
     "name": "stdout",
     "output_type": "stream",
     "text": [
      "Confusion Matrix:\n",
      " [[ 9  6]\n",
      " [36 58]]\n"
     ]
    },
    {
     "data": {
      "image/png": "[encoded data removed]",
      "text/plain": [
       "<Figure size 640x480 with 2 Axes>"
      ]
     },
     "metadata": {},
     "output_type": "display_data"
    }
   ],
   "source": [
    "# Confusion Matrix\n",
    "cm = confusion_matrix(y_test, labels_test)\n",
    "print(\"Confusion Matrix:\\n\", cm)\n",
    "\n",
    "#Heatmap\n",
    "sns.heatmap(cm, annot=True, fmt='d', cmap='Blues')\n",
    "plt.xlabel('Predicted')\n",
    "plt.ylabel('Actual')\n",
    "plt.title('Confusion Matrix')\n",
    "plt.show()\n",
    "\n"
   ]
  },
  {
   "cell_type": "code",
   "execution_count": 116,
   "metadata": {},
   "outputs": [
    {
     "name": "stdout",
     "output_type": "stream",
     "text": [
      "Sensitivity: 0.6170\n",
      "Specificity: 0.6000\n"
     ]
    }
   ],
   "source": [
    "# Extract TP, TN, FP, FN\n",
    "TN, FP, FN, TP = cm.ravel()\n",
    "\n",
    "# Compute Sensitivity & Specificity\n",
    "sensitivity = TP / (TP + FN)\n",
    "specificity = TN / (TN + FP)\n",
    "\n",
    "print(f\"Sensitivity: {sensitivity:.4f}\")\n",
    "print(f\"Specificity: {specificity:.4f}\")"
   ]
  },
  {
   "cell_type": "code",
   "execution_count": 117,
   "metadata": {},
   "outputs": [
    {
     "name": "stderr",
     "output_type": "stream",
     "text": [
      "c:\\Users\\rajit\\anaconda3\\envs\\ml_env\\lib\\site-packages\\scipy\\interpolate\\_interpolate.py:479: RuntimeWarning: divide by zero encountered in divide\n",
      "  slope = (y_hi - y_lo) / (x_hi - x_lo)[:, None]\n",
      "c:\\Users\\rajit\\anaconda3\\envs\\ml_env\\lib\\site-packages\\scipy\\interpolate\\_interpolate.py:482: RuntimeWarning: invalid value encountered in multiply\n",
      "  y_new = slope*(x_new - x_lo)[:, None] + y_lo\n"
     ]
    },
    {
     "data": {
      "image/png": "[encoded data removed]",
      "text/plain": [
       "<Figure size 800x600 with 1 Axes>"
      ]
     },
     "metadata": {},
     "output_type": "display_data"
    }
   ],
   "source": [
    "def decision_scores(X, kmeans_model):\n",
    "    # Convert to numpy array if needed\n",
    "    if hasattr(X, 'to_numpy'):\n",
    "        X = X.to_numpy()\n",
    "    elif hasattr(X, 'values'):\n",
    "        X = X.values\n",
    "    \n",
    "    # Calculate distances to each cluster center\n",
    "    distances = np.linalg.norm(X[:, np.newaxis] - kmeans_model.cluster_centers_, axis=2)\n",
    "    \n",
    "    # Return score as difference in distances\n",
    "    return distances[:, 1] - distances[:, 0]\n",
    "\n",
    "# Compute decision scores using our custom kmeans\n",
    "scores = decision_scores(X_test, custom_kmeans)\n",
    "\n",
    "# ROC Curve calculation\n",
    "fpr, tpr, thresholds = roc_curve(y_test, scores)\n",
    "roc_auc = auc(fpr, tpr)\n",
    "\n",
    "# Interpolating to smoothen the curve\n",
    "x_smooth = np.linspace(0, 1, 500)\n",
    "fpr_interpolator = interp1d(fpr, tpr, kind='linear', fill_value=\"extrapolate\")\n",
    "tpr_smooth = fpr_interpolator(x_smooth)\n",
    "\n",
    "# Plotting the smoothed ROC Curve\n",
    "plt.figure(figsize=(8, 6))\n",
    "plt.plot(x_smooth, tpr_smooth, color='blue', label=f'Smoothed ROC curve (area = {roc_auc:.2f})')\n",
    "plt.plot([0, 1], [0, 1], color='gray', linestyle='--', label='Random classifier')\n",
    "plt.xlabel('False Positive Rate')\n",
    "plt.ylabel('True Positive Rate')\n",
    "plt.title('ROC Curve Based on Cluster Distance Scores')\n",
    "plt.legend(loc='lower right')\n",
    "plt.grid(True)\n",
    "plt.show()"
   ]
  },
  {
   "cell_type": "markdown",
   "metadata": {},
   "source": [
    "KMEANS - BALANCED DATASET"
   ]
  },
  {
   "cell_type": "code",
   "execution_count": 118,
   "metadata": {},
   "outputs": [
    {
     "data": {
      "text/html": [
       "<div>\n",
       "<style scoped>\n",
       "    .dataframe tbody tr th:only-of-type {\n",
       "        vertical-align: middle;\n",
       "    }\n",
       "\n",
       "    .dataframe tbody tr th {\n",
       "        vertical-align: top;\n",
       "    }\n",
       "\n",
       "    .dataframe thead th {\n",
       "        text-align: right;\n",
       "    }\n",
       "</style>\n",
       "<table border=\"1\" class=\"dataframe\">\n",
       "  <thead>\n",
       "    <tr style=\"text-align: right;\">\n",
       "      <th></th>\n",
       "      <th>Feature1</th>\n",
       "      <th>Feature2</th>\n",
       "      <th>Feature3</th>\n",
       "      <th>Feature4</th>\n",
       "      <th>Feature5</th>\n",
       "      <th>Feature6</th>\n",
       "      <th>Feature7</th>\n",
       "      <th>Feature8</th>\n",
       "      <th>Feature9</th>\n",
       "      <th>Feature10</th>\n",
       "      <th>...</th>\n",
       "      <th>Feature21</th>\n",
       "      <th>Feature22</th>\n",
       "      <th>Feature23</th>\n",
       "      <th>Feature24</th>\n",
       "      <th>Feature25</th>\n",
       "      <th>Feature26</th>\n",
       "      <th>Feature27</th>\n",
       "      <th>Feature28</th>\n",
       "      <th>Feature29</th>\n",
       "      <th>target</th>\n",
       "    </tr>\n",
       "  </thead>\n",
       "  <tbody>\n",
       "    <tr>\n",
       "      <th>0</th>\n",
       "      <td>-1.944044</td>\n",
       "      <td>1.891310</td>\n",
       "      <td>5.378017</td>\n",
       "      <td>-1.099764</td>\n",
       "      <td>0.319998</td>\n",
       "      <td>-0.107990</td>\n",
       "      <td>0.192998</td>\n",
       "      <td>-0.531588</td>\n",
       "      <td>-1.978358</td>\n",
       "      <td>0.505306</td>\n",
       "      <td>...</td>\n",
       "      <td>0.435838</td>\n",
       "      <td>-0.375777</td>\n",
       "      <td>-2.410484</td>\n",
       "      <td>1.307302</td>\n",
       "      <td>-0.447091</td>\n",
       "      <td>-1.205613</td>\n",
       "      <td>-0.758668</td>\n",
       "      <td>-1.115528</td>\n",
       "      <td>1.219782</td>\n",
       "      <td>1</td>\n",
       "    </tr>\n",
       "    <tr>\n",
       "      <th>1</th>\n",
       "      <td>0.548890</td>\n",
       "      <td>3.689146</td>\n",
       "      <td>-1.079215</td>\n",
       "      <td>-1.125497</td>\n",
       "      <td>6.892610</td>\n",
       "      <td>-0.114086</td>\n",
       "      <td>-0.129833</td>\n",
       "      <td>-4.471123</td>\n",
       "      <td>1.281707</td>\n",
       "      <td>2.509007</td>\n",
       "      <td>...</td>\n",
       "      <td>-0.515136</td>\n",
       "      <td>-1.814937</td>\n",
       "      <td>-0.659753</td>\n",
       "      <td>0.092014</td>\n",
       "      <td>1.173449</td>\n",
       "      <td>-0.887015</td>\n",
       "      <td>-0.657684</td>\n",
       "      <td>0.676340</td>\n",
       "      <td>0.379053</td>\n",
       "      <td>1</td>\n",
       "    </tr>\n",
       "    <tr>\n",
       "      <th>2</th>\n",
       "      <td>1.044743</td>\n",
       "      <td>2.804073</td>\n",
       "      <td>-1.779122</td>\n",
       "      <td>-0.358211</td>\n",
       "      <td>6.132624</td>\n",
       "      <td>-1.309396</td>\n",
       "      <td>-0.731316</td>\n",
       "      <td>-3.381683</td>\n",
       "      <td>-1.444734</td>\n",
       "      <td>3.028355</td>\n",
       "      <td>...</td>\n",
       "      <td>-0.928873</td>\n",
       "      <td>-1.592203</td>\n",
       "      <td>-0.389953</td>\n",
       "      <td>0.343527</td>\n",
       "      <td>0.740160</td>\n",
       "      <td>-0.244341</td>\n",
       "      <td>-1.337129</td>\n",
       "      <td>-0.168281</td>\n",
       "      <td>-0.464880</td>\n",
       "      <td>1</td>\n",
       "    </tr>\n",
       "    <tr>\n",
       "      <th>3</th>\n",
       "      <td>-2.848743</td>\n",
       "      <td>-2.220174</td>\n",
       "      <td>-0.498797</td>\n",
       "      <td>-0.054547</td>\n",
       "      <td>0.073406</td>\n",
       "      <td>0.927517</td>\n",
       "      <td>1.891807</td>\n",
       "      <td>-0.381548</td>\n",
       "      <td>0.017551</td>\n",
       "      <td>0.659493</td>\n",
       "      <td>...</td>\n",
       "      <td>0.662054</td>\n",
       "      <td>0.671306</td>\n",
       "      <td>-0.463003</td>\n",
       "      <td>-0.170516</td>\n",
       "      <td>0.249816</td>\n",
       "      <td>0.019505</td>\n",
       "      <td>-0.380889</td>\n",
       "      <td>-0.222127</td>\n",
       "      <td>0.364851</td>\n",
       "      <td>1</td>\n",
       "    </tr>\n",
       "    <tr>\n",
       "      <th>4</th>\n",
       "      <td>-0.715628</td>\n",
       "      <td>0.217362</td>\n",
       "      <td>2.032461</td>\n",
       "      <td>-0.144826</td>\n",
       "      <td>4.375660</td>\n",
       "      <td>-1.762026</td>\n",
       "      <td>1.335940</td>\n",
       "      <td>1.742721</td>\n",
       "      <td>-1.771379</td>\n",
       "      <td>0.819612</td>\n",
       "      <td>...</td>\n",
       "      <td>-0.428352</td>\n",
       "      <td>-0.511074</td>\n",
       "      <td>-0.346423</td>\n",
       "      <td>0.137622</td>\n",
       "      <td>-0.289325</td>\n",
       "      <td>-1.089344</td>\n",
       "      <td>-0.407556</td>\n",
       "      <td>-0.007071</td>\n",
       "      <td>0.117600</td>\n",
       "      <td>1</td>\n",
       "    </tr>\n",
       "  </tbody>\n",
       "</table>\n",
       "<p>5 rows × 30 columns</p>\n",
       "</div>"
      ],
      "text/plain": [
       "   Feature1  Feature2  Feature3  Feature4  Feature5  Feature6  Feature7  \\\n",
       "0 -1.944044  1.891310  5.378017 -1.099764  0.319998 -0.107990  0.192998   \n",
       "1  0.548890  3.689146 -1.079215 -1.125497  6.892610 -0.114086 -0.129833   \n",
       "2  1.044743  2.804073 -1.779122 -0.358211  6.132624 -1.309396 -0.731316   \n",
       "3 -2.848743 -2.220174 -0.498797 -0.054547  0.073406  0.927517  1.891807   \n",
       "4 -0.715628  0.217362  2.032461 -0.144826  4.375660 -1.762026  1.335940   \n",
       "\n",
       "   Feature8  Feature9  Feature10  ...  Feature21  Feature22  Feature23  \\\n",
       "0 -0.531588 -1.978358   0.505306  ...   0.435838  -0.375777  -2.410484   \n",
       "1 -4.471123  1.281707   2.509007  ...  -0.515136  -1.814937  -0.659753   \n",
       "2 -3.381683 -1.444734   3.028355  ...  -0.928873  -1.592203  -0.389953   \n",
       "3 -0.381548  0.017551   0.659493  ...   0.662054   0.671306  -0.463003   \n",
       "4  1.742721 -1.771379   0.819612  ...  -0.428352  -0.511074  -0.346423   \n",
       "\n",
       "   Feature24  Feature25  Feature26  Feature27  Feature28  Feature29  target  \n",
       "0   1.307302  -0.447091  -1.205613  -0.758668  -1.115528   1.219782       1  \n",
       "1   0.092014   1.173449  -0.887015  -0.657684   0.676340   0.379053       1  \n",
       "2   0.343527   0.740160  -0.244341  -1.337129  -0.168281  -0.464880       1  \n",
       "3  -0.170516   0.249816   0.019505  -0.380889  -0.222127   0.364851       1  \n",
       "4   0.137622  -0.289325  -1.089344  -0.407556  -0.007071   0.117600       1  \n",
       "\n",
       "[5 rows x 30 columns]"
      ]
     },
     "execution_count": 118,
     "metadata": {},
     "output_type": "execute_result"
    }
   ],
   "source": [
    "# Load dataset\n",
    "df = pd.read_csv(\"./Balanced_binary.csv\")\n",
    "df.head()"
   ]
  },
  {
   "cell_type": "code",
   "execution_count": 119,
   "metadata": {},
   "outputs": [
    {
     "data": {
      "text/plain": [
       "target\n",
       "1    464\n",
       "0    464\n",
       "Name: count, dtype: int64"
      ]
     },
     "execution_count": 119,
     "metadata": {},
     "output_type": "execute_result"
    }
   ],
   "source": [
    "df['target'].value_counts()"
   ]
  },
  {
   "cell_type": "code",
   "execution_count": 120,
   "metadata": {},
   "outputs": [],
   "source": [
    "# Splitting features and target\n",
    "X = df.drop(columns=['target'])\n",
    "y = df['target']"
   ]
  },
  {
   "cell_type": "code",
   "execution_count": 121,
   "metadata": {},
   "outputs": [],
   "source": [
    "# Train-test split\n",
    "X_train, X_test, y_train, y_test = train_test_split(X, y, test_size=0.2, random_state=42)"
   ]
  },
  {
   "cell_type": "code",
   "execution_count": 122,
   "metadata": {},
   "outputs": [],
   "source": [
    "# Standardizing features\n",
    "scaler = StandardScaler()\n",
    "X_train = scaler.fit_transform(X_train)\n",
    "X_test = scaler.transform(X_test)"
   ]
  },
  {
   "cell_type": "code",
   "execution_count": 123,
   "metadata": {},
   "outputs": [
    {
     "name": "stdout",
     "output_type": "stream",
     "text": [
      "[[ 0.68849542 -0.95315145 -0.16740151 ...  0.68318117 -0.36435794\n",
      "   1.27627116]\n",
      " [ 0.58030264 -1.17601494 -0.81229414 ...  0.30387633 -0.58660424\n",
      "  -0.1630972 ]\n",
      " [-0.94307716  0.35010182  0.12862983 ...  1.82292931  0.77784769\n",
      "   2.53484136]\n",
      " ...\n",
      " [ 1.77692717 -0.47549267 -0.30204372 ...  1.37626884  0.23474257\n",
      "   0.52494556]\n",
      " [-0.41009467 -0.19391274  0.87137409 ... -0.43654333 -1.67326999\n",
      "  -1.80554611]\n",
      " [-1.6432712   0.69693775 -0.04794549 ...  0.24794627  0.65333098\n",
      "  -1.6063274 ]]\n",
      "[[ 1.25655235 -1.00535608 -0.82391299 ...  1.49282348 -0.15889228\n",
      "   0.72796434]\n",
      " [ 0.05241253 -0.47683577 -0.0305687  ... -0.50813044 -0.18563286\n",
      "   0.26415203]\n",
      " [ 0.90125    -1.22062033 -1.065326   ... -2.26655545 -0.73804516\n",
      "   1.10755668]\n",
      " ...\n",
      " [ 0.33247657 -0.47982525 -0.27500454 ...  0.46036858 -0.37108657\n",
      "   1.20588009]\n",
      " [ 0.0089916   3.20807748  2.29881405 ...  0.46556563  0.70705045\n",
      "   1.85735748]\n",
      " [ 1.09597379 -1.27392219 -0.69060007 ... -0.1372307   0.0037433\n",
      "   0.32169923]]\n"
     ]
    }
   ],
   "source": [
    "print(X_train)\n",
    "print(X_test)"
   ]
  },
  {
   "cell_type": "markdown",
   "metadata": {},
   "source": [
    "KMeans - sklearn"
   ]
  },
  {
   "cell_type": "code",
   "execution_count": 124,
   "metadata": {},
   "outputs": [
    {
     "name": "stderr",
     "output_type": "stream",
     "text": [
      "c:\\Users\\rajit\\anaconda3\\envs\\ml_env\\lib\\site-packages\\sklearn\\cluster\\_kmeans.py:1419: UserWarning: KMeans is known to have a memory leak on Windows with MKL, when there are less chunks than available threads. You can avoid it by setting the environment variable OMP_NUM_THREADS=3.\n",
      "  warnings.warn(\n"
     ]
    },
    {
     "name": "stdout",
     "output_type": "stream",
     "text": [
      "Final Centroids: [[ 3.52442143 -0.60665474  0.12833647 -0.01104569 -0.20848902 -0.20975213\n",
      "   0.08849175  0.04836243 -0.01379837 -0.0588924   0.06793345 -0.05304744\n",
      "  -0.048981   -0.00590573  0.08483408  0.02480177 -0.05498668 -0.03358888\n",
      "   0.06938319 -0.00466599 -0.01899761  0.05530294 -0.01613436  0.02319395\n",
      "  -0.01360807 -0.0294634   0.01964017  0.03381459  0.0126604 ]\n",
      " [-3.0537729   0.28562698 -0.13902036  0.12010643  0.10665871  0.20634751\n",
      "  -0.17682922 -0.03630866 -0.01042675  0.07586021 -0.08232907  0.06697149\n",
      "   0.04296212 -0.02536317 -0.05238313 -0.02326053  0.0451878   0.02825553\n",
      "  -0.07480348 -0.0562765   0.05716916  0.02848228  0.04317732 -0.0066191\n",
      "   0.03169778  0.02906454  0.01048395 -0.01639777 -0.02318615]]\n",
      "Cluster Assignments: [0 0 1 1 1 1 1 0 0 1 1 1 0 1 1 1 1 1 1 0 1 1 1 1 0 1 0 0 1 0 1 1 0 0 1 0 1\n",
      " 0 1 1 1 0 0 1 0 1 1 1 0 1 1 0 0 0 1 1 1 0 1 0 1 1 0 0 1 1 0 1 1 0 1 0 1 0\n",
      " 1 1 1 1 1 1 0 0 1 1 1 1 0 1 1 0 0 1 0 1 0 1 1 0 1 0 1 0 0 1 0 1 0 1 1 1 0\n",
      " 0 1 1 1 1 0 0 1 0 1 1 0 1 0 0 0 1 0 1 0 1 1 0 1 1 1 1 0 1 0 1 0 1 0 1 1 0\n",
      " 0 0 0 1 1 1 0 1 1 1 0 1 1 0 1 0 1 1 0 0 1 0 1 1 0 0 1 1 0 1 1 1 1 0 1 1 1\n",
      " 0]\n",
      "\n",
      "Accuracy: 84.946%\n"
     ]
    }
   ],
   "source": [
    "from sklearn.cluster import KMeans\n",
    "kmeans_balanced = KMeans(n_clusters=2, init='random', n_init=20, random_state=42)\n",
    "kmeans_balanced.fit(X_train)\n",
    "predictions = kmeans_balanced.predict(X_test)\n",
    "\n",
    "    \n",
    "# Adjust cluster labels to match ground truth\n",
    "if np.sum(predictions == y_test) < np.sum(predictions != y_test):\n",
    "    predictions = 1 - predictions  # Inverting labels if they are flipped\n",
    "    \n",
    "# Calculate accuracy\n",
    "accuracy = accuracy_score(y_test, predictions)\n",
    "    \n",
    "print(\"Final Centroids:\", kmeans.cluster_centers_)\n",
    "print(\"Cluster Assignments:\", predictions)\n",
    "print(f\"\\nAccuracy: {accuracy*100:.3f}%\")"
   ]
  },
  {
   "cell_type": "code",
   "execution_count": 125,
   "metadata": {},
   "outputs": [
    {
     "name": "stdout",
     "output_type": "stream",
     "text": [
      "              precision    recall  f1-score   support\n",
      "\n",
      "           0       0.92      0.76      0.83        90\n",
      "           1       0.80      0.94      0.87        96\n",
      "\n",
      "    accuracy                           0.85       186\n",
      "   macro avg       0.86      0.85      0.85       186\n",
      "weighted avg       0.86      0.85      0.85       186\n",
      "\n"
     ]
    }
   ],
   "source": [
    "print(classification_report(y_test, predictions))"
   ]
  },
  {
   "cell_type": "code",
   "execution_count": 126,
   "metadata": {},
   "outputs": [
    {
     "name": "stdout",
     "output_type": "stream",
     "text": [
      "Confusion Matrix: [[68 22]\n",
      " [ 6 90]]\n"
     ]
    },
    {
     "data": {
      "image/png": "[encoded data removed]",
      "text/plain": [
       "<Figure size 600x500 with 2 Axes>"
      ]
     },
     "metadata": {},
     "output_type": "display_data"
    }
   ],
   "source": [
    "# Compute confusion matrix\n",
    "cm = confusion_matrix(y_test, predictions)\n",
    "print(\"Confusion Matrix:\", cm)\n",
    "plt.figure(figsize=(6, 5))\n",
    "sns.heatmap(cm, annot=True, fmt=\"d\", cmap=\"Blues\", xticklabels=[\"Class 0\", \"Class 1\"], yticklabels=[\"Class 0\", \"Class 1\"])\n",
    "plt.xlabel(\"Predicted Label\")\n",
    "plt.ylabel(\"True Label\")\n",
    "plt.title(\"Confusion Matrix\")\n",
    "plt.show()"
   ]
  },
  {
   "cell_type": "code",
   "execution_count": 127,
   "metadata": {},
   "outputs": [
    {
     "name": "stdout",
     "output_type": "stream",
     "text": [
      "Sensitivity: 0.9375\n",
      "Specificity: 0.7556\n"
     ]
    }
   ],
   "source": [
    "# Extract TP, TN, FP, FN\n",
    "TN, FP, FN, TP = cm.ravel()\n",
    "\n",
    "# Compute Sensitivity & Specificity\n",
    "sensitivity = TP / (TP + FN)\n",
    "specificity = TN / (TN + FP)\n",
    "\n",
    "print(f\"Sensitivity: {sensitivity:.4f}\")\n",
    "print(f\"Specificity: {specificity:.4f}\")"
   ]
  },
  {
   "cell_type": "code",
   "execution_count": 128,
   "metadata": {},
   "outputs": [
    {
     "name": "stderr",
     "output_type": "stream",
     "text": [
      "c:\\Users\\rajit\\anaconda3\\envs\\ml_env\\lib\\site-packages\\scipy\\interpolate\\_interpolate.py:479: RuntimeWarning: divide by zero encountered in divide\n",
      "  slope = (y_hi - y_lo) / (x_hi - x_lo)[:, None]\n",
      "c:\\Users\\rajit\\anaconda3\\envs\\ml_env\\lib\\site-packages\\scipy\\interpolate\\_interpolate.py:482: RuntimeWarning: invalid value encountered in multiply\n",
      "  y_new = slope*(x_new - x_lo)[:, None] + y_lo\n"
     ]
    },
    {
     "data": {
      "image/png": "[encoded data removed]",
      "text/plain": [
       "<Figure size 800x600 with 1 Axes>"
      ]
     },
     "metadata": {},
     "output_type": "display_data"
    }
   ],
   "source": [
    "from scipy.interpolate import interp1d\n",
    "\n",
    "def decision_scores(X):\n",
    "    # Convert to numpy array if it's a DataFrame\n",
    "    if hasattr(X, 'to_numpy'):\n",
    "        X = X.to_numpy()\n",
    "    elif hasattr(X, 'values'):\n",
    "        X = X.values\n",
    "    \n",
    "    # Calculate distances to each cluster center\n",
    "    # Reshape X to (n_samples, 1, n_features) for broadcasting\n",
    "    X_reshaped = X.reshape(X.shape[0], 1, -1)\n",
    "    centers = kmeans.cluster_centers_.reshape(1, -1, X.shape[1])\n",
    "    \n",
    "    distances = np.linalg.norm(X_reshaped - centers, axis=2)\n",
    "    \n",
    "    # Return score as difference in distances\n",
    "    return distances[:, 0] - distances[:, 1]\n",
    "\n",
    "# Compute decision scores\n",
    "scores = decision_scores(X_test)\n",
    "\n",
    "# ROC Curve calculation\n",
    "fpr, tpr, thresholds = roc_curve(y_test, scores)\n",
    "roc_auc = auc(fpr, tpr)\n",
    "\n",
    "# Interpolating to smoothen the curve\n",
    "x_smooth = np.linspace(0, 1, 500)  # Create finer points for smoothing\n",
    "fpr_interpolator = interp1d(fpr, tpr, kind='linear', fill_value=\"extrapolate\")\n",
    "tpr_smooth = fpr_interpolator(x_smooth)\n",
    "\n",
    "# Plotting the smoothed ROC Curve\n",
    "plt.figure(figsize=(8, 6))\n",
    "plt.plot(x_smooth, tpr_smooth, color='blue', label=f'Smoothed ROC curve (area = {roc_auc:.2f})')\n",
    "plt.plot([0, 1], [0, 1], color='gray', linestyle='--', label='Random classifier')\n",
    "plt.xlabel('False Positive Rate')\n",
    "plt.ylabel('True Positive Rate')\n",
    "plt.title('ROC Curve Based on Cluster Distance Scores')\n",
    "plt.legend(loc='lower right')\n",
    "plt.grid(True)\n",
    "plt.show()"
   ]
  }
 ],
 "metadata": {
  "kernelspec": {
   "display_name": "ml_env",
   "language": "python",
   "name": "python3"
  },
  "language_info": {
   "codemirror_mode": {
    "name": "ipython",
    "version": 3
   },
   "file_extension": ".py",
   "mimetype": "text/x-python",
   "name": "python",
   "nbconvert_exporter": "python",
   "pygments_lexer": "ipython3",
   "version": "3.10.16"
  }
 },
 "nbformat": 4,
 "nbformat_minor": 2
}
