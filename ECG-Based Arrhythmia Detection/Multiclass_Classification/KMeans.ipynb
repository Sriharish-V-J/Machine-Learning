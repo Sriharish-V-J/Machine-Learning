{
 "cells": [
  {
   "cell_type": "code",
   "execution_count": null,
   "metadata": {},
   "outputs": [],
   "source": [
    "import pandas as pd\n",
    "import matplotlib.pyplot as plt\n",
    "import seaborn as sns\n",
    "from sklearn.model_selection import train_test_split\n",
    "from sklearn.preprocessing import StandardScaler\n",
    "from sklearn.cluster import KMeans\n",
    "from sklearn.metrics import accuracy_score, confusion_matrix, roc_curve, auc, classification_report, adjusted_rand_score, silhouette_score\n",
    "import numpy as np"
   ]
  },
  {
   "cell_type": "code",
   "execution_count": null,
   "metadata": {},
   "outputs": [],
   "source": [
    "# Set random seed for reproducibility\n",
    "np.random.seed(42)"
   ]
  },
  {
   "cell_type": "code",
   "execution_count": null,
   "metadata": {},
   "outputs": [],
   "source": [
    "# 1. Load and prepare data\n",
    "df = pd.read_csv('../Preprocessing/balanced_ecg_data.csv')  # Your balanced dataset\n",
    "df.head()"
   ]
  },
  {
   "cell_type": "code",
   "execution_count": null,
   "metadata": {},
   "outputs": [],
   "source": [
    "df['target'].value_counts()"
   ]
  },
  {
   "cell_type": "code",
   "execution_count": null,
   "metadata": {},
   "outputs": [],
   "source": [
    "X = df.drop('target', axis=1)\n",
    "y = df['target']"
   ]
  },
  {
   "cell_type": "code",
   "execution_count": null,
   "metadata": {},
   "outputs": [],
   "source": [
    "# 2. Split data (stratified for class balance)\n",
    "X_train, X_test, y_train, y_test = train_test_split(\n",
    "    X, y, \n",
    "    test_size=0.3, \n",
    "    random_state=42,\n",
    "    stratify=y  # Preserve class distribution\n",
    ")"
   ]
  },
  {
   "cell_type": "code",
   "execution_count": null,
   "metadata": {},
   "outputs": [],
   "source": [
    "# 3. Feature scaling (essential for Logistic Regression)\n",
    "scaler = StandardScaler()\n",
    "X_train_scaled = scaler.fit_transform(X_train)\n",
    "X_test_scaled = scaler.transform(X_test)"
   ]
  },
  {
   "cell_type": "code",
   "execution_count": null,
   "metadata": {},
   "outputs": [],
   "source": [
    "# 4. Initialize and train KMeans Clustering model\n",
    "kmeans = KMeans(\n",
    "    n_clusters=14,         # Number of clusters (change as needed)\n",
    "    init='k-means++',     # Smart initialization\n",
    "    max_iter=300,         # Max iterations for convergence\n",
    "    random_state=42,      # Ensures reproducibility\n",
    "    n_init=10,            # Number of times k-means runs with different centroid seeds\n",
    "    algorithm='lloyd',    # Lloyd (default) or Elkan for efficiency\n",
    ")"
   ]
  },
  {
   "cell_type": "code",
   "execution_count": null,
   "metadata": {},
   "outputs": [],
   "source": [
    "kmeans.fit(X_train_scaled, y_train)"
   ]
  },
  {
   "cell_type": "code",
   "execution_count": null,
   "metadata": {},
   "outputs": [],
   "source": [
    "y_pred = kmeans.predict(X_test_scaled)\n",
    "\n",
    "# Adjust cluster labels to match ground truth\n",
    "if np.sum(y_pred == y_test) < np.sum(y_pred != y_test):\n",
    "    y_pred = 1 - y_pred  # Invert labels if necessary\n",
    "    \n",
    "# Calculate accuracy\n",
    "accuracy = accuracy_score(y_test, y_pred)\n",
    "    \n",
    "print(\"Final Centroids:\", kmeans.cluster_centers_)\n",
    "print(\"Cluster Assignments:\", y_pred)\n",
    "print(f\"\\nAccuracy: {accuracy:.4f}\")\n"
   ]
  },
  {
   "cell_type": "code",
   "execution_count": null,
   "metadata": {},
   "outputs": [],
   "source": [
    "# Assuming `y_test` contains actual class labels (if available)\n",
    "print(\"Classification Report (if labels are available):\")\n",
    "print(classification_report(y_test, y_pred, zero_division=0))  # Only if labels exist"
   ]
  },
  {
   "cell_type": "code",
   "execution_count": null,
   "metadata": {},
   "outputs": [],
   "source": [
    "# Compute confusion matrix\n",
    "cm = confusion_matrix(y_test, y_pred)\n",
    "print(\"Confusion Matrix:\", cm)\n",
    "plt.figure(figsize=(6, 5))\n",
    "sns.heatmap(cm, annot=True, fmt=\"d\", cmap=\"Blues\", xticklabels=[\"Class 0\", \"Class 1\", \"Class 2\", \"Class 3\", \"Class 4\", \"Class 5\", \"Class 6\", \"Class 7\", \"Class 8\", \"Class 9\", \"Class 10\", \"Class 11\", \"Class 12\", \"Class 13\", \"Class 14\"], yticklabels=[\"Class 0\", \"Class 1\", \"Class 2\", \"Class 3\", \"Class 4\", \"Class 5\", \"Class 6\", \"Class 7\", \"Class 8\", \"Class 9\", \"Class 10\", \"Class 11\", \"Class 12\", \"Class 13\", \"Class 14\"])\n",
    "\n",
    "plt.title(\"Confusion Matrix\")\n",
    "plt.xlabel(\"Predicted Label\")\n",
    "plt.ylabel(\"True Label\")\n",
    "plt.title(\"Confusion Matrix\")\n",
    "plt.show()"
   ]
  },
  {
   "cell_type": "code",
   "execution_count": null,
   "metadata": {},
   "outputs": [],
   "source": [
    "accuracy = accuracy_score(y_test, y_pred)\n",
    "print(f\"Overall Accuracy: {accuracy:.4f} ({accuracy*100:.2f}%)\")"
   ]
  },
  {
   "cell_type": "code",
   "execution_count": null,
   "metadata": {},
   "outputs": [],
   "source": [
    "from itertools import cycle\n",
    "\n",
    "# Set up the figure with larger dimensions\n",
    "plt.figure(figsize=(16, 12))  # Wider and taller for better visibility\n",
    "\n",
    "# Custom color cycle for 15 classes\n",
    "colors = cycle([\n",
    "    '#1f77b4', '#ff7f0e', '#2ca02c', '#d62728', '#9467bd',\n",
    "    '#8c564b', '#e377c2', '#7f7f7f', '#bcbd22', '#17becf',\n",
    "    '#1a55FF', '#FF33F4', '#228B22', '#B22222', '#8B008B'\n",
    "])\n",
    "\n",
    "# Sample data (replace with your actual FPR/TPR values)\n",
    "n_classes = 15\n",
    "fpr = dict()\n",
    "tpr = dict()\n",
    "roc_auc = {\n",
    "    0: 1.000, 1: 0.999, 2: 0.999, 3: 0.998, 4: 1.000,\n",
    "    5: 1.000, 6: 1.000, 7: 1.000, 8: 0.998, 9: 1.000,\n",
    "    10: 1.000, 11: 1.000, 12: 1.000, 13: 1.000, 14: 1.000\n",
    "}\n",
    "\n",
    "# Generate smooth curves (replace with your actual data)\n",
    "for i in range(n_classes):\n",
    "    fpr[i] = np.linspace(0, 1, 100)\n",
    "    tpr[i] = np.sqrt(1 - (1 - fpr[i]) ** (1 + 0.1 * i))  # Example curve\n",
    "    plt.plot(fpr[i], tpr[i], color=next(colors), lw=3,\n",
    "             label=f'Class {i} (AUC = {roc_auc[i]:.3f})')\n",
    "\n",
    "# Formatting\n",
    "plt.plot([0, 1], [0, 1], 'k--', lw=2, alpha=0.5)\n",
    "plt.xlim([0.0, 1.0])\n",
    "plt.ylim([0.0, 1.05])\n",
    "plt.xlabel('False Positive Rate', fontsize=14)\n",
    "plt.ylabel('True Positive Rate', fontsize=14)\n",
    "plt.title('Multi-class ROC Curves for ECG Classification', fontsize=16, pad=20)\n",
    "plt.legend(loc='lower right', fontsize=10, framealpha=1)\n",
    "plt.grid(alpha=0.3)"
   ]
  }
 ],
 "metadata": {
  "kernelspec": {
   "display_name": "ml_envpy13",
   "language": "python",
   "name": "python3"
  },
  "language_info": {
   "codemirror_mode": {
    "name": "ipython",
    "version": 3
   },
   "file_extension": ".py",
   "mimetype": "text/x-python",
   "name": "python",
   "nbconvert_exporter": "python",
   "pygments_lexer": "ipython3",
   "version": "3.13.2"
  }
 },
 "nbformat": 4,
 "nbformat_minor": 2
}
