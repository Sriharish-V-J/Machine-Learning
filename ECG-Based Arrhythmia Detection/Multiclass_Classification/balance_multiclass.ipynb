{
 "cells": [
  {
   "cell_type": "code",
   "execution_count": 2,
   "metadata": {},
   "outputs": [
    {
     "name": "stdout",
     "output_type": "stream",
     "text": [
      "Collecting imblearn\n",
      "  Downloading imblearn-0.0-py2.py3-none-any.whl.metadata (355 bytes)\n",
      "Collecting imbalanced-learn (from imblearn)\n",
      "  Using cached imbalanced_learn-0.13.0-py3-none-any.whl.metadata (8.8 kB)\n",
      "Requirement already satisfied: numpy<3,>=1.24.3 in c:\\users\\darshan\\appdata\\local\\programs\\python\\python310\\lib\\site-packages (from imbalanced-learn->imblearn) (1.26.4)\n",
      "Requirement already satisfied: scipy<2,>=1.10.1 in c:\\users\\darshan\\appdata\\local\\programs\\python\\python310\\lib\\site-packages (from imbalanced-learn->imblearn) (1.13.1)\n",
      "Requirement already satisfied: scikit-learn<2,>=1.3.2 in c:\\users\\darshan\\appdata\\local\\programs\\python\\python310\\lib\\site-packages (from imbalanced-learn->imblearn) (1.6.0)\n",
      "Collecting sklearn-compat<1,>=0.1 (from imbalanced-learn->imblearn)\n",
      "  Using cached sklearn_compat-0.1.3-py3-none-any.whl.metadata (18 kB)\n",
      "Requirement already satisfied: joblib<2,>=1.1.1 in c:\\users\\darshan\\appdata\\local\\programs\\python\\python310\\lib\\site-packages (from imbalanced-learn->imblearn) (1.4.2)\n",
      "Requirement already satisfied: threadpoolctl<4,>=2.0.0 in c:\\users\\darshan\\appdata\\local\\programs\\python\\python310\\lib\\site-packages (from imbalanced-learn->imblearn) (3.5.0)\n",
      "Downloading imblearn-0.0-py2.py3-none-any.whl (1.9 kB)\n",
      "Using cached imbalanced_learn-0.13.0-py3-none-any.whl (238 kB)\n",
      "Using cached sklearn_compat-0.1.3-py3-none-any.whl (18 kB)\n",
      "Installing collected packages: sklearn-compat, imbalanced-learn, imblearn\n",
      "Successfully installed imbalanced-learn-0.13.0 imblearn-0.0 sklearn-compat-0.1.3\n"
     ]
    }
   ],
   "source": [
    "!pip install imblearn"
   ]
  },
  {
   "cell_type": "code",
   "execution_count": 7,
   "metadata": {},
   "outputs": [
    {
     "name": "stdout",
     "output_type": "stream",
     "text": [
      "target\n",
      "8     367\n",
      "3     367\n",
      "13    367\n",
      "2     367\n",
      "4     367\n",
      "5     367\n",
      "14    367\n",
      "6     367\n",
      "10    367\n",
      "1     367\n",
      "11    367\n",
      "7     367\n",
      "0     367\n",
      "12    367\n",
      "9     367\n",
      "Name: count, dtype: int64\n",
      "(5505, 30)\n"
     ]
    }
   ],
   "source": [
    "import pandas as pd\n",
    "import numpy as np\n",
    "from imblearn.over_sampling import SMOTE\n",
    "from sklearn.utils import resample\n",
    "\n",
    "def balance_to_majority(df, target_col='target', majority_class=8, random_state=42):\n",
    "    \"\"\"\n",
    "    Oversamples all minority classes to match the majority class count (367 samples)\n",
    "    \n",
    "    Parameters:\n",
    "    - df: Input DataFrame with features and target\n",
    "    - target_col: Name of your target column (default: 'target')\n",
    "    - majority_class: The class with maximum samples (default: 8)\n",
    "    - random_state: For reproducibility\n",
    "    \n",
    "    Returns:\n",
    "    - DataFrame with all classes having 367 samples\n",
    "    \"\"\"\n",
    "    \n",
    "    X = df.drop(columns=[target_col])\n",
    "    y = df[target_col]\n",
    "    \n",
    "    # Get majority class count\n",
    "    majority_count = y.value_counts()[majority_class]\n",
    "    \n",
    "    # Separate majority class\n",
    "    df_majority = df[df[target_col] == majority_class]\n",
    "    \n",
    "    # Initialize list to store resampled classes\n",
    "    dfs_resampled = [df_majority]\n",
    "    \n",
    "    # Process each minority class\n",
    "    for class_label in y.unique():\n",
    "        if class_label == majority_class:\n",
    "            continue\n",
    "            \n",
    "        df_class = df[df[target_col] == class_label]\n",
    "        n_samples = len(df_class)\n",
    "        \n",
    "        # Case 1: Class has 0 or 1 samples (can't use SMOTE)\n",
    "        if n_samples <= 1:\n",
    "            # Simple duplication with slight noise\n",
    "            duplicated = [df_class.copy() for _ in range(majority_count)]\n",
    "            df_resampled = pd.concat(duplicated, ignore_index=True)\n",
    "            \n",
    "            # Add small noise to avoid perfect duplicates\n",
    "            for col in X.columns:\n",
    "                if pd.api.types.is_numeric_dtype(df_resampled[col]):\n",
    "                    df_resampled[col] += np.random.normal(0, 0.01, size=len(df_resampled))\n",
    "                    \n",
    "        # Case 2: Class has enough samples for SMOTE (>=2)\n",
    "        else:\n",
    "            smote = SMOTE(sampling_strategy={class_label: majority_count},\n",
    "                         k_neighbors=min(n_samples-1, 5),  # Safe k_neighbors\n",
    "                         random_state=random_state)\n",
    "            \n",
    "            X_res, y_res = smote.fit_resample(X, y)\n",
    "            df_resampled = pd.DataFrame(X_res, columns=X.columns)\n",
    "            df_resampled[target_col] = y_res\n",
    "            df_resampled = df_resampled[df_resampled[target_col] == class_label]\n",
    "        \n",
    "        dfs_resampled.append(df_resampled)\n",
    "    \n",
    "    # Combine all classes\n",
    "    balanced_df = pd.concat(dfs_resampled, ignore_index=True)\n",
    "    \n",
    "    return balanced_df\n",
    "\n",
    "# Usage:\n",
    "df = pd.read_csv(r'D:\\Machine-Learning\\ECG-Based Arrhythmia Detection\\Preprocessing\\PCA_Transformed.csv')\n",
    "balanced_df = balance_to_majority(df)\n",
    "print(balanced_df['target'].value_counts())\n",
    "print(balanced_df.shape)"
   ]
  },
  {
   "cell_type": "code",
   "execution_count": 8,
   "metadata": {},
   "outputs": [],
   "source": [
    "balanced_df.to_csv('balanced_ecg_data.csv', index=False)"
   ]
  }
 ],
 "metadata": {
  "kernelspec": {
   "display_name": "Python 3",
   "language": "python",
   "name": "python3"
  },
  "language_info": {
   "codemirror_mode": {
    "name": "ipython",
    "version": 3
   },
   "file_extension": ".py",
   "mimetype": "text/x-python",
   "name": "python",
   "nbconvert_exporter": "python",
   "pygments_lexer": "ipython3",
   "version": "3.10.11"
  }
 },
 "nbformat": 4,
 "nbformat_minor": 2
}
